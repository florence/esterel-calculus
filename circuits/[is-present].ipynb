{
 "cells": [
  {
   "cell_type": "code",
   "execution_count": 1,
   "metadata": {
    "collapsed": true
   },
   "outputs": [],
   "source": [
    "(require circuitous\n",
    "         esterel-calculus/circuits/compiler\n",
    "         redex/reduction-semantics)"
   ]
  },
  {
   "cell_type": "markdown",
   "metadata": {},
   "source": [
    "Some possibly helpful laws:\n",
    "\n",
    "- Posulate 1: `¬( GO ∨ (RES ∧ SEL))` implies all `E'` is `0` and all `kn` are `0`.\n",
    "- - Correlary 1: This holds for `¬(GO ∨ SEL)`\n",
    "- - Correlary 2: This holds for `¬(GO ∨ RES)`\n",
    "- Postulate 2: forall `n` `m`, `m != n`, `¬ (kn ^ km)`, that is at most one `k` wire is selected. (Note: This might be wrong, if GO is given to a selected and resumed pause... this should not be allowed but im not sure...)\n"
   ]
  },
  {
   "cell_type": "code",
   "execution_count": 2,
   "metadata": {
    "collapsed": true
   },
   "outputs": [],
   "source": [
    "(define p\n",
    "  (circuit\n",
    "   #:inputs (p_SEL p_K0 p_Kn)\n",
    "   #:outputs (SEL K0 Kn)\n",
    "   (SEL = p_SEL)\n",
    "   (K0 = p_K0)\n",
    "   (Kn = p_Kn)))"
   ]
  },
  {
   "cell_type": "code",
   "execution_count": 3,
   "metadata": {},
   "outputs": [
    {
     "name": "stderr",
     "output_type": "stream",
     "text": [
      "subprocess: `execute' access denied for /Users/florence/playground/rosette/rosette/solver/smt/../../../bin/z3\n",
      "  context...:\n",
      "   /Users/florence/playground/rosette/rosette/solver/smt/server.rkt:58:0: server-start\n",
      "   /Users/florence/playground/rosette/rosette/solver/smt/z3.rkt:60:3: solver-clear\n",
      "   /Users/florence/playground/rosette/rosette/query/core.rkt:54:0: ∃-solve\n",
      "   /Users/florence/work/circuitous/circuitous-lib/circuitous/private/interp-unit.rkt:230:2: verify/f\n",
      "   /Users/florence/playground/rosette/rosette/base/core/bool.rkt:319:0: evaluate-with-asserts\n",
      "   /Users/florence/work/circuitous/circuitous-lib/circuitous/private/interp-unit.rkt:117:2: verify-same/multi\n",
      "   /Users/florence/work/circuitous/circuitous-lib/circuitous/interp.rkt:103:0: assert-same\n",
      "   eval-one-top\n",
      "   /Applications/Racket/racket/share/pkgs/sandbox-lib/racket/sandbox.rkt:510:0: call-with-custodian-shutdown\n",
      "   /Applications/Racket/racket/collects/racket/private/more-scheme.rkt:148:2: call-with-break-parameterization\n",
      "   .../more-scheme.rkt:261:28\n",
      "   /Applications/Racket/racket/share/pkgs/sandbox-lib/racket/sandbox.rkt:878:5: loop\n"
     ]
    }
   ],
   "source": [
    "(define start\n",
    "  (circuit\n",
    "   #:inputs (GO S RES p_SEL p_K0 p_Kn q_SEL q_K0 q_Kn)\n",
    "   #:outputs (SEL K0 Kn)\n",
    "   ;; p\n",
    "   (p_GO = (and GO S))\n",
    "   (p_RES = RES)\n",
    "   ;; these wires are not needed for the proof, and are never read so we can \n",
    "   ;; ignore them\n",
    "   ;(p_SUSP = SUSP)\n",
    "   ;(p_KILL = KILL)\n",
    "   ;; q\n",
    "   (q_GO = (and GO (not S)))\n",
    "   (q_RES = RES)\n",
    "   ;; these wires are not needed for the proof, and are never read so we can \n",
    "   ;; ignore them\n",
    "   ;(q_SUSP = SUSP)\n",
    "   ;(q_KILL = KILL)\n",
    "   ;; out\n",
    "   (SEL = (or p_SEL q_SEL))\n",
    "   (K0 = (or p_K0 q_K0))\n",
    "   (Kn = (or p_Kn q_Kn))))\n",
    "\n",
    "(assert-same start \n",
    "              (rename\n",
    "               #:constraints #f\n",
    "               (compile-esterel (term (present Ss (nts pp 1) (nts q 1))))\n",
    "               '[Ss S]\n",
    "               '[pp-SEL p_SEL]\n",
    "               '[q-GO q_GO]\n",
    "               '[q-SEL q_SEL]\n",
    "               '[ppK0 p_K0]\n",
    "               '[qK0 q_K0]\n",
    "               '[ppK1 p_Kn]\n",
    "               '[qK1 q_Kn]\n",
    "               '[K1 Kn]))\n",
    "        "
   ]
  },
  {
   "cell_type": "markdown",
   "metadata": {},
   "source": [
    "By [S-consistent] we know that S is true. "
   ]
  },
  {
   "cell_type": "code",
   "execution_count": 4,
   "metadata": {},
   "outputs": [
    {
     "name": "stderr",
     "output_type": "stream",
     "text": [
      "subprocess: `execute' access denied for /Users/florence/playground/rosette/rosette/solver/smt/../../../bin/z3\n",
      "  context...:\n",
      "   /Users/florence/playground/rosette/rosette/solver/smt/server.rkt:58:0: server-start\n",
      "   /Users/florence/playground/rosette/rosette/solver/smt/z3.rkt:60:3: solver-clear\n",
      "   /Users/florence/playground/rosette/rosette/query/core.rkt:54:0: ∃-solve\n",
      "   /Users/florence/work/circuitous/circuitous-lib/circuitous/private/interp-unit.rkt:230:2: verify/f\n",
      "   /Users/florence/playground/rosette/rosette/base/core/bool.rkt:319:0: evaluate-with-asserts\n",
      "   /Users/florence/work/circuitous/circuitous-lib/circuitous/private/interp-unit.rkt:117:2: verify-same/multi\n",
      "   /Users/florence/work/circuitous/circuitous-lib/circuitous/interp.rkt:103:0: assert-same\n",
      "   eval-one-top\n",
      "   /Applications/Racket/racket/share/pkgs/sandbox-lib/racket/sandbox.rkt:693:3\n",
      "   /Applications/Racket/racket/share/pkgs/sandbox-lib/racket/sandbox.rkt:510:0: call-with-custodian-shutdown\n",
      "   /Applications/Racket/racket/collects/racket/private/more-scheme.rkt:148:2: call-with-break-parameterization\n",
      "   .../more-scheme.rkt:261:28\n",
      "   /Applications/Racket/racket/share/pkgs/sandbox-lib/racket/sandbox.rkt:878:5: loop\n"
     ]
    }
   ],
   "source": [
    "(assert-same\n",
    " #:constraints \n",
    " '(and \n",
    "   ;; by [S-consistent]\n",
    "   S (and \n",
    "   ;; by activation condition\n",
    "   (implies (not (or (and GO S) (and RES p_SEL)))\n",
    "            (and (not p_K0) (not p_Kn))) (and\n",
    "   (implies (not (or (and GO (not S)) (and RES q_SEL)))\n",
    "            (and (not q_K0) (not q_Kn))) (and \n",
    "   ;; by [sel-start]\n",
    "   (not q_SEL) (and \n",
    "   ;; by [sel-defined]\n",
    "   (or p_SEL (not p_SEL))\n",
    "   (or q_SEL (not q_SEL)))))))\n",
    " start p)\n",
    "\n",
    "(define add-S\n",
    "  (replace \n",
    "   #:constraints 'S\n",
    "   start\n",
    "   '[S true]))"
   ]
  },
  {
   "cell_type": "code",
   "execution_count": null,
   "metadata": {
    "collapsed": true
   },
   "outputs": [],
   "source": []
  }
 ],
 "metadata": {
  "kernelspec": {
   "display_name": "Racket",
   "language": "racket",
   "name": "racket"
  },
  "language_info": {
   "codemirror_mode": "scheme",
   "file_extension": ".rkt",
   "mimetype": "text/x-racket",
   "name": "Racket",
   "pygments_lexer": "racket",
   "version": "7.6.0.6"
  }
 },
 "nbformat": 4,
 "nbformat_minor": 2
}
