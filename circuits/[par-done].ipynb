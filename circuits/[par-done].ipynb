{
 "cells": [
  {
   "cell_type": "code",
   "execution_count": 14,
   "metadata": {
    "collapsed": true
   },
   "outputs": [],
   "source": [
    "(require circuitous\n",
    "         esterel-calculus/circuits/compiler\n",
    "         redex/reduction-semantics\n",
    "         racket/pretty)"
   ]
  },
  {
   "cell_type": "markdown",
   "metadata": {},
   "source": [
    "Some possibly helpful laws:\n",
    "\n",
    "- Posulate 1: `¬( GO ∨ (RES ∧ SEL))` implies all `E'` is `0` and all `kn` are `0`.\n",
    "- - Correlary 1: This holds for `¬(GO ∨ SEL)`\n",
    "- - Correlary 2: This holds for `¬(GO ∨ RES)`\n",
    "- Postulate 2: forall `n` `m`, `m != n`, `¬ (kn ^ km)`, that is at most one `k` wire is selected. (Note: This might be wrong, if GO is given to a selected and resumed pause... this should not be allowed but im not sure...)\n"
   ]
  },
  {
   "cell_type": "code",
   "execution_count": 5,
   "metadata": {},
   "outputs": [],
   "source": [
    "(define start\n",
    "  (circuit\n",
    "   #:inputs (GO RES rsel r0)\n",
    "   #:outputs (SEL K0)\n",
    "   ;; these come from then othing\n",
    "   (l0 = GO)\n",
    "   (lsel = false)\n",
    "   ;; SEL\n",
    "   (SEL = (or lsel rsel))\n",
    "   ;; the synchonizer\n",
    "   (K0 = (and left0 (and right0 both0)))\n",
    "   (left0 = (or l0 lem))\n",
    "   (right0 = (or r0 rem))\n",
    "   (lem = (and SEL (and RES (not lsel))))\n",
    "   (rem = (and SEL (and RES (not rsel))))\n",
    "   (both0 = (or l0 r0))))\n",
    "\n"
   ]
  },
  {
   "cell_type": "code",
   "execution_count": 9,
   "metadata": {},
   "outputs": [],
   "source": [
    "(assert-same \n",
    " start\n",
    " (rename\n",
    "   #:constraints #f\n",
    "   (compile-esterel (term (par nothing (nts p 0))))\n",
    "  '(p-SEL rsel)\n",
    "  '(pK0 r0)))"
   ]
  },
  {
   "cell_type": "code",
   "execution_count": 35,
   "metadata": {},
   "outputs": [],
   "source": [
    "(assert-same \n",
    " #:constraints '(and\n",
    "                 ;; by [sel-defined]\n",
    "                 (or SEL (not SEL))\n",
    "                 ;; by  [activation-condition]\n",
    "                     (implies (not (or GO (and RES SEL)))\n",
    "                              (not K0)))\n",
    " start\n",
    "             (circuit\n",
    "              #:inputs (r0 rsel)\n",
    "              #:outputs (K0 SEL)\n",
    "              (K0 = r0) (SEL = rsel)))"
   ]
  },
  {
   "cell_type": "code",
   "execution_count": null,
   "metadata": {
    "collapsed": true
   },
   "outputs": [],
   "source": []
  },
  {
   "cell_type": "code",
   "execution_count": null,
   "metadata": {
    "collapsed": true
   },
   "outputs": [],
   "source": []
  }
 ],
 "metadata": {
  "kernelspec": {
   "display_name": "Racket",
   "language": "racket",
   "name": "racket"
  },
  "language_info": {
   "codemirror_mode": "scheme",
   "file_extension": ".rkt",
   "mimetype": "text/x-racket",
   "name": "Racket",
   "pygments_lexer": "racket",
   "version": "7.4.0.10"
  }
 },
 "nbformat": 4,
 "nbformat_minor": 2
}
