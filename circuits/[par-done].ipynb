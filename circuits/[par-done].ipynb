{
 "cells": [
  {
   "cell_type": "code",
   "execution_count": 1,
   "metadata": {
    "collapsed": true
   },
   "outputs": [],
   "source": [
    "(require esterel-calculus/circuits \n",
    "         esterel-calculus/circuits/compiler\n",
    "         redex/reduction-semantics)"
   ]
  },
  {
   "cell_type": "markdown",
   "metadata": {},
   "source": [
    "Some possibly helpful laws:\n",
    "\n",
    "- Posulate 1: `¬( GO ∨ (RES ∧ SEL))` implies all `E'` is `0` and all `kn` are `0`.\n",
    "- - Correlary 1: This holds for `¬(GO ∨ SEL)`\n",
    "- - Correlary 2: This holds for `¬(GO ∨ RES)`\n",
    "- Postulate 2: forall `n` `m`, `m != n`, `¬ (kn ^ km)`, that is at most one `k` wire is selected. (Note: This might be wrong, if GO is given to a selected and resumed pause... this should not be allowed but im not sure...)\n"
   ]
  },
  {
   "cell_type": "code",
   "execution_count": 2,
   "metadata": {},
   "outputs": [
    {
     "name": "stdout",
     "output_type": "stream",
     "text": [
      "(l0 = GO)\n",
      "(lsel = false)\n",
      "(SEL = (or lsel rsel))\n",
      "(K0 = (and left0 (and right0 both0)))\n",
      "(left0 = (or l0 lem))\n",
      "(right0 = (or r0 rem))\n",
      "(lem = (and SEL (and RES (not lsel))))\n",
      "(rem = (and SEL (and RES (not rsel))))\n",
      "(both0 = (or l0 r0))\n"
     ]
    }
   ],
   "source": [
    "(define/ppl start #:no-check\n",
    "  (\n",
    "   ;; these come from then othing\n",
    "   (l0 = GO)\n",
    "   (lsel = false)\n",
    "   ;; SEL\n",
    "   (SEL = (or lsel rsel))\n",
    "   ;; the synchonizer\n",
    "   (K0 = (and left0 (and right0 both0)))\n",
    "   (left0 = (or l0 lem))\n",
    "   (right0 = (or r0 rem))\n",
    "   (lem = (and SEL (and RES (not lsel))))\n",
    "   (rem = (and SEL (and RES (not rsel))))\n",
    "   (both0 = (or l0 r0))))\n",
    "\n"
   ]
  },
  {
   "cell_type": "code",
   "execution_count": 28,
   "metadata": {},
   "outputs": [],
   "source": [
    "(assert-same \n",
    " #:outputs '(K0 SEL)\n",
    " (term start) \n",
    " (term \n",
    "  (rename*\n",
    "   (rename*\n",
    "         (compile-esterel (par nothing (nts p 0)))\n",
    "         p-SEL rsel)\n",
    "   pK0 r0)))"
   ]
  },
  {
   "cell_type": "code",
   "execution_count": 4,
   "metadata": {},
   "outputs": [
    {
     "name": "stderr",
     "output_type": "stream",
     "text": [
      "assert-same: rosette model gave counterexample:\n",
      "(model\n",
      " [pos-GO$2 #f]\n",
      " [neg-GO$3 #f]\n",
      " [pos-rsel$2 #f]\n",
      " [neg-rsel$3 #f]\n",
      " [pos-r0$2 #f]\n",
      " [neg-r0$3 #t]\n",
      " [pos-RES$2 #f]\n",
      " [neg-RES$3 #f])\n",
      "'(((K0 ⊥) (K0 #f)))\n",
      "'((l0 ⊥)\n",
      "  (lsel #f)\n",
      "  (SEL ⊥)\n",
      "  (K0 ⊥)\n",
      "  (left0 ⊥)\n",
      "  (right0 ⊥)\n",
      "  (lem ⊥)\n",
      "  (rem ⊥)\n",
      "  (both0 ⊥)\n",
      "  (GO ⊥)\n",
      "  (rsel ⊥)\n",
      "  (r0 #f)\n",
      "  (RES ⊥))\n",
      "'((K0 #f) (SEL ⊥) (GO ⊥) (rsel ⊥) (r0 #f) (RES ⊥))\n",
      "  context...:\n",
      "   eval-one-top12\n",
      "   /Applications/Racket/racket/share/pkgs/sandbox-lib/racket/sandbox.rkt:510:0: call-with-custodian-shutdown\n",
      "   /Applications/Racket/racket/collects/racket/private/more-scheme.rkt:148:2: call-with-break-parameterization\n",
      "   .../more-scheme.rkt:261:28\n",
      "   /Applications/Racket/racket/share/pkgs/sandbox-lib/racket/sandbox.rkt:878:5: loop\n"
     ]
    }
   ],
   "source": [
    "(assert-same (term start) (term ((K0 = r0) (SEL = rsel))))"
   ]
  },
  {
   "cell_type": "markdown",
   "metadata": {},
   "source": [
    "As we can see, this does not trivially hold. Thus we must reason it ourselves."
   ]
  },
  {
   "cell_type": "code",
   "execution_count": 5,
   "metadata": {},
   "outputs": [
    {
     "name": "stdout",
     "output_type": "stream",
     "text": [
      "((+ l0) = (+ GO))\n",
      "((- l0) = (- GO))\n",
      "((+ lsel) = false)\n",
      "((- lsel) = true)\n",
      "((+ SEL) = (or (+ lsel) (+ rsel)))\n",
      "((- SEL) = (and (- lsel) (- rsel)))\n",
      "((+ K0) = (and (+ left0) (and (+ right0) (+ both0))))\n",
      "((- K0) = (or (- left0) (or (- right0) (- both0))))\n",
      "((+ left0) = (or (+ l0) (+ lem)))\n",
      "((- left0) = (and (- l0) (- lem)))\n",
      "((+ right0) = (or (+ r0) (+ rem)))\n",
      "((- right0) = (and (- r0) (- rem)))\n",
      "((+ lem) = (and (+ SEL) (and (+ RES) (- lsel))))\n",
      "((- lem) = (or (- SEL) (or (- RES) (+ lsel))))\n",
      "((+ rem) = (and (+ SEL) (and (+ RES) (- rsel))))\n",
      "((- rem) = (or (- SEL) (or (- RES) (+ rsel))))\n",
      "((+ both0) = (or (+ l0) (+ r0)))\n",
      "((- both0) = (and (- l0) (- r0)))\n"
     ]
    }
   ],
   "source": [
    "(define/ppl translated #:no-check\n",
    "  (convert-P start))"
   ]
  },
  {
   "cell_type": "markdown",
   "metadata": {},
   "source": [
    "Step 1: By rules of `and` and `or`"
   ]
  },
  {
   "cell_type": "code",
   "execution_count": 6,
   "metadata": {},
   "outputs": [
    {
     "name": "stdout",
     "output_type": "stream",
     "text": [
      "((+ SEL) = (or false (+ rsel)))\n",
      "((- SEL) = (and true (- rsel)))\n",
      "((+ K0) = (and (+ left0) (and (+ right0) (+ both0))))\n",
      "((- K0) = (or (- left0) (or (- right0) (- both0))))\n",
      "((+ left0) = (or (+ GO) (+ lem)))\n",
      "((- left0) = (and (- GO) (- lem)))\n",
      "((+ right0) = (or (+ r0) (+ rem)))\n",
      "((- right0) = (and (- r0) (- rem)))\n",
      "((+ lem) = (and (+ SEL) (and (+ RES) true)))\n",
      "((- lem) = (or (- SEL) (or (- RES) false)))\n",
      "((+ rem) = (and (+ SEL) (and (+ RES) (- rsel))))\n",
      "((- rem) = (or (- SEL) (or (- RES) (+ rsel))))\n",
      "((+ both0) = (or (+ GO) (+ r0)))\n",
      "((- both0) = (and (- GO) (- r0)))\n"
     ]
    }
   ],
   "source": [
    "(define/ppl step0 #:no-check\n",
    " (propigate/remove* translated\n",
    "    (+ l0) (- l0) (+ lsel) (- lsel)))"
   ]
  },
  {
   "cell_type": "code",
   "execution_count": 7,
   "metadata": {},
   "outputs": [
    {
     "name": "stdout",
     "output_type": "stream",
     "text": [
      "((+ SEL) = (+ rsel))\n",
      "((- SEL) = (- rsel))\n",
      "((+ K0) = (and (+ left0) (and (+ right0) (+ both0))))\n",
      "((- K0) = (or (- left0) (or (- right0) (- both0))))\n",
      "((+ left0) = (or (+ GO) (+ lem)))\n",
      "((- left0) = (and (- GO) (- lem)))\n",
      "((+ right0) = (or (+ r0) (+ rem)))\n",
      "((- right0) = (and (- r0) (- rem)))\n",
      "((+ lem) = (and (+ SEL) (and (+ RES) true)))\n",
      "((- lem) = (or (- SEL) (or (- RES) false)))\n",
      "((+ rem) = (and (+ SEL) (and (+ RES) (- rsel))))\n",
      "((- rem) = (or (- SEL) (or (- RES) (+ rsel))))\n",
      "((+ both0) = (or (+ GO) (+ r0)))\n",
      "((- both0) = (and (- GO) (- r0)))\n"
     ]
    }
   ],
   "source": [
    "(define/ppl step1\n",
    "  replace* step0 \n",
    "  [(or false (+ rsel)) (+ rsel)]\n",
    "  [(and true (- rsel)) (- rsel)])"
   ]
  },
  {
   "cell_type": "code",
   "execution_count": 8,
   "metadata": {
    "scrolled": true
   },
   "outputs": [
    {
     "name": "stdout",
     "output_type": "stream",
     "text": [
      "((+ SEL) = (+ rsel))\n",
      "((- SEL) = (- rsel))\n",
      "((+ K0) = (and (+ left0) (and (+ right0) (+ both0))))\n",
      "((- K0) = (or (- left0) (or (- right0) (- both0))))\n",
      "((+ left0) = (or (+ GO) (+ lem)))\n",
      "((- left0) = (and (- GO) (- lem)))\n",
      "((+ right0) = (or (+ r0) (+ rem)))\n",
      "((- right0) = (and (- r0) (- rem)))\n",
      "((+ lem) = (and (+ SEL) (+ RES)))\n",
      "((- lem) = (or (- SEL) (- RES)))\n",
      "((+ rem) = (and (+ SEL) (and (+ RES) (- rsel))))\n",
      "((- rem) = (or (- SEL) (or (- RES) (+ rsel))))\n",
      "((+ both0) = (or (+ GO) (+ r0)))\n",
      "((- both0) = (and (- GO) (- r0)))\n"
     ]
    }
   ],
   "source": [
    "(define/ppl step-before-case\n",
    "  replace*\n",
    "  step1\n",
    "  [(and (+ RES) true) (+ RES)]\n",
    "  [(or (- RES) false) (- RES)])"
   ]
  },
  {
   "cell_type": "code",
   "execution_count": 9,
   "metadata": {},
   "outputs": [
    {
     "name": "stdout",
     "output_type": "stream",
     "text": [
      "((+ SEL) = (+ rsel))\n",
      "((- SEL) = (- rsel))\n",
      "((+ K0)\n",
      " =\n",
      " (and (or (+ GO) (+ lem)) (and (or (+ r0) (+ rem)) (or (+ GO) (+ r0)))))\n",
      "((- K0)\n",
      " =\n",
      " (or (and (- GO) (- lem)) (or (and (- r0) (- rem)) (and (- GO) (- r0)))))\n",
      "((+ lem) = (and (+ SEL) (+ RES)))\n",
      "((- lem) = (or (- SEL) (- RES)))\n",
      "((+ rem) = (and (+ SEL) (and (+ RES) (- rsel))))\n",
      "((- rem) = (or (- SEL) (or (- RES) (+ rsel))))\n"
     ]
    }
   ],
   "source": [
    "(define/ppl simp1\n",
    "  propigate/remove*\n",
    "  step-before-case\n",
    "  (+ both0) (- both0) \n",
    "  (+ left0) (- left0)\n",
    "  (+ right0) (- right0))"
   ]
  },
  {
   "cell_type": "code",
   "execution_count": 10,
   "metadata": {},
   "outputs": [
    {
     "name": "stdout",
     "output_type": "stream",
     "text": [
      "((+ SEL) = (+ rsel))\n",
      "((- SEL) = (- rsel))\n",
      "((+ K0)\n",
      " =\n",
      " (and (or (+ GO) (+ lem)) (and (or (+ r0) (+ rem)) (or (+ GO) (+ r0)))))\n",
      "((- K0)\n",
      " =\n",
      " (or (and (- GO) (- lem)) (or (and (- r0) (- rem)) (and (- GO) (- r0)))))\n",
      "((+ lem) = (and (+ rsel) (+ RES)))\n",
      "((- lem) = (or (- rsel) (- RES)))\n",
      "((+ rem) = (and (+ rsel) (and (+ RES) (- rsel))))\n",
      "((- rem) = (or (- rsel) (or (- RES) (+ rsel))))\n"
     ]
    }
   ],
   "source": [
    "(define/ppl simp2\n",
    "  propigate*\n",
    "  simp1\n",
    "  (+ SEL) (- SEL))"
   ]
  },
  {
   "cell_type": "code",
   "execution_count": 11,
   "metadata": {},
   "outputs": [
    {
     "name": "stdout",
     "output_type": "stream",
     "text": [
      "((+ SEL) = (+ rsel))\n",
      "((- SEL) = (- rsel))\n",
      "((+ K0) = (and (or (+ GO) (+ lem)) (or (+ r0) (and (+ rem) (+ GO)))))\n",
      "((- K0) = (or (and (- GO) (- lem)) (and (- r0) (or (- rem) (- GO)))))\n",
      "((+ lem) = (and (+ rsel) (+ RES)))\n",
      "((- lem) = (or (- rsel) (- RES)))\n",
      "((+ rem) = false)\n",
      "((- rem) = (or (- rsel) (or (- RES) (+ rsel))))\n"
     ]
    }
   ],
   "source": [
    "(define/ppl simp3\n",
    "  replace*\n",
    "  simp2\n",
    "  [(and (or (+ r0) (+ rem)) (or (+ GO) (+ r0)))\n",
    "   (or (+ r0) (and (+ rem) (+ GO)))]\n",
    "  [(or (and (- r0) (- rem)) (and (- GO) (- r0)))\n",
    "   (and (- r0) (or (- rem) (- GO)))]\n",
    "  [(and (+ rsel) (and (+ RES) (- rsel)))\n",
    "   false])"
   ]
  },
  {
   "cell_type": "code",
   "execution_count": 12,
   "metadata": {},
   "outputs": [
    {
     "name": "stdout",
     "output_type": "stream",
     "text": [
      "((+ SEL) = (+ rsel))\n",
      "((- SEL) = (- rsel))\n",
      "((+ K0)\n",
      " =\n",
      " (and (or (+ GO) (and (+ rsel) (+ RES))) (or (+ r0) (and false (+ GO)))))\n",
      "((- K0)\n",
      " =\n",
      " (or (and (- GO) (or (- rsel) (- RES)))\n",
      "     (and (- r0) (or (or (- rsel) (or (- RES) (+ rsel))) (- GO)))))\n"
     ]
    }
   ],
   "source": [
    "(define/ppl simp4\n",
    "  propigate/remove*\n",
    "  simp3\n",
    "  (+ lem) (- lem)\n",
    "  (+ rem) (- rem))"
   ]
  },
  {
   "cell_type": "code",
   "execution_count": 13,
   "metadata": {},
   "outputs": [
    {
     "name": "stdout",
     "output_type": "stream",
     "text": [
      "((+ SEL) = (+ rsel))\n",
      "((- SEL) = (- rsel))\n",
      "((+ K0) = (and (or (+ GO) (and (+ rsel) (+ RES))) (+ r0)))\n",
      "((- K0)\n",
      " =\n",
      " (or (and (- GO) (or (- rsel) (- RES)))\n",
      "     (and (- r0) (or (or (- rsel) (- RES)) (or (+ rsel) (- GO))))))\n"
     ]
    }
   ],
   "source": [
    "(define/ppl simp5\n",
    "  replace* simp4\n",
    "  [(or (+ r0) (and false (+ GO))) (+ r0)]\n",
    "  [(or (or (- rsel) (or (- RES) (+ rsel))) (- GO))\n",
    "   (or (or (- rsel) (- RES)) (or (+ rsel) (- GO)))])"
   ]
  },
  {
   "cell_type": "code",
   "execution_count": 14,
   "metadata": {},
   "outputs": [
    {
     "name": "stdout",
     "output_type": "stream",
     "text": [
      "((+ SEL) = (+ rsel))\n",
      "((- SEL) = (- rsel))\n",
      "((+ K0) = (and (+ r0) (or (+ GO) (and (+ rsel) (+ RES)))))\n",
      "((- K0)\n",
      " =\n",
      " (or (and (- GO) (or (- rsel) (- RES)))\n",
      "     (and (- r0) (or (or (- rsel) (- RES)) (or (+ rsel) (- GO))))))\n"
     ]
    }
   ],
   "source": [
    "(define/ppl simp6\n",
    "  replace* simp5\n",
    "  [(and (or (+ GO) (and (+ rsel) (+ RES))) (+ r0))\n",
    "   (and (+ r0) (or (+ GO) (and (+ rsel) (+ RES))))])\n",
    "   "
   ]
  },
  {
   "cell_type": "code",
   "execution_count": 15,
   "metadata": {},
   "outputs": [
    {
     "name": "stdout",
     "output_type": "stream",
     "text": [
      "((+ SEL) = (+ rsel))\n",
      "((- SEL) = (- rsel))\n",
      "((+ K0) = (and (+ r0) (or (+ GO) (and (+ rsel) (+ RES)))))\n",
      "((- K0)\n",
      " =\n",
      " (and (or (- GO) (or (- RES) (or (- rsel) (+ rsel))))\n",
      "      (and (or (- GO) (- r0)) (or (- rsel) (or (- RES) (- r0))))))\n"
     ]
    }
   ],
   "source": [
    "(define/ppl simp7\n",
    "  replace* simp6\n",
    "  [(or (and (- GO) (or (- rsel) (- RES)))\n",
    "       (and (- r0) (or (or (- rsel) (- RES)) (or (+ rsel) (- GO)))))\n",
    "   ;; CNF\n",
    "   (and (or (- GO) (or (- RES) (or (- rsel) (+ rsel))))\n",
    "        (and (or (- GO) (- r0)) \n",
    "             (or (- rsel) (or (- RES) (- r0)))))])"
   ]
  },
  {
   "cell_type": "code",
   "execution_count": 16,
   "metadata": {},
   "outputs": [
    {
     "name": "stdout",
     "output_type": "stream",
     "text": [
      "((+ SEL) = (+ rsel))\n",
      "((- SEL) = (- rsel))\n",
      "((+ K0) = (and (+ r0) (or (+ GO) (and (+ rsel) (+ RES)))))\n",
      "((- K0)\n",
      " =\n",
      " (and (or (- GO) (or (- RES) (or (- rsel) (+ rsel))))\n",
      "      (or (- r0) (and (- GO) (or (- rsel) (- RES))))))\n"
     ]
    }
   ],
   "source": [
    "(define/ppl simp8\n",
    "  replace* simp7\n",
    "  [(and (or (- GO) (- r0)) \n",
    "        (or (- rsel) (or (- RES) (- r0))))\n",
    "   (or (- r0)\n",
    "       (and (- GO) (or (- rsel) (- RES))))])\n",
    "   "
   ]
  },
  {
   "cell_type": "code",
   "execution_count": 17,
   "metadata": {},
   "outputs": [
    {
     "name": "stdout",
     "output_type": "stream",
     "text": [
      "((+ SEL) = (+ rsel))\n",
      "((- SEL) = (- rsel))\n",
      "((+ is-res) = (and (+ rsel) (+ RES)))\n",
      "((- is-res) = (or (- rsel) (- RES)))\n",
      "((+ active) = (or (+ GO) (+ is-res)))\n",
      "((- active) = (and (- GO) (- is-res)))\n",
      "((+ K0) = (and (+ r0) (+ active)))\n",
      "((- K0)\n",
      " =\n",
      " (and (or (- GO) (or (- RES) (or (- rsel) (+ rsel)))) (or (- r0) (- active))))\n"
     ]
    }
   ],
   "source": [
    "(define/ppl expanded #:no-check\n",
    " (((+ SEL) = (+ rsel))\n",
    "  ((- SEL) = (- rsel))\n",
    "  ((+ is-res) = (and (+ rsel) (+ RES)))\n",
    "  ((- is-res) = (or (- rsel) (- RES)))\n",
    "  ((+ active) = (or (+ GO) (+ is-res)))\n",
    "  ((- active) = (and (- GO) (- is-res)))\n",
    "  ((+ K0) = (and (+ r0) (+ active)))\n",
    "  ((- K0)\n",
    "   =\n",
    "   (and (or (- GO) (or (- RES) (or (- rsel) (+ rsel))))\n",
    "        (or (- r0) (- active))))))\n",
    "(assert-same (term expanded) (term simp8))"
   ]
  },
  {
   "cell_type": "markdown",
   "metadata": {},
   "source": [
    "Hypothesis 1: `(or (- SEL) (+ SEL))` is true for all circuits, (essientially, SEL is always defined). This gives us:\n",
    "\n",
    "```\n",
    "((+ K0) = (and (+ r0) (+ active)))\n",
    "((- K0) = (or (- r0) (- active))))\n",
    " ```\n",
    "\n",
    "or, in the construtive formulation\n",
    "\n",
    "```\n",
    "(K0 = (and r0 active))\n",
    "```.\n",
    "\n",
    "Theorem 1: `K0 => active` for all circuits: that is unless something is being resumed or initially activatd it cannot K0. This is follows from Posulate 1. \n",
    "\n",
    "Thus, if Hypothesis 1 holds, then K0 = R0, and we are done."
   ]
  },
  {
   "cell_type": "markdown",
   "metadata": {},
   "source": [
    "Hypothesis 1 can be proven trivally via induction on terms. However it requires the assumption that no register ever contains an undefined value. I believe is a sound assumption because if a register contains an undefined value it's input wire must have been undefined in the previous instant, thus we would have already errored and never reached that state.\n",
    "\n",
    "Thus we can apply the following transformation."
   ]
  },
  {
   "cell_type": "code",
   "execution_count": 18,
   "metadata": {},
   "outputs": [
    {
     "name": "stdout",
     "output_type": "stream",
     "text": [
      "((+ SEL) = (+ rsel))\n",
      "((- SEL) = (- rsel))\n",
      "((+ is-res) = (and (+ rsel) (+ RES)))\n",
      "((- is-res) = (or (- rsel) (- RES)))\n",
      "((+ active) = (or (+ GO) (+ is-res)))\n",
      "((- active) = (and (- GO) (- is-res)))\n",
      "((+ K0) = (+ r0))\n",
      "((- K0) = (and (or (- GO) (or (- RES) true)) (or (- r0) (- active))))\n"
     ]
    }
   ],
   "source": [
    "(define/ppl applying-thrms #:no-check\n",
    "  (replace* expanded\n",
    "   [(and (+ r0) (+ active)) (+ r0)]\n",
    "   [(or (- rsel) (+ rsel)) true]))"
   ]
  },
  {
   "cell_type": "code",
   "execution_count": 19,
   "metadata": {},
   "outputs": [
    {
     "name": "stdout",
     "output_type": "stream",
     "text": [
      "((+ SEL) = (+ rsel))\n",
      "((- SEL) = (- rsel))\n",
      "((+ is-res) = (and (+ rsel) (+ RES)))\n",
      "((- is-res) = (or (- rsel) (- RES)))\n",
      "((+ active) = (or (+ GO) (+ is-res)))\n",
      "((- active) = (and (- GO) (- is-res)))\n",
      "((+ K0) = (+ r0))\n",
      "((- K0) = (or (- r0) (- active)))\n"
     ]
    }
   ],
   "source": [
    "(define/ppl simplifying\n",
    "  replace* applying-thrms\n",
    "  [(or (- GO) (or (- RES) true)) true]\n",
    "  [(and true (or (- r0) (- active)))\n",
    "   (or (- r0) (- active))])"
   ]
  },
  {
   "cell_type": "code",
   "execution_count": 20,
   "metadata": {},
   "outputs": [
    {
     "name": "stdout",
     "output_type": "stream",
     "text": [
      "((+ SEL) = (+ rsel))\n",
      "((- SEL) = (- rsel))\n",
      "((+ K0) = (+ r0))\n",
      "((- K0) = (or (- r0) (and (- GO) (or (- rsel) (- RES)))))\n"
     ]
    }
   ],
   "source": [
    "(define/ppl subst\n",
    "  propigate/remove* simplifying\n",
    "  (+ is-res) (- is-res)\n",
    "  (+ active) (- active))"
   ]
  },
  {
   "cell_type": "markdown",
   "metadata": {},
   "source": [
    "`(and (- GO) (or (- rsel) (- RES)))` is the `+` part of `¬( GO ∨ (RES ∧ SEL))`:"
   ]
  },
  {
   "cell_type": "code",
   "execution_count": 21,
   "metadata": {},
   "outputs": [
    {
     "data": {
      "text/html": [
       "<code>'(and (- GO) (or (- RES) (- SEL)))</code>"
      ],
      "text/plain": [
       "'(and (- GO) (or (- RES) (- SEL)))"
      ]
     },
     "execution_count": 21,
     "metadata": {},
     "output_type": "execute_result"
    }
   ],
   "source": [
    "(term (convert-p + (not (or GO (and RES SEL)))))"
   ]
  },
  {
   "cell_type": "markdown",
   "metadata": {},
   "source": [
    "by Posulate 1, if `-k0` is false then `¬( GO ∨ (RES ∧ SEL))` cannot be true, as that would have set `-k0` to `1`. Thus the `+` part of `¬( GO ∨ (RES ∧ SEL))` must also be false. Thus `(or (- r0) (and (- GO) (or (- rsel) (- RES))))` is equal to `-r0`, as it is false if `-r0` is, and true if `-r0` is."
   ]
  },
  {
   "cell_type": "code",
   "execution_count": 22,
   "metadata": {},
   "outputs": [
    {
     "name": "stdout",
     "output_type": "stream",
     "text": [
      "((+ SEL) = (+ rsel))\n",
      "((- SEL) = (- rsel))\n",
      "((+ K0) = (+ r0))\n",
      "((- K0) = (- r0))\n"
     ]
    }
   ],
   "source": [
    "(define/ppl final #:no-check\n",
    "  (replace* subst\n",
    "   [(or (- r0) (and (- GO) (or (- rsel) (- RES)))) (- r0)]))"
   ]
  },
  {
   "cell_type": "markdown",
   "metadata": {},
   "source": [
    "We can follow the same chain of reasoning for any `kn` in `done`, thus we are done.\n",
    "\n",
    "# QED"
   ]
  },
  {
   "cell_type": "code",
   "execution_count": null,
   "metadata": {
    "collapsed": true
   },
   "outputs": [],
   "source": []
  },
  {
   "cell_type": "code",
   "execution_count": null,
   "metadata": {
    "collapsed": true
   },
   "outputs": [],
   "source": []
  }
 ],
 "metadata": {
  "kernelspec": {
   "display_name": "Racket",
   "language": "racket",
   "name": "racket"
  },
  "language_info": {
   "codemirror_mode": "scheme",
   "file_extension": ".rkt",
   "mimetype": "text/x-racket",
   "name": "Racket",
   "pygments_lexer": "racket",
   "version": "7.3.0.3"
  }
 },
 "nbformat": 4,
 "nbformat_minor": 2
}
