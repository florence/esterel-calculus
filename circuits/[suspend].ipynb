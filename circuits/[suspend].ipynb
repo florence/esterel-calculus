{
 "cells": [
  {
   "cell_type": "code",
   "execution_count": 1,
   "metadata": {
    "collapsed": true
   },
   "outputs": [],
   "source": [
    "(require circuitous\n",
    "         esterel-calculus/circuits/compiler\n",
    "         redex/reduction-semantics)"
   ]
  },
  {
   "cell_type": "markdown",
   "metadata": {},
   "source": [
    "# Case 1: stopped = nothing"
   ]
  },
  {
   "cell_type": "code",
   "execution_count": 2,
   "metadata": {},
   "outputs": [],
   "source": [
    "(define case1-start\n",
    "  (circuit\n",
    "   #:inputs (GO res S)\n",
    "   #:outputs (sel k0/n+2 k1)\n",
    "   (sel = false)\n",
    "   (k0/n+2 = GO)\n",
    "   (k1 = (or false res-o-S))\n",
    "   (res-o-S = (and res-o S))\n",
    "   (res-o = (and res sel))))"
   ]
  },
  {
   "cell_type": "code",
   "execution_count": 3,
   "metadata": {},
   "outputs": [],
   "source": [
    "(define case1-end\n",
    " (circuit\n",
    "  #:inputs (GO)\n",
    "  #:outputs (sel k1 k0/n+2)\n",
    "  (k0/n+2 = GO)\n",
    "  (sel = false)\n",
    "  (k1 = false)))"
   ]
  },
  {
   "cell_type": "code",
   "execution_count": 4,
   "metadata": {
    "collapsed": true
   },
   "outputs": [],
   "source": [
    "(assert-same case1-start case1-end)"
   ]
  },
  {
   "cell_type": "code",
   "execution_count": 5,
   "metadata": {
    "collapsed": true
   },
   "outputs": [],
   "source": [
    "(assert-same\n",
    " (compile-esterel (term (suspend nothing S)))\n",
    " (compile-esterel (term nothing)))\n",
    "\n",
    "(assert-same\n",
    " (compile-esterel (term (suspend (exit 2) S)))\n",
    " (compile-esterel (term (exit 2))))\n",
    "\n",
    "(assert-same\n",
    " (compile-esterel (term (suspend (exit 100) S)))\n",
    " (compile-esterel (term (exit 100))))"
   ]
  },
  {
   "cell_type": "code",
   "execution_count": null,
   "metadata": {
    "collapsed": true
   },
   "outputs": [],
   "source": []
  }
 ],
 "metadata": {
  "kernelspec": {
   "display_name": "Racket",
   "language": "racket",
   "name": "racket"
  },
  "language_info": {
   "codemirror_mode": "scheme",
   "file_extension": ".rkt",
   "mimetype": "text/x-racket",
   "name": "Racket",
   "pygments_lexer": "racket",
   "version": "7.4.0.10"
  }
 },
 "nbformat": 4,
 "nbformat_minor": 2
}
