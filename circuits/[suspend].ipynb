{
 "cells": [
  {
   "cell_type": "code",
   "execution_count": 1,
   "metadata": {
    "collapsed": true
   },
   "outputs": [],
   "source": [
    "(require esterel-calculus/circuits redex/reduction-semantics)"
   ]
  },
  {
   "cell_type": "markdown",
   "metadata": {},
   "source": [
    "# Case 1: stopped = nothing"
   ]
  },
  {
   "cell_type": "code",
   "execution_count": 2,
   "metadata": {},
   "outputs": [
    {
     "name": "stdout",
     "output_type": "stream",
     "text": [
      "(sel = false)\n",
      "(k0/n+2 = GO)\n",
      "(k1 = (or false res-o-S))\n",
      "(res-o-S = (and res-o S))\n",
      "(res-o = (and res sel))\n"
     ]
    }
   ],
   "source": [
    "(define/ppl case1-start #:no-check\n",
    "  ((sel = false)\n",
    "   (k0/n+2 = GO)\n",
    "   (k1 = (or false res-o-S))\n",
    "   (res-o-S = (and res-o S))\n",
    "   (res-o = (and res sel))))"
   ]
  },
  {
   "cell_type": "code",
   "execution_count": 3,
   "metadata": {},
   "outputs": [
    {
     "name": "stdout",
     "output_type": "stream",
     "text": [
      "(k0/n+2 = GO)\n",
      "(sel = false)\n",
      "(k1 = false)\n"
     ]
    }
   ],
   "source": [
    "(define/ppl case1-end #:no-check\n",
    " ((k0/n+2 = GO)\n",
    "  (sel = false)\n",
    "  (k1 = false)))"
   ]
  },
  {
   "cell_type": "code",
   "execution_count": 4,
   "metadata": {
    "collapsed": true
   },
   "outputs": [],
   "source": [
    "(assert-same (term case1-start) (term case1-end))"
   ]
  },
  {
   "cell_type": "code",
   "execution_count": null,
   "metadata": {
    "collapsed": true
   },
   "outputs": [],
   "source": []
  }
 ],
 "metadata": {
  "kernelspec": {
   "display_name": "Racket",
   "language": "racket",
   "name": "racket"
  },
  "language_info": {
   "codemirror_mode": "scheme",
   "file_extension": ".rkt",
   "mimetype": "text/x-racket",
   "name": "Racket",
   "pygments_lexer": "racket",
   "version": "7.3.0.3"
  }
 },
 "nbformat": 4,
 "nbformat_minor": 2
}
