{
 "cells": [
  {
   "cell_type": "code",
   "execution_count": 1,
   "metadata": {
    "collapsed": true
   },
   "outputs": [],
   "source": [
    "(require esterel-calculus/circuits redex/reduction-semantics)"
   ]
  },
  {
   "cell_type": "code",
   "execution_count": 2,
   "metadata": {
    "scrolled": true
   },
   "outputs": [
    {
     "name": "stdout",
     "output_type": "stream",
     "text": [
      "(SEL = (or q_SEL outer_SEL))\n",
      "(K0 = q_K0)\n",
      "(Kn = q_Kn)\n",
      "(q_RES = RES)\n",
      "(q_GO = GO)\n"
     ]
    }
   ],
   "source": [
    "(define/ppl q #:no-check\n",
    "  ((SEL = (or q_SEL outer_SEL))\n",
    "   (K0 = q_K0)\n",
    "   (Kn = q_Kn)\n",
    "   (q_RES = RES)\n",
    "   (q_GO = GO)))"
   ]
  },
  {
   "cell_type": "code",
   "execution_count": 3,
   "metadata": {},
   "outputs": [
    {
     "name": "stdout",
     "output_type": "stream",
     "text": [
      "(p_GO = (and GO S))\n",
      "(p_RES = RES)\n",
      "(q_GO = (and GO (not S)))\n",
      "(q_RES = RES)\n",
      "(SEL = (or (or p_SEL q_SEL) outer_SEL))\n",
      "(K0 = (or p_K0 q_K0))\n",
      "(Kn = (or p_Kn q_Kn))\n"
     ]
    }
   ],
   "source": [
    "(define/ppl start #:no-check\n",
    "  (;; p\n",
    "   (p_GO = (and GO S))\n",
    "   (p_RES = RES)\n",
    "   ;; these wires are not needed for the proof, and are never read so we can \n",
    "   ;; ignore them\n",
    "   ;(p_SUSP = SUSP)\n",
    "   ;(p_KILL = KILL)\n",
    "   ;; q\n",
    "   (q_GO = (and GO (not S)))\n",
    "   (q_RES = RES)\n",
    "   ;; these wires are not needed for the proof, and are never read so we can \n",
    "   ;; ignore them\n",
    "   ;(q_SUSP = SUSP)\n",
    "   ;(q_KILL = KILL)\n",
    "   ;; out\n",
    "   (SEL = (or (or p_SEL q_SEL) outer_SEL))\n",
    "   (K0 = (or p_K0 q_K0))\n",
    "   (Kn = (or p_Kn q_Kn))))\n",
    "        "
   ]
  },
  {
   "cell_type": "markdown",
   "metadata": {},
   "source": [
    "By [S-consistent], we know S is false."
   ]
  },
  {
   "cell_type": "code",
   "execution_count": 4,
   "metadata": {},
   "outputs": [],
   "source": [
    "(assert-same\n",
    " #:outputs '((+ SEL) (- SEL) (+ K0) (- K0) (+ Kn) (- Kn))\n",
    " #:constraints\n",
    " (term (and \n",
    "        (implies (+ SEL) (- GO))\n",
    "        (and (implies (- SEL) (- S))\n",
    "             (and (implies (and (- p_GO) (or (- p_SEL) (- p_RES)))\n",
    "                           (and (- p_K0)\n",
    "                                (- p_Kn)))\n",
    "                  (implies (and (- q_GO) (or (- q_SEL) (- q_RES)))\n",
    "                           (and (- q_K0)\n",
    "                                (- q_Kn)))))))\n",
    " (term (convert-P start))\n",
    " (term (convert-P q)))"
   ]
  },
  {
   "cell_type": "code",
   "execution_count": 5,
   "metadata": {},
   "outputs": [],
   "source": [
    "(assert-same\n",
    " #:outputs '(SEL K0 Kn)\n",
    " #:constraints\n",
    " '(and (implies SEL (not GO))\n",
    "       (and (implies (not SEL) (not S))\n",
    "            (and (implies (not (or p_GO (and p_SEL p_RES)))\n",
    "                          (and (not p_Kn) (not p_K0)))\n",
    "                 (implies (not (or p_GO (and p_SEL p_RES)))\n",
    "                          (and (not p_Kn) (not p_K0))))))\n",
    " (term start)\n",
    " (term q))"
   ]
  },
  {
   "cell_type": "code",
   "execution_count": null,
   "metadata": {
    "collapsed": true
   },
   "outputs": [],
   "source": []
  }
 ],
 "metadata": {
  "kernelspec": {
   "display_name": "Racket",
   "language": "racket",
   "name": "racket"
  },
  "language_info": {
   "codemirror_mode": "scheme",
   "file_extension": ".rkt",
   "mimetype": "text/x-racket",
   "name": "Racket",
   "pygments_lexer": "racket",
   "version": "7.4.0.10"
  }
 },
 "nbformat": 4,
 "nbformat_minor": 2
}
