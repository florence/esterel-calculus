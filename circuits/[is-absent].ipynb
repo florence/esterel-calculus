{
 "cells": [
  {
   "cell_type": "code",
   "execution_count": 1,
   "metadata": {
    "collapsed": true
   },
   "outputs": [],
   "source": [
    "(require circuitous)"
   ]
  },
  {
   "cell_type": "code",
   "execution_count": 2,
   "metadata": {
    "scrolled": true
   },
   "outputs": [],
   "source": [
    "(define q\n",
    "  (circuit\n",
    "   #:inputs (q_SEL outer_SEL q_K0 q_Kn RES GO)\n",
    "   #:outputs (q_RES K0 Kn SEL q_GO)\n",
    "   (SEL = (or q_SEL outer_SEL))\n",
    "   (K0 = q_K0)\n",
    "   (Kn = q_Kn)\n",
    "   (q_RES = RES)\n",
    "   (q_GO = GO)))"
   ]
  },
  {
   "cell_type": "code",
   "execution_count": 3,
   "metadata": {},
   "outputs": [],
   "source": [
    "(define start\n",
    "  (circuit\n",
    "   #:inputs (q_SEL p_SEL outer_SEL q_K0 q_Kn RES GO S p_K0 p_Kn)\n",
    "   #:outputs (q_RES K0 Kn SEL q_GO)\n",
    "   ;; p\n",
    "   (p_GO = (and GO S))\n",
    "   (p_RES = RES)\n",
    "   ;; these wires are not needed for the proof, and are never read so we can \n",
    "   ;; ignore them\n",
    "   ;(p_SUSP = SUSP)\n",
    "   ;(p_KILL = KILL)\n",
    "   ;; q\n",
    "   (q_GO = (and GO (not S)))\n",
    "   (q_RES = RES)\n",
    "   ;; these wires are not needed for the proof, and are never read so we can \n",
    "   ;; ignore them\n",
    "   ;(q_SUSP = SUSP)\n",
    "   ;(q_KILL = KILL)\n",
    "   ;; out\n",
    "   (SEL = (or (or p_SEL q_SEL) outer_SEL))\n",
    "   (K0 = (or p_K0 q_K0))\n",
    "   (Kn = (or p_Kn q_Kn))))\n",
    "        "
   ]
  },
  {
   "cell_type": "markdown",
   "metadata": {},
   "source": [
    "By [S-consistent], we know S is false."
   ]
  },
  {
   "cell_type": "code",
   "execution_count": 4,
   "metadata": {},
   "outputs": [],
   "source": [
    "(assert-same\n",
    " #:constraints\n",
    " '(and  ;; activation condtion\n",
    "        (implies SEL (not GO)) (and\n",
    "        ;; by [sel-later], [sel-start], and [S-consistent]\n",
    "        (not p_SEL) \n",
    "        ;; by [S-consitent]\n",
    "        (and (implies (not SEL) (not S))\n",
    "             ;; by activation condition\n",
    "             (and (implies (and (not (and GO S)) (or (not p_SEL) (not RES)))\n",
    "                           (and (not p_K0)\n",
    "                                (not p_Kn)))\n",
    "                  (implies (and (not q_GO) (or (not q_SEL) (not q_RES)))\n",
    "                           (and (not q_K0)\n",
    "                                (not q_Kn)))))))\n",
    " start\n",
    " q)"
   ]
  },
  {
   "cell_type": "code",
   "execution_count": null,
   "metadata": {
    "collapsed": true
   },
   "outputs": [],
   "source": []
  },
  {
   "cell_type": "code",
   "execution_count": null,
   "metadata": {
    "collapsed": true
   },
   "outputs": [],
   "source": []
  }
 ],
 "metadata": {
  "kernelspec": {
   "display_name": "Racket",
   "language": "racket",
   "name": "racket"
  },
  "language_info": {
   "codemirror_mode": "scheme",
   "file_extension": ".rkt",
   "mimetype": "text/x-racket",
   "name": "Racket",
   "pygments_lexer": "racket",
   "version": "7.4.0.10"
  }
 },
 "nbformat": 4,
 "nbformat_minor": 2
}
