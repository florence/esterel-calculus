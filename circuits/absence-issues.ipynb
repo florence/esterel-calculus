{
 "cells": [
  {
   "cell_type": "code",
   "execution_count": 1,
   "metadata": {},
   "outputs": [],
   "source": [
    "(require esterel-calculus/circuits redex/reduction-semantics)"
   ]
  },
  {
   "cell_type": "code",
   "execution_count": 2,
   "metadata": {},
   "outputs": [],
   "source": [
    "(define start\n",
    "  (term\n",
    "   (signal S\n",
    "     (seq\n",
    "      (present S (emit S1) nothing)\n",
    "      pause\n",
    "      (emit S)))))\n",
    "\n",
    "(define end\n",
    "  (term\n",
    "   (signal S\n",
    "     (seq\n",
    "      nothing\n",
    "      pause\n",
    "      (emit S)))))"
   ]
  },
  {
   "cell_type": "code",
   "execution_count": 3,
   "metadata": {},
   "outputs": [
    {
     "name": "stdout",
     "output_type": "stream",
     "text": [
      "(present-GO = GO)\n",
      "(pause-GO = present-K0)\n",
      "(pause-SUSP = SUSP)\n",
      "(pause-RES = RES)\n",
      "(pause-KILL = KILL)\n",
      "(emit2-GO = pause-K0)\n",
      "(K0 = emit2-K0)\n",
      "(K1 = pause-K1)\n",
      "(SEL = pause-SEL)\n",
      "(emit-GO = (and S present-GO))\n",
      "(emit-K0 = emit-GO)\n",
      "(S1 = emit-GO)\n",
      "(nothing-GO = (and (not S) present-GO))\n",
      "(nothing-K0 = nothing-GO)\n",
      "(present-K0 = (or emit-K0 nothing-K0))\n",
      "(pause-K1 = pause-GO)\n",
      "(pause-K0 = (and pause-RES reg-out))\n",
      "(pause-SEL = reg-out)\n",
      "(reg-in = (and (not pause-KILL) go-or-repause))\n",
      "(go-or-repause = (or pause-GO do-susp))\n",
      "(do-susp = (and pause-SUSP reg-out))\n",
      "(S = emit2-GO)\n",
      "(emit2-K0 = emit2-GO)\n"
     ]
    }
   ],
   "source": [
    "(define/ppl start-circ #:no-check\n",
    "  (;; seq\n",
    "   (present-GO = GO)\n",
    "   (pause-GO = present-K0)\n",
    "   (pause-SUSP = SUSP)\n",
    "   (pause-RES = RES)\n",
    "   (pause-KILL = KILL)\n",
    "   (emit2-GO = pause-K0)\n",
    "   (K0 = emit2-K0)\n",
    "   (K1 = pause-K1)\n",
    "   (SEL = pause-SEL)\n",
    "   ;; present\n",
    "   (emit-GO = (and S present-GO))\n",
    "   (emit-K0 = emit-GO)\n",
    "   (S1 = emit-GO)\n",
    "   (nothing-GO = (and (not S) present-GO))\n",
    "   (nothing-K0 = nothing-GO)\n",
    "   (present-K0 = (or emit-K0 nothing-K0))\n",
    "   ;; pause\n",
    "   (pause-K1 = pause-GO)\n",
    "   (pause-K0 = (and pause-RES reg-out))\n",
    "   (pause-SEL = reg-out)\n",
    "   (reg-in = (and (not pause-KILL) go-or-repause))\n",
    "   (go-or-repause = (or pause-GO do-susp))\n",
    "   (do-susp = (and pause-SUSP reg-out))\n",
    "   ;; emit S\n",
    "   (S = emit2-GO)\n",
    "   (emit2-K0 = emit2-GO)))"
   ]
  },
  {
   "cell_type": "code",
   "execution_count": 4,
   "metadata": {},
   "outputs": [
    {
     "name": "stdout",
     "output_type": "stream",
     "text": [
      "(S1 = false)\n",
      "(nothing-GO = GO)\n",
      "(pause-GO = nothing-K0)\n",
      "(pause-SUSP = SUSP)\n",
      "(pause-RES = RES)\n",
      "(pause-KILL = KILL)\n",
      "(emit2-GO = pause-K0)\n",
      "(K0 = emit2-K0)\n",
      "(K1 = pause-K1)\n",
      "(SEL = pause-SEL)\n",
      "(nothing-K0 = nothing-GO)\n",
      "(pause-K1 = pause-GO)\n",
      "(pause-K0 = (and pause-RES reg-out))\n",
      "(pause-SEL = reg-out)\n",
      "(reg-in = (and (not pause-KILL) go-or-repause))\n",
      "(go-or-repause = (or pause-GO do-susp))\n",
      "(do-susp = (and pause-SUSP reg-out))\n",
      "(S = emit2-GO)\n",
      "(emit2-K0 = emit2-GO)\n"
     ]
    }
   ],
   "source": [
    "(define/ppl end-circ #:no-check\n",
    "  (;; this is implicit in the diagram, as there is no S1\n",
    "   (S1 = false)\n",
    "   ;; seq\n",
    "   (nothing-GO = GO)\n",
    "   (pause-GO = nothing-K0)\n",
    "   (pause-SUSP = SUSP)\n",
    "   (pause-RES = RES)\n",
    "   (pause-KILL = KILL)\n",
    "   (emit2-GO = pause-K0)\n",
    "   (K0 = emit2-K0)\n",
    "   (K1 = pause-K1)\n",
    "   (SEL = pause-SEL)\n",
    "   ;; nothing\n",
    "   (nothing-K0 = nothing-GO)\n",
    "   ;; pause\n",
    "   (pause-K1 = pause-GO)\n",
    "   (pause-K0 = (and pause-RES reg-out))\n",
    "   (pause-SEL = reg-out)\n",
    "   (reg-in = (and (not pause-KILL) go-or-repause))\n",
    "   (go-or-repause = (or pause-GO do-susp))\n",
    "   (do-susp = (and pause-SUSP reg-out))\n",
    "   ;; emit S\n",
    "   (S = emit2-GO)\n",
    "   (emit2-K0 = emit2-GO)))"
   ]
  },
  {
   "cell_type": "code",
   "execution_count": 5,
   "metadata": {},
   "outputs": [
    {
     "name": "stdout",
     "output_type": "stream",
     "text": [
      "(present-GO = GO)\n",
      "(pause-GO = present-K0)\n",
      "(pause-SUSP = SUSP)\n",
      "(pause-RES = RES)\n",
      "(pause-KILL = KILL)\n",
      "(emit2-GO = pause-K0)\n",
      "(K0 = emit2-K0)\n",
      "(K1 = pause-K1)\n",
      "(SEL = pause-SEL)\n",
      "(emit-GO = (and S present-GO))\n",
      "(emit-K0 = emit-GO)\n",
      "(S1 = emit-GO)\n",
      "(nothing-GO = (and (not S) present-GO))\n",
      "(nothing-K0 = nothing-GO)\n",
      "(present-K0 = (or emit-K0 nothing-K0))\n",
      "(pause-K1 = pause-GO)\n",
      "(pause-K0 = (and pause-RES false))\n",
      "(pause-SEL = false)\n",
      "(reg-in = (and (not pause-KILL) go-or-repause))\n",
      "(go-or-repause = (or pause-GO do-susp))\n",
      "(do-susp = (and pause-SUSP false))\n",
      "(S = emit2-GO)\n",
      "(emit2-K0 = emit2-GO)\n"
     ]
    }
   ],
   "source": [
    "(define/ppl start-i1 #:no-check\n",
    "  (replace* start-circ [reg-out false]))"
   ]
  },
  {
   "cell_type": "code",
   "execution_count": 6,
   "metadata": {},
   "outputs": [
    {
     "name": "stdout",
     "output_type": "stream",
     "text": [
      "(S1 = false)\n",
      "(nothing-GO = GO)\n",
      "(pause-GO = nothing-K0)\n",
      "(pause-SUSP = SUSP)\n",
      "(pause-RES = RES)\n",
      "(pause-KILL = KILL)\n",
      "(emit2-GO = pause-K0)\n",
      "(K0 = emit2-K0)\n",
      "(K1 = pause-K1)\n",
      "(SEL = pause-SEL)\n",
      "(nothing-K0 = nothing-GO)\n",
      "(pause-K1 = pause-GO)\n",
      "(pause-K0 = (and pause-RES false))\n",
      "(pause-SEL = false)\n",
      "(reg-in = (and (not pause-KILL) go-or-repause))\n",
      "(go-or-repause = (or pause-GO do-susp))\n",
      "(do-susp = (and pause-SUSP false))\n",
      "(S = emit2-GO)\n",
      "(emit2-K0 = emit2-GO)\n"
     ]
    }
   ],
   "source": [
    "(define/ppl end-i1 #:no-check\n",
    "  (replace* end-circ [reg-out false]))"
   ]
  },
  {
   "cell_type": "code",
   "execution_count": 7,
   "metadata": {},
   "outputs": [],
   "source": [
    "(assert-same (term start-i1) (term end-i1))\n",
    "(assert-same (term (replace* start-i1 [GO true] [KILL false])) (term ((reg-in = true))))"
   ]
  },
  {
   "cell_type": "code",
   "execution_count": 8,
   "metadata": {},
   "outputs": [
    {
     "name": "stdout",
     "output_type": "stream",
     "text": [
      "(present-GO = GO)\n",
      "(pause-GO = present-K0)\n",
      "(pause-SUSP = SUSP)\n",
      "(pause-RES = RES)\n",
      "(pause-KILL = KILL)\n",
      "(emit2-GO = pause-K0)\n",
      "(K0 = emit2-K0)\n",
      "(K1 = pause-K1)\n",
      "(SEL = pause-SEL)\n",
      "(emit-GO = (and S present-GO))\n",
      "(emit-K0 = emit-GO)\n",
      "(S1 = emit-GO)\n",
      "(nothing-GO = (and (not S) present-GO))\n",
      "(nothing-K0 = nothing-GO)\n",
      "(present-K0 = (or emit-K0 nothing-K0))\n",
      "(pause-K1 = pause-GO)\n",
      "(pause-K0 = (and pause-RES true))\n",
      "(pause-SEL = true)\n",
      "(reg-in = (and (not pause-KILL) go-or-repause))\n",
      "(go-or-repause = (or pause-GO do-susp))\n",
      "(do-susp = (and pause-SUSP true))\n",
      "(S = emit2-GO)\n",
      "(emit2-K0 = emit2-GO)\n"
     ]
    }
   ],
   "source": [
    "(define/ppl start-i2 #:no-check\n",
    "  (replace* start-circ [reg-out true]))"
   ]
  },
  {
   "cell_type": "code",
   "execution_count": 9,
   "metadata": {},
   "outputs": [
    {
     "name": "stdout",
     "output_type": "stream",
     "text": [
      "(S1 = false)\n",
      "(nothing-GO = GO)\n",
      "(pause-GO = nothing-K0)\n",
      "(pause-SUSP = SUSP)\n",
      "(pause-RES = RES)\n",
      "(pause-KILL = KILL)\n",
      "(emit2-GO = pause-K0)\n",
      "(K0 = emit2-K0)\n",
      "(K1 = pause-K1)\n",
      "(SEL = pause-SEL)\n",
      "(nothing-K0 = nothing-GO)\n",
      "(pause-K1 = pause-GO)\n",
      "(pause-K0 = (and pause-RES true))\n",
      "(pause-SEL = true)\n",
      "(reg-in = (and (not pause-KILL) go-or-repause))\n",
      "(go-or-repause = (or pause-GO do-susp))\n",
      "(do-susp = (and pause-SUSP true))\n",
      "(S = emit2-GO)\n",
      "(emit2-K0 = emit2-GO)\n"
     ]
    }
   ],
   "source": [
    "(define/ppl end-i2 #:no-check\n",
    "  (replace* end-circ [reg-out true]))"
   ]
  },
  {
   "cell_type": "code",
   "execution_count": 10,
   "metadata": {},
   "outputs": [],
   "source": [
    "(assert-same \n",
    " #:constraints (term (not (and GO SEL)))\n",
    " (term start-i2) (term end-i2))"
   ]
  },
  {
   "cell_type": "code",
   "execution_count": null,
   "metadata": {
    "collapsed": true
   },
   "outputs": [],
   "source": []
  }
 ],
 "metadata": {
  "kernelspec": {
   "display_name": "Racket",
   "language": "racket",
   "name": "racket"
  },
  "language_info": {
   "codemirror_mode": "scheme",
   "file_extension": ".rkt",
   "mimetype": "text/x-racket",
   "name": "Racket",
   "pygments_lexer": "racket",
   "version": "7.3.0.3"
  }
 },
 "nbformat": 4,
 "nbformat_minor": 2
}
