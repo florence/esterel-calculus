{
 "cells": [
  {
   "cell_type": "code",
   "execution_count": 1,
   "metadata": {
    "collapsed": true
   },
   "outputs": [],
   "source": [
    "(require esterel-calculus/circuits redex/reduction-semantics)"
   ]
  },
  {
   "cell_type": "markdown",
   "metadata": {},
   "source": [
    "Some possibly helpful laws:\n",
    "\n",
    "- Posulate 1: ¬( GO ∨ (RES ∧ SEL)) implies all E' is 0 and all kn are 0.\n",
    "- - Correlary 1: This holds for ¬(GO ∨ SEL) \n",
    "- - Correlary 2: This holds for ¬(GO ∨ RES)\n",
    "- Postulate 2: forall n m, m != n, ¬ (kn ^ km), that is at most one k wire is selected.\n",
    "- Postulate 3: SEL can only be 1 if, at some instant in the past GO was 1. (?)"
   ]
  },
  {
   "cell_type": "code",
   "execution_count": 2,
   "metadata": {},
   "outputs": [
    {
     "name": "stdout",
     "output_type": "stream",
     "text": [
      "(Knr = GO)\n",
      "(Kn = (or Knr Knl))\n",
      "(K0 = K0r)\n",
      "(Kx = Kxr)\n",
      "(Sel = Selr)\n"
     ]
    }
   ],
   "source": [
    "(define/ppl start #:no-check\n",
    "  ((Knr = GO)\n",
    "   (Kn = (or Knr Knl))\n",
    "   (K0 = K0r)\n",
    "   (Kx = Kxr)\n",
    "   (Sel = Selr)))"
   ]
  },
  {
   "cell_type": "code",
   "execution_count": 3,
   "metadata": {},
   "outputs": [
    {
     "name": "stdout",
     "output_type": "stream",
     "text": [
      "(Kn = GO)\n",
      "(K0 = false)\n",
      "(Kx = false)\n",
      "(Sel = false)\n"
     ]
    }
   ],
   "source": [
    "(define/ppl end #:no-check\n",
    "  ((Kn = GO)\n",
    "   (K0 = false)\n",
    "   (Kx = false)\n",
    "   (Sel = false)))"
   ]
  },
  {
   "cell_type": "code",
   "execution_count": 4,
   "metadata": {},
   "outputs": [
    {
     "name": "stderr",
     "output_type": "stream",
     "text": [
      "assert-same: rosette model gave counterexample: (model\n",
      " [pos-GO$0 #f]\n",
      " [neg-GO$1 #t]\n",
      " [pos-Knl$0 #t]\n",
      " [neg-Knl$1 #f]\n",
      " [pos-K0r$0 #f]\n",
      " [neg-K0r$1 #f]\n",
      " [pos-Kxr$0 #f]\n",
      " [neg-Kxr$1 #t]\n",
      " [pos-Selr$0 #f]\n",
      " [neg-Selr$1 #f])\n",
      "((Knr = GO) (Kn = (or Knr Knl)) (K0 = K0r) (Kx = Kxr) (Sel = Selr))\n",
      "((Kn = GO) (K0 = false) (Kx = false) (Sel = false))\n",
      "  context...:\n",
      "   eval-one-top12\n",
      "   /Applications/Racket/racket/share/pkgs/sandbox-lib/racket/sandbox.rkt:510:0: call-with-custodian-shutdown\n",
      "   /Applications/Racket/racket/collects/racket/private/more-scheme.rkt:148:2: call-with-break-parameterization\n",
      "   .../more-scheme.rkt:261:28\n",
      "   /Applications/Racket/racket/share/pkgs/sandbox-lib/racket/sandbox.rkt:878:5: loop\n"
     ]
    }
   ],
   "source": [
    "(assert-same (term start) (term end))"
   ]
  },
  {
   "cell_type": "code",
   "execution_count": null,
   "metadata": {
    "collapsed": true
   },
   "outputs": [],
   "source": []
  }
 ],
 "metadata": {
  "kernelspec": {
   "display_name": "Racket",
   "language": "racket",
   "name": "racket"
  },
  "language_info": {
   "codemirror_mode": "scheme",
   "file_extension": ".rkt",
   "mimetype": "text/x-racket",
   "name": "Racket",
   "pygments_lexer": "racket",
   "version": "7.3.0.3"
  }
 },
 "nbformat": 4,
 "nbformat_minor": 2
}
