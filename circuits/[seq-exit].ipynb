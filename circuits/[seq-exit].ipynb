{
 "cells": [
  {
   "cell_type": "code",
   "execution_count": 1,
   "metadata": {
    "collapsed": true
   },
   "outputs": [],
   "source": [
    "(require esterel-calculus/circuits\n",
    "         esterel-calculus/circuits/compiler\n",
    "         redex/reduction-semantics)"
   ]
  },
  {
   "cell_type": "markdown",
   "metadata": {},
   "source": [
    "Some possibly helpful laws:\n",
    "\n",
    "- Posulate 1: ¬( GO ∨ (RES ∧ SEL)) implies all E' is 0 and all kn are 0.\n",
    "- - Correlary 1: This holds for ¬(GO ∨ SEL) \n",
    "- - Correlary 2: This holds for ¬(GO ∨ RES)\n",
    "- Postulate 2: forall n m, m != n, ¬ (kn ^ km), that is at most one k wire is selected.\n",
    "- Postulate 3: SEL can only be 1 if, at some instant in the past GO was 1. (?)"
   ]
  },
  {
   "cell_type": "code",
   "execution_count": 2,
   "metadata": {},
   "outputs": [
    {
     "name": "stdout",
     "output_type": "stream",
     "text": [
      "(Knr = GO)\n",
      "(Kn = (or Knr Knl))\n",
      "(K0 = K0r)\n",
      "(Kx = Kxr)\n",
      "(Sel = Selr)\n"
     ]
    }
   ],
   "source": [
    "(define/ppl start #:no-check\n",
    "  ((Knr = GO)\n",
    "   (Kn = (or Knr Knl))\n",
    "   (K0 = K0r)\n",
    "   (Kx = Kxr)\n",
    "   (Sel = Selr)))"
   ]
  },
  {
   "cell_type": "code",
   "execution_count": 3,
   "metadata": {},
   "outputs": [
    {
     "name": "stdout",
     "output_type": "stream",
     "text": [
      "(Kn = GO)\n",
      "(K0 = false)\n",
      "(Kx = false)\n",
      "(Sel = false)\n"
     ]
    }
   ],
   "source": [
    "(define/ppl end #:no-check\n",
    "  ((Kn = GO)\n",
    "   (K0 = false)\n",
    "   (Kx = false)\n",
    "   (Sel = false)))"
   ]
  },
  {
   "cell_type": "code",
   "execution_count": 4,
   "metadata": {},
   "outputs": [
    {
     "name": "stderr",
     "output_type": "stream",
     "text": [
      "assert-same: rosette model gave counterexample:\n",
      "(model\n",
      " [pos-GO$0 #f]\n",
      " [neg-GO$1 #t]\n",
      " [pos-Knl$0 #t]\n",
      " [neg-Knl$1 #f]\n",
      " [pos-K0r$0 #f]\n",
      " [neg-K0r$1 #f]\n",
      " [pos-Kxr$0 #f]\n",
      " [neg-Kxr$1 #t]\n",
      " [pos-Selr$0 #f]\n",
      " [neg-Selr$1 #f])\n",
      "'(((Kn #t) (Kn #f)) ((K0 ⊥) (K0 #f)) ((Sel ⊥) (Sel #f)))\n",
      "'((Knr #f)\n",
      "  (Kn #t)\n",
      "  (K0 ⊥)\n",
      "  (Kx #f)\n",
      "  (Sel ⊥)\n",
      "  (GO #f)\n",
      "  (Knl #t)\n",
      "  (K0r ⊥)\n",
      "  (Kxr #f)\n",
      "  (Selr ⊥))\n",
      "'((Kn #f) (K0 #f) (Kx #f) (Sel #f) (GO #f) (Knl #t) (K0r ⊥) (Kxr #f) (Selr ⊥))\n",
      "  context...:\n",
      "   eval-one-top12\n",
      "   /Applications/Racket/racket/share/pkgs/sandbox-lib/racket/sandbox.rkt:510:0: call-with-custodian-shutdown\n",
      "   /Applications/Racket/racket/collects/racket/private/more-scheme.rkt:148:2: call-with-break-parameterization\n",
      "   .../more-scheme.rkt:261:28\n",
      "   /Applications/Racket/racket/share/pkgs/sandbox-lib/racket/sandbox.rkt:878:5: loop\n"
     ]
    }
   ],
   "source": [
    "(assert-same (term start) (term end))"
   ]
  },
  {
   "cell_type": "code",
   "execution_count": 5,
   "metadata": {},
   "outputs": [
    {
     "name": "stderr",
     "output_type": "stream",
     "text": [
      "assert-same: rosette model gave counterexample:\n",
      "(model\n",
      " [pos-GO$2 #f]\n",
      " [neg-GO$3 #t]\n",
      " [pos-pK2$0 #f]\n",
      " [neg-pK2$1 #f]\n",
      " [pos-SUSP$0 #f]\n",
      " [neg-SUSP$1 #t]\n",
      " [pos-KILL$0 #f]\n",
      " [neg-KILL$1 #t]\n",
      " [pos-RES$0 #f]\n",
      " [neg-RES$1 #f]\n",
      " [pos-p-SEL$0 #f]\n",
      " [neg-p-SEL$1 #f]\n",
      " [pos-pK0$0 #f]\n",
      " [neg-pK0$1 #t]\n",
      " [pos-pK1$0 #f]\n",
      " [neg-pK1$1 #f])\n",
      "'(((K2 ⊥) (K2 #f)))\n",
      "'((K2 ⊥)\n",
      "  (p-GO #f)\n",
      "  (p-SUSP #f)\n",
      "  (p-KILL #f)\n",
      "  (p-RES ⊥)\n",
      "  (SEL ⊥)\n",
      "  (K0 #f)\n",
      "  (K1 ⊥)\n",
      "  (GO #f)\n",
      "  (pK2 ⊥)\n",
      "  (SUSP #f)\n",
      "  (KILL #f)\n",
      "  (RES ⊥)\n",
      "  (p-SEL ⊥)\n",
      "  (pK0 #f)\n",
      "  (pK1 ⊥))\n",
      "'((K2 #f)\n",
      "  (GO #f)\n",
      "  (pK2 ⊥)\n",
      "  (SUSP #f)\n",
      "  (KILL #f)\n",
      "  (RES ⊥)\n",
      "  (p-SEL ⊥)\n",
      "  (pK0 #f)\n",
      "  (pK1 ⊥))\n",
      "  context...:\n",
      "   eval-one-top12\n",
      "   /Applications/Racket/racket/share/pkgs/sandbox-lib/racket/sandbox.rkt:510:0: call-with-custodian-shutdown\n",
      "   /Applications/Racket/racket/collects/racket/private/more-scheme.rkt:148:2: call-with-break-parameterization\n",
      "   .../more-scheme.rkt:261:28\n",
      "   /Applications/Racket/racket/share/pkgs/sandbox-lib/racket/sandbox.rkt:878:5: loop\n"
     ]
    }
   ],
   "source": [
    "(assert-same \n",
    " #:outputs '(K0 K1 K2 SEL)\n",
    " (term (compile-esterel (seq (exit 0) (nts p 2))))\n",
    " (term (compile-esterel (exit 0))))"
   ]
  },
  {
   "cell_type": "code",
   "execution_count": null,
   "metadata": {
    "collapsed": true
   },
   "outputs": [],
   "source": []
  }
 ],
 "metadata": {
  "kernelspec": {
   "display_name": "Racket",
   "language": "racket",
   "name": "racket"
  },
  "language_info": {
   "codemirror_mode": "scheme",
   "file_extension": ".rkt",
   "mimetype": "text/x-racket",
   "name": "Racket",
   "pygments_lexer": "racket",
   "version": "7.3.0.3"
  }
 },
 "nbformat": 4,
 "nbformat_minor": 2
}
