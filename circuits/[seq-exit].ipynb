{
 "cells": [
  {
   "cell_type": "code",
   "execution_count": 1,
   "metadata": {
    "collapsed": true
   },
   "outputs": [],
   "source": [
    "(require circuitous\n",
    "         esterel-calculus/circuits/compiler\n",
    "         redex/reduction-semantics)"
   ]
  },
  {
   "cell_type": "markdown",
   "metadata": {},
   "source": [
    "Some possibly helpful laws:\n",
    "\n",
    "- Posulate 1: ¬( GO ∨ (RES ∧ SEL)) implies all E' is 0 and all kn are 0.\n",
    "- - Correlary 1: This holds for ¬(GO ∨ SEL) \n",
    "- - Correlary 2: This holds for ¬(GO ∨ RES)\n",
    "- Postulate 2: forall n m, m != n, ¬ (kn ^ km), that is at most one k wire is selected.\n",
    "- Postulate 3: SEL can only be 1 if, at some instant in the past GO was 1. (?)"
   ]
  },
  {
   "cell_type": "code",
   "execution_count": 3,
   "metadata": {},
   "outputs": [],
   "source": [
    "(define start\n",
    "  (circuit\n",
    "   #:inputs (GO Knl K0r Kxr Selr)\n",
    "   #:outputs (Kn K0 Kx Sel)\n",
    "  (Knr = GO)\n",
    "   (Kn = (or Knr Knl))\n",
    "   (K0 = K0r)\n",
    "   (Kx = Kxr)\n",
    "   (Sel = Selr)))"
   ]
  },
  {
   "cell_type": "code",
   "execution_count": 12,
   "metadata": {},
   "outputs": [],
   "source": [
    "(define end\n",
    "  (circuit\n",
    "   #:inputs (GO)\n",
    "   #:outputs (Kn K0 Kx Sel)\n",
    "   (Kn = GO)\n",
    "   (K0 = false)\n",
    "   (Kx = false)\n",
    "   (Sel = false)))"
   ]
  },
  {
   "cell_type": "code",
   "execution_count": 13,
   "metadata": {},
   "outputs": [
    {
     "name": "stderr",
     "output_type": "stream",
     "text": [
      "assert-same: rosette model gave counterexample:\n",
      "(model\n",
      " [pos-K0r$4 #f]\n",
      " [neg-K0r$5 #f]\n",
      " [pos-Knl$4 #f]\n",
      " [neg-Knl$5 #f]\n",
      " [pos-GO$8 #f]\n",
      " [neg-GO$9 #f]\n",
      " [pos-Kxr$4 #f]\n",
      " [neg-Kxr$5 #f]\n",
      " [pos-Selr$4 #f]\n",
      " [neg-Selr$5 #f])\n",
      "'((((K0 ⊥) (K0 #f)) ((Kx ⊥) (Kx #f)) ((Sel ⊥) (Sel #f))))\n",
      "'(((K0r ⊥)\n",
      "   (Knl ⊥)\n",
      "   (GO ⊥)\n",
      "   (Kxr ⊥)\n",
      "   (Selr ⊥)\n",
      "   (K0 ⊥)\n",
      "   (Kn ⊥)\n",
      "   (Knr ⊥)\n",
      "   (Kx ⊥)\n",
      "   (Sel ⊥)))\n",
      "'(((K0r ⊥) (Knl ⊥) (GO ⊥) (Kxr ⊥) (Selr ⊥) (K0 #f) (Kn ⊥) (Kx #f) (Sel #f)))\n",
      "  context...:\n",
      "   eval-one-top12\n",
      "   /Applications/Racket/racket/share/pkgs/sandbox-lib/racket/sandbox.rkt:510:0: call-with-custodian-shutdown\n",
      "   /Applications/Racket/racket/collects/racket/private/more-scheme.rkt:148:2: call-with-break-parameterization\n",
      "   .../more-scheme.rkt:261:28\n",
      "   /Applications/Racket/racket/share/pkgs/sandbox-lib/racket/sandbox.rkt:878:5: loop\n"
     ]
    }
   ],
   "source": [
    "(assert-same start end)"
   ]
  },
  {
   "cell_type": "code",
   "execution_count": 14,
   "metadata": {},
   "outputs": [
    {
     "name": "stderr",
     "output_type": "stream",
     "text": [
      "assert-same: rosette model gave counterexample:\n",
      "(model\n",
      " [pos-pK0$4 #f]\n",
      " [neg-pK0$5 #f]\n",
      " [pos-pK1$4 #f]\n",
      " [neg-pK1$5 #f]\n",
      " [pos-GO$10 #f]\n",
      " [neg-GO$11 #f]\n",
      " [pos-pK2$4 #f]\n",
      " [neg-pK2$5 #f]\n",
      " [pos-KILL$4 #f]\n",
      " [neg-KILL$5 #f]\n",
      " [pos-RES$4 #f]\n",
      " [neg-RES$5 #f]\n",
      " [pos-SUSP$4 #f]\n",
      " [neg-SUSP$5 #f]\n",
      " [pos-p-SEL$4 #f]\n",
      " [neg-p-SEL$5 #f])\n",
      "'((((SEL ⊥) (SEL #f))))\n",
      "'(((pK0 ⊥)\n",
      "   (pK1 ⊥)\n",
      "   (GO ⊥)\n",
      "   (pK2 ⊥)\n",
      "   (KILL ⊥)\n",
      "   (RES ⊥)\n",
      "   (SUSP ⊥)\n",
      "   (p-SEL ⊥)\n",
      "   (K0 ⊥)\n",
      "   (K1 ⊥)\n",
      "   (K2 ⊥)\n",
      "   (SEL ⊥)\n",
      "   (p-GO #f)\n",
      "   (p-KILL ⊥)\n",
      "   (p-RES ⊥)\n",
      "   (p-SUSP ⊥)\n",
      "   (psel #f)\n",
      "   (qsel ⊥)))\n",
      "'(((pK0 ⊥)\n",
      "   (pK1 ⊥)\n",
      "   (GO ⊥)\n",
      "   (pK2 ⊥)\n",
      "   (KILL ⊥)\n",
      "   (RES ⊥)\n",
      "   (SUSP ⊥)\n",
      "   (p-SEL ⊥)\n",
      "   (K2 ⊥)\n",
      "   (SEL #f)))\n",
      "  context...:\n",
      "   eval-one-top12\n",
      "   /Applications/Racket/racket/share/pkgs/sandbox-lib/racket/sandbox.rkt:510:0: call-with-custodian-shutdown\n",
      "   /Applications/Racket/racket/collects/racket/private/more-scheme.rkt:148:2: call-with-break-parameterization\n",
      "   .../more-scheme.rkt:261:28\n",
      "   /Applications/Racket/racket/share/pkgs/sandbox-lib/racket/sandbox.rkt:878:5: loop\n"
     ]
    }
   ],
   "source": [
    "(assert-same \n",
    " (compile-esterel (term (seq (exit 0) (nts p 2))))\n",
    " (compile-esterel (term (exit 0))))"
   ]
  },
  {
   "cell_type": "code",
   "execution_count": null,
   "metadata": {
    "collapsed": true
   },
   "outputs": [],
   "source": []
  }
 ],
 "metadata": {
  "kernelspec": {
   "display_name": "Racket",
   "language": "racket",
   "name": "racket"
  },
  "language_info": {
   "codemirror_mode": "scheme",
   "file_extension": ".rkt",
   "mimetype": "text/x-racket",
   "name": "Racket",
   "pygments_lexer": "racket",
   "version": "7.4.0.10"
  }
 },
 "nbformat": 4,
 "nbformat_minor": 2
}
