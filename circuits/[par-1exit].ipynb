{
 "cells": [
  {
   "cell_type": "code",
   "execution_count": 1,
   "metadata": {
    "collapsed": true
   },
   "outputs": [],
   "source": [
    "(require circuitous redex/reduction-semantics)"
   ]
  },
  {
   "cell_type": "markdown",
   "metadata": {},
   "source": [
    "Specialize to kn+2 = 2 for now"
   ]
  },
  {
   "cell_type": "code",
   "execution_count": 2,
   "metadata": {
    "scrolled": false
   },
   "outputs": [],
   "source": [
    "(define start\n",
    " (circuit\n",
    "  #:inputs (RES GO KILL SUSP)\n",
    "  #:outputs (SEL K0 K1 K2)\n",
    "  ;; exit 2\n",
    "  (lem = (and SEL (and RES (not lsel))))\n",
    "  (l0 = false)\n",
    "  (l1 = false)\n",
    "  (l2 = GO)\n",
    "  (lsel = false)\n",
    "  ;; pause\n",
    "  (rem = (and SEL (and RES (not rsel))))\n",
    "  (r0 = (and reg-out RES))\n",
    "  (r1 = GO)\n",
    "  (r2 = false)\n",
    "  (rsel = reg-out)\n",
    "  (reg reg-in reg-out = (and (not do-kill) reg-set))\n",
    "  (reg-set = (or GO is-susp))\n",
    "  (is-susp = (and SUSP rsel))\n",
    "  \n",
    "  ;; K interface\n",
    "  (K0 = I0)\n",
    "  (K1 = I1)\n",
    "  (K2 = I2)\n",
    "  \n",
    "  (SEL = (or rsel lsel))\n",
    "  ;; synchronizer\n",
    "  (do-kill = (or KILL I2))\n",
    "  (left0 = (or l0 lem))\n",
    "  (both0 = (or l0 r0))\n",
    "  (right0 = (or r0 rem))\n",
    "  (I0 = (and left0 (and both0 right0)))\n",
    "  (left1 = (or left0 l1))\n",
    "  (both1 = (or l1 r1))\n",
    "  (right1 = (or right0 r1))\n",
    "  (I1 = (and left1 (and both1 right1)))\n",
    "  (left2 = (or left1 l2))\n",
    "  (both2 = (or l2 r2))\n",
    "  (right2 = (or right1 r2))\n",
    "  (I2 = (and left2 (and both2 right2)))))\n",
    "  "
   ]
  },
  {
   "cell_type": "code",
   "execution_count": 3,
   "metadata": {
    "scrolled": true
   },
   "outputs": [],
   "source": [
    "(define end\n",
    "  (circuit\n",
    "   #:inputs (GO)\n",
    "   #:outputs (SEL K0 K1 K2)\n",
    "   (K0 = false)\n",
    "   (K1 = false)\n",
    "   (K2 = GO)\n",
    "   (SEL = false)))"
   ]
  },
  {
   "cell_type": "markdown",
   "metadata": {},
   "source": [
    "Okay first we show that in the first instant the two circuits are quivalent "
   ]
  },
  {
   "cell_type": "code",
   "execution_count": 4,
   "metadata": {
    "collapsed": true
   },
   "outputs": [],
   "source": [
    "(assert-same start end)"
   ]
  }
 ],
 "metadata": {
  "kernelspec": {
   "display_name": "Racket",
   "language": "racket",
   "name": "racket"
  },
  "language_info": {
   "codemirror_mode": "scheme",
   "file_extension": ".rkt",
   "mimetype": "text/x-racket",
   "name": "Racket",
   "pygments_lexer": "racket",
   "version": "7.4.0.10"
  }
 },
 "nbformat": 4,
 "nbformat_minor": 2
}
