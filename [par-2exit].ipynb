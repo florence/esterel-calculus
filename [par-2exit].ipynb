{
 "cells": [
  {
   "cell_type": "code",
   "execution_count": 1,
   "metadata": {
    "collapsed": true
   },
   "outputs": [],
   "source": [
    "(require booleans redex/reduction-semantics)"
   ]
  },
  {
   "cell_type": "markdown",
   "metadata": {},
   "source": [
    "# Case 1, n1=n2"
   ]
  },
  {
   "cell_type": "markdown",
   "metadata": {},
   "source": [
    "## Case, 1.1 n1=n2=0"
   ]
  },
  {
   "cell_type": "code",
   "execution_count": 2,
   "metadata": {},
   "outputs": [
    {
     "name": "stdout",
     "output_type": "stream",
     "text": [
      "(lsel = false)\n",
      "(rsel = false)\n",
      "(SEL = (or rsel lsel))\n",
      "(lem = (and SEL (and RES (not lsel))))\n",
      "(rem = (and SEL (and RES (not rsel))))\n",
      "(l0 = GO)\n",
      "(r0 = GO)\n",
      "(left = (or lem l0))\n",
      "(right = (or rem r0))\n",
      "(both = (or l0 r0))\n",
      "(k0 = (and left (and right both)))\n"
     ]
    }
   ],
   "source": [
    "(define/ppl case1-start #:no-check\n",
    " ((lsel = false)\n",
    "  (rsel = false)\n",
    "  (SEL = (or rsel lsel))\n",
    "  (lem = (and SEL (and RES (not lsel))))\n",
    "  (rem = (and SEL (and RES (not rsel))))\n",
    "  (l0 = GO)\n",
    "  (r0 = GO)\n",
    "  (left = (or lem l0))\n",
    "  (right = (or rem r0))\n",
    "  (both = (or l0 r0))\n",
    "  (k0 = (and left (and right both)))))"
   ]
  },
  {
   "cell_type": "code",
   "execution_count": 3,
   "metadata": {},
   "outputs": [
    {
     "name": "stdout",
     "output_type": "stream",
     "text": [
      "(k0 = GO)\n",
      "(SEL = false)\n"
     ]
    }
   ],
   "source": [
    "(define/ppl case1-end #:no-check ((k0 = GO) (SEL = false)))"
   ]
  },
  {
   "cell_type": "code",
   "execution_count": 4,
   "metadata": {},
   "outputs": [],
   "source": [
    "(assert-same (term case1-start) (term case1-end))"
   ]
  },
  {
   "cell_type": "markdown",
   "metadata": {},
   "source": [
    "## Case 1.2, n1=n2=n+1"
   ]
  },
  {
   "cell_type": "markdown",
   "metadata": {},
   "source": [
    "See on paper"
   ]
  },
  {
   "cell_type": "markdown",
   "metadata": {},
   "source": [
    "# Case 2, n1>n2"
   ]
  },
  {
   "cell_type": "code",
   "execution_count": 5,
   "metadata": {},
   "outputs": [
    {
     "name": "stdout",
     "output_type": "stream",
     "text": [
      "(lsel = false)\n",
      "(rsel = false)\n",
      "(SEL = (or rsel lsel))\n",
      "(lem = (and SEL (and RES (not lsel))))\n",
      "(rem = (and SEL (and RES (not rsel))))\n",
      "(ln = GO)\n",
      "(r0 = GO)\n",
      "(left0 = (or false lem))\n",
      "(right0 = (or r0 rem))\n",
      "(both0 = (or false r0))\n",
      "(k0 = (and left0 (and right0 both0)))\n",
      "(leftn = (or ln lem))\n",
      "(rightn = (or r0 rem))\n",
      "(bothn = (or ln false))\n",
      "(kn = (and leftn (and bothn rightn)))\n"
     ]
    }
   ],
   "source": [
    "(define/ppl case2-start #:no-check\n",
    "  ((lsel = false)\n",
    "   (rsel = false)\n",
    "   (SEL = (or rsel lsel))\n",
    "   (lem = (and SEL (and RES (not lsel))))\n",
    "   (rem = (and SEL (and RES (not rsel))))\n",
    "   (ln = GO)\n",
    "   (r0 = GO)\n",
    "   (left0 = (or false lem))\n",
    "   (right0 = (or r0 rem))\n",
    "   (both0 = (or false r0))\n",
    "   (k0 = (and left0 (and right0 both0)))\n",
    "   (leftn = (or ln lem))\n",
    "   (rightn = (or r0 rem))\n",
    "   (bothn = (or ln false))\n",
    "   (kn = (and leftn (and bothn rightn)))))"
   ]
  },
  {
   "cell_type": "code",
   "execution_count": 6,
   "metadata": {},
   "outputs": [
    {
     "name": "stdout",
     "output_type": "stream",
     "text": [
      "(kn = GO)\n",
      "(SEL = false)\n",
      "(k0 = false)\n"
     ]
    }
   ],
   "source": [
    "(define/ppl case2-end #:no-check\n",
    "  ((kn = GO)\n",
    "   (SEL = false)\n",
    "   (k0 = false)))"
   ]
  },
  {
   "cell_type": "code",
   "execution_count": 7,
   "metadata": {},
   "outputs": [],
   "source": [
    "(assert-same (term case2-start) (term case2-end))"
   ]
  },
  {
   "cell_type": "code",
   "execution_count": null,
   "metadata": {
    "collapsed": true
   },
   "outputs": [],
   "source": []
  }
 ],
 "metadata": {
  "kernelspec": {
   "display_name": "Racket",
   "language": "racket",
   "name": "racket"
  },
  "language_info": {
   "codemirror_mode": "scheme",
   "file_extension": ".rkt",
   "mimetype": "text/x-racket",
   "name": "Racket",
   "pygments_lexer": "racket",
   "version": "7.3.0.3"
  }
 },
 "nbformat": 4,
 "nbformat_minor": 2
}
