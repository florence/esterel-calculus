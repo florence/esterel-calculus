{
 "cells": [
  {
   "cell_type": "code",
   "execution_count": 1,
   "metadata": {
    "collapsed": true
   },
   "outputs": [],
   "source": [
    "(require booleans redex/reduction-semantics)"
   ]
  },
  {
   "cell_type": "markdown",
   "metadata": {},
   "source": [
    "# Case 1, n1=n2"
   ]
  },
  {
   "cell_type": "markdown",
   "metadata": {},
   "source": [
    "## Case, 1.1 n1=n2=0"
   ]
  },
  {
   "cell_type": "code",
   "execution_count": 2,
   "metadata": {},
   "outputs": [
    {
     "name": "stdout",
     "output_type": "stream",
     "text": [
      "(lem = (not GO))\n",
      "(rem = (not GO))\n",
      "(l0 = GO)\n",
      "(r0 = GO)\n",
      "(left = (or lem l0))\n",
      "(right = (or rem r0))\n",
      "(both = (or l0 r0))\n",
      "(k0 = (and left (and right both)))\n"
     ]
    }
   ],
   "source": [
    "(define/ppl case1-start #:no-check\n",
    " ((lem = (not GO))\n",
    "  (rem = (not GO))\n",
    "  (l0 = GO)\n",
    "  (r0 = GO)\n",
    "  (left = (or lem l0))\n",
    "  (right = (or rem r0))\n",
    "  (both = (or l0 r0))\n",
    "  (k0 = (and left (and right both)))))"
   ]
  },
  {
   "cell_type": "code",
   "execution_count": 3,
   "metadata": {},
   "outputs": [
    {
     "name": "stdout",
     "output_type": "stream",
     "text": [
      "(k0 = l0)\n",
      "(l0 = GO)\n"
     ]
    }
   ],
   "source": [
    "(define/ppl case1-end #:no-check ((k0 = l0)\n",
    "                                  (l0 = GO)))"
   ]
  },
  {
   "cell_type": "code",
   "execution_count": 4,
   "metadata": {
    "collapsed": true
   },
   "outputs": [],
   "source": [
    "(assert-same (term case1-start) (term case1-end))"
   ]
  },
  {
   "cell_type": "markdown",
   "metadata": {},
   "source": [
    "## Case 1.2, n1=n2=n+1"
   ]
  },
  {
   "cell_type": "markdown",
   "metadata": {},
   "source": [
    "See on paper"
   ]
  },
  {
   "cell_type": "markdown",
   "metadata": {},
   "source": [
    "# Case 2, n1>n2"
   ]
  },
  {
   "cell_type": "code",
   "execution_count": 5,
   "metadata": {},
   "outputs": [
    {
     "name": "stdout",
     "output_type": "stream",
     "text": [
      "(lem = (not GO))\n",
      "(rem = (not GO))\n",
      "(ln = GO)\n",
      "(r0 = GO)\n",
      "(left = (or ln lem))\n",
      "(right = (or r0 rem))\n",
      "(both = (or ln false))\n",
      "(kn = (and left (and both right)))\n"
     ]
    }
   ],
   "source": [
    "(define/ppl case2-start #:no-check\n",
    "  ((lem = (not GO))\n",
    "   (rem = (not GO))\n",
    "   (ln = GO)\n",
    "   (r0 = GO)\n",
    "   (left = (or ln lem))\n",
    "   (right = (or r0 rem))\n",
    "   (both = (or ln false))\n",
    "   (kn = (and left (and both right)))))"
   ]
  },
  {
   "cell_type": "code",
   "execution_count": 6,
   "metadata": {},
   "outputs": [
    {
     "name": "stdout",
     "output_type": "stream",
     "text": [
      "(kn = ln)\n",
      "(ln = GO)\n"
     ]
    }
   ],
   "source": [
    "(define/ppl case2-end #:no-check\n",
    "  ((kn = ln)\n",
    "   (ln = GO)))"
   ]
  },
  {
   "cell_type": "code",
   "execution_count": 7,
   "metadata": {
    "collapsed": true
   },
   "outputs": [],
   "source": [
    "(assert-same (term case2-start) (term case2-end))"
   ]
  },
  {
   "cell_type": "code",
   "execution_count": null,
   "metadata": {
    "collapsed": true
   },
   "outputs": [],
   "source": []
  }
 ],
 "metadata": {
  "kernelspec": {
   "display_name": "Racket",
   "language": "racket",
   "name": "racket"
  },
  "language_info": {
   "codemirror_mode": "scheme",
   "file_extension": ".rkt",
   "mimetype": "text/x-racket",
   "name": "Racket",
   "pygments_lexer": "racket",
   "version": "7.3.0.3"
  }
 },
 "nbformat": 4,
 "nbformat_minor": 2
}
