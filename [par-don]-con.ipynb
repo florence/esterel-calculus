{
 "cells": [
  {
   "cell_type": "code",
   "execution_count": 1,
   "metadata": {},
   "outputs": [],
   "source": [
    "(require booleans redex/reduction-semantics)"
   ]
  },
  {
   "cell_type": "code",
   "execution_count": 2,
   "metadata": {},
   "outputs": [
    {
     "name": "stdout",
     "output_type": "stream",
     "text": [
      "(K0 = (and left (and right both)))\n",
      "(left = (or l0 lem))\n",
      "(right = (or r0 rem))\n",
      "(l0 = GO)\n",
      "(lem = (not (or GO false)))\n",
      "(rem = (not (or GO sel)))\n",
      "(both = (or l0 r0))\n"
     ]
    }
   ],
   "source": [
    "(define/ppl start #:no-check\n",
    "  ((K0 = (and left (and right both)))\n",
    "   (left = (or l0 lem))\n",
    "   (right = (or r0 rem))\n",
    "   (l0 = GO)\n",
    "   (lem = (not (or GO false)))\n",
    "   (rem = (not (or GO sel)))\n",
    "   (both = (or l0 r0))))"
   ]
  },
  {
   "cell_type": "code",
   "execution_count": 3,
   "metadata": {},
   "outputs": [
    {
     "name": "stdout",
     "output_type": "stream",
     "text": [
      "(K0 = (and left (and right both)))\n",
      "(left = (or l0 lem))\n",
      "(right = (or r0 rem))\n",
      "(l0 = GO)\n",
      "(lem = (not GO))\n",
      "(rem = (not (or GO sel)))\n",
      "(both = (or l0 r0))\n"
     ]
    }
   ],
   "source": [
    "(define/ppl step2\n",
    "  replace* start [(or GO false) GO])"
   ]
  },
  {
   "cell_type": "code",
   "execution_count": 4,
   "metadata": {},
   "outputs": [
    {
     "name": "stdout",
     "output_type": "stream",
     "text": [
      "(K0 = (and left (and right both)))\n",
      "(left = (or GO (not GO)))\n",
      "(right = (or r0 rem))\n",
      "(rem = (not (or GO sel)))\n",
      "(both = (or GO r0))\n"
     ]
    }
   ],
   "source": [
    "(define/ppl step3 \n",
    "  propigate/remove* step2 l0 lem)"
   ]
  },
  {
   "cell_type": "markdown",
   "metadata": {},
   "source": [
    "# Case 1 GO =  ⊥"
   ]
  },
  {
   "cell_type": "code",
   "execution_count": 5,
   "metadata": {},
   "outputs": [
    {
     "name": "stdout",
     "output_type": "stream",
     "text": [
      "(K0 = (and left (and right both)))\n",
      "(left = (or ⊥ (not ⊥)))\n",
      "(right = (or r0 rem))\n",
      "(rem = (not (or ⊥ sel)))\n",
      "(both = (or ⊥ r0))\n"
     ]
    }
   ],
   "source": [
    "(define/ppl case1-step1 #:no-check\n",
    "  (replace* \n",
    "   step3\n",
    "   [GO ⊥]))"
   ]
  },
  {
   "cell_type": "code",
   "execution_count": 6,
   "metadata": {},
   "outputs": [
    {
     "name": "stdout",
     "output_type": "stream",
     "text": [
      "(K0 = (and left (and right both)))\n",
      "(left = ⊥)\n",
      "(right = (or r0 rem))\n",
      "(rem = (not (or ⊥ sel)))\n",
      "(both = (or ⊥ r0))\n"
     ]
    }
   ],
   "source": [
    "(define/ppl case1-step2\n",
    " replace* case1-step1\n",
    "   [(or ⊥ (not ⊥)) ⊥])"
   ]
  },
  {
   "cell_type": "code",
   "execution_count": 7,
   "metadata": {},
   "outputs": [
    {
     "name": "stdout",
     "output_type": "stream",
     "text": [
      "(K0 = (and ⊥ (and right both)))\n",
      "(right = (or r0 rem))\n",
      "(rem = (not (or ⊥ sel)))\n",
      "(both = (or ⊥ r0))\n"
     ]
    }
   ],
   "source": [
    "(define/ppl case1-step3\n",
    " propigate/remove* case1-step2 left)"
   ]
  },
  {
   "cell_type": "code",
   "execution_count": 9,
   "metadata": {},
   "outputs": [
    {
     "name": "stdout",
     "output_type": "stream",
     "text": [
      "(K0 = (and ⊥ (and right both)))\n",
      "(right = (or r0 rem))\n",
      "(rem = (and ⊥ (not sel)))\n",
      "(both = (or ⊥ r0))\n"
     ]
    }
   ],
   "source": [
    "(define/ppl case1-step4\n",
    " replace* case1-step3 [(not (or ⊥ sel)) (and ⊥ (not sel))])"
   ]
  },
  {
   "cell_type": "code",
   "execution_count": 10,
   "metadata": {},
   "outputs": [
    {
     "name": "stdout",
     "output_type": "stream",
     "text": [
      "(K0 = (and ⊥ (and (or r0 (and ⊥ (not sel))) (or ⊥ r0))))\n"
     ]
    }
   ],
   "source": [
    "(define/ppl case1-step5\n",
    "  propigate/remove* case1-step4 right rem both)"
   ]
  },
  {
   "cell_type": "code",
   "execution_count": 11,
   "metadata": {
    "collapsed": true
   },
   "outputs": [],
   "source": [
    "(assert-same (term start) (term ((K0 = GO))))"
   ]
  },
  {
   "cell_type": "code",
   "execution_count": null,
   "metadata": {
    "collapsed": true
   },
   "outputs": [],
   "source": []
  }
 ],
 "metadata": {
  "kernelspec": {
   "display_name": "Racket",
   "language": "racket",
   "name": "racket"
  },
  "language_info": {
   "codemirror_mode": "scheme",
   "file_extension": ".rkt",
   "mimetype": "text/x-racket",
   "name": "Racket",
   "pygments_lexer": "racket",
   "version": "7.3.0.3"
  }
 },
 "nbformat": 4,
 "nbformat_minor": 2
}
