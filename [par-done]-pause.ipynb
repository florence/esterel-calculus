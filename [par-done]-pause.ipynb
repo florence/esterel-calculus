{
 "cells": [
  {
   "cell_type": "code",
   "execution_count": 1,
   "metadata": {
    "collapsed": true
   },
   "outputs": [],
   "source": [
    "(require booleans redex/reduction-semantics)"
   ]
  },
  {
   "cell_type": "code",
   "execution_count": 2,
   "metadata": {},
   "outputs": [
    {
     "name": "stdout",
     "output_type": "stream",
     "text": [
      "(r0 = GO)\n",
      "(r1 = false)\n",
      "(rsel = false)\n",
      "(l1 = GO)\n",
      "(l0 = (and RES reg-out))\n",
      "(lsel = reg-out)\n",
      "(reg-in = (and (not KILL) reg-set))\n",
      "(reg-set = (or is-susp GO))\n",
      "(is-susp = (and SUSP reg-out))\n",
      "(SEL = (or rsel lsel))\n",
      "(K1 = (and left1 (and both1 right1)))\n",
      "(K0 = (and left0 (and both0 right0)))\n",
      "(left1 = (or left0 l1))\n",
      "(right1 = (or right0 r1))\n",
      "(both1 = (or l1 r1))\n",
      "(left0 = (or l0 lem))\n",
      "(right0 = (or r0 rem))\n",
      "(both0 = (or l0 r0))\n",
      "(rem = (and SEL (and RES (not rsel))))\n",
      "(lem = (and SEL (and RES (not lsel))))\n"
     ]
    }
   ],
   "source": [
    "(define/ppl start #:no-check\n",
    "  (;; nothing\n",
    "   (r0 = GO)\n",
    "   (r1 = false)\n",
    "   (rsel = false)\n",
    "   ;; pause\n",
    "   (l1 = GO)\n",
    "   (l0 = (and RES reg-out))\n",
    "   (lsel = reg-out)\n",
    "   (reg-in = (and (not KILL) reg-set))\n",
    "   (reg-set = (or is-susp GO))\n",
    "   (is-susp = (and SUSP reg-out))\n",
    "   (SEL = (or rsel lsel))\n",
    "    ;; synchronizer\n",
    "    (K1 = (and left1 (and both1 right1)))\n",
    "    (K0 = (and left0 (and both0 right0)))\n",
    "    (left1 = (or left0 l1))\n",
    "    (right1 = (or right0 r1))\n",
    "    (both1 = (or l1 r1))\n",
    "    (left0 = (or l0 lem))\n",
    "    (right0 = (or r0 rem))\n",
    "    (both0 = (or l0 r0))\n",
    "    (rem = (and SEL (and RES (not rsel))))\n",
    "    (lem = (and SEL (and RES (not lsel))))))\n",
    "    "
   ]
  },
  {
   "cell_type": "code",
   "execution_count": 3,
   "metadata": {},
   "outputs": [
    {
     "name": "stdout",
     "output_type": "stream",
     "text": [
      "(K1 = GO)\n",
      "(K0 = (and RES reg-out))\n",
      "(SEL = reg-out)\n",
      "(reg-in = (and (not KILL) reg-set))\n",
      "(reg-set = (or is-susp GO))\n",
      "(is-susp = (and SUSP reg-out))\n"
     ]
    }
   ],
   "source": [
    "(define/ppl end #:no-check\n",
    "   ((K1 = GO)\n",
    "   (K0 = (and RES reg-out))\n",
    "   (SEL = reg-out)\n",
    "   (reg-in = (and (not KILL) reg-set))\n",
    "   (reg-set = (or is-susp GO))\n",
    "   (is-susp = (and SUSP reg-out))))"
   ]
  },
  {
   "cell_type": "code",
   "execution_count": 4,
   "metadata": {},
   "outputs": [],
   "source": [
    "(assert-same (term start) (term end))"
   ]
  },
  {
   "cell_type": "code",
   "execution_count": 5,
   "metadata": {},
   "outputs": [],
   "source": [
    "(assert-same (term (replace* start [GO ⊥] [reg-out false]))\n",
    "             (term (replace* end [GO ⊥] [reg-out false])))"
   ]
  },
  {
   "cell_type": "code",
   "execution_count": 6,
   "metadata": {},
   "outputs": [
    {
     "name": "stdout",
     "output_type": "stream",
     "text": [
      "((+ r0) = false)\n",
      "((- r0) = false)\n",
      "((+ r1) = false)\n",
      "((- r1) = true)\n",
      "((+ rsel) = false)\n",
      "((- rsel) = true)\n",
      "((+ l1) = false)\n",
      "((- l1) = false)\n",
      "((+ l0) = (and (+ RES) false))\n",
      "((- l0) = (or (- RES) true))\n",
      "((+ lsel) = false)\n",
      "((- lsel) = true)\n",
      "((+ reg-in) = (and (- KILL) (+ reg-set)))\n",
      "((- reg-in) = (or (+ KILL) (- reg-set)))\n",
      "((+ reg-set) = (or (+ is-susp) false))\n",
      "((- reg-set) = (and (- is-susp) false))\n",
      "((+ is-susp) = (and (+ SUSP) false))\n",
      "((- is-susp) = (or (- SUSP) true))\n",
      "((+ SEL) = (or (+ rsel) (+ lsel)))\n",
      "((- SEL) = (and (- rsel) (- lsel)))\n",
      "((+ K1) = (and (+ left1) (and (+ both1) (+ right1))))\n",
      "((- K1) = (or (- left1) (or (- both1) (- right1))))\n",
      "((+ K0) = (and (+ left0) (and (+ both0) (+ right0))))\n",
      "((- K0) = (or (- left0) (or (- both0) (- right0))))\n",
      "((+ left1) = (or (+ left0) (+ l1)))\n",
      "((- left1) = (and (- left0) (- l1)))\n",
      "((+ right1) = (or (+ right0) (+ r1)))\n",
      "((- right1) = (and (- right0) (- r1)))\n",
      "((+ both1) = (or (+ l1) (+ r1)))\n",
      "((- both1) = (and (- l1) (- r1)))\n",
      "((+ left0) = (or (+ l0) (+ lem)))\n",
      "((- left0) = (and (- l0) (- lem)))\n",
      "((+ right0) = (or (+ r0) (+ rem)))\n",
      "((- right0) = (and (- r0) (- rem)))\n",
      "((+ both0) = (or (+ l0) (+ r0)))\n",
      "((- both0) = (and (- l0) (- r0)))\n",
      "((+ rem) = (and (+ SEL) (and (+ RES) (- rsel))))\n",
      "((- rem) = (or (- SEL) (or (- RES) (+ rsel))))\n",
      "((+ lem) = (and (+ SEL) (and (+ RES) (- lsel))))\n",
      "((- lem) = (or (- SEL) (or (- RES) (+ lsel))))\n"
     ]
    }
   ],
   "source": [
    "(define/ppl step1 #:no-check\n",
    "  (convert-P (replace* start [GO ⊥] [reg-out false])))"
   ]
  },
  {
   "cell_type": "code",
   "execution_count": 7,
   "metadata": {},
   "outputs": [
    {
     "name": "stdout",
     "output_type": "stream",
     "text": [
      "((+ r1) = false)\n",
      "((- r1) = true)\n",
      "((+ rsel) = false)\n",
      "((- rsel) = true)\n",
      "((+ lsel) = false)\n",
      "((- lsel) = true)\n",
      "((+ reg-in) = (and (- KILL) (+ reg-set)))\n",
      "((- reg-in) = (or (+ KILL) (- reg-set)))\n",
      "((+ reg-set) = (or (+ is-susp) false))\n",
      "((- reg-set) = (and (- is-susp) false))\n",
      "((+ is-susp) = (and (+ SUSP) false))\n",
      "((- is-susp) = (or (- SUSP) true))\n",
      "((+ K1) = (and (+ left1) (and (+ both1) (+ right1))))\n",
      "((- K1) = (or (- left1) (or (- both1) (- right1))))\n",
      "((+ K0) = (and (+ left0) (and (+ both0) (+ right0))))\n",
      "((- K0) = (or (- left0) (or (- both0) (- right0))))\n",
      "((+ left1) = (or (+ left0) false))\n",
      "((- left1) = (and (- left0) false))\n",
      "((+ right1) = (or (+ right0) (+ r1)))\n",
      "((- right1) = (and (- right0) (- r1)))\n",
      "((+ both1) = (or false (+ r1)))\n",
      "((- both1) = (and false (- r1)))\n",
      "((+ left0) = (or (and (+ RES) false) (+ lem)))\n",
      "((- left0) = (and (or (- RES) true) (- lem)))\n",
      "((+ right0) = (or false (+ rem)))\n",
      "((- right0) = (and false (- rem)))\n",
      "((+ both0) = (or (and (+ RES) false) false))\n",
      "((- both0) = (and (or (- RES) true) false))\n",
      "((+ rem) = (and (or (+ rsel) (+ lsel)) (and (+ RES) (- rsel))))\n",
      "((- rem) = (or (and (- rsel) (- lsel)) (or (- RES) (+ rsel))))\n",
      "((+ lem) = (and (or (+ rsel) (+ lsel)) (and (+ RES) (- lsel))))\n",
      "((- lem) = (or (and (- rsel) (- lsel)) (or (- RES) (+ lsel))))\n"
     ]
    }
   ],
   "source": [
    "(define/ppl step2 \n",
    "  propigate/remove* step1 (+ r0) (- r0) (- l1) (+ l1) (+ SEL) (- SEL) (+ l0) (- l0))"
   ]
  },
  {
   "cell_type": "code",
   "execution_count": 8,
   "metadata": {},
   "outputs": [
    {
     "name": "stdout",
     "output_type": "stream",
     "text": [
      "((+ r1) = false)\n",
      "((- r1) = true)\n",
      "((+ rsel) = false)\n",
      "((- rsel) = true)\n",
      "((+ lsel) = false)\n",
      "((- lsel) = true)\n",
      "((+ reg-in) = (and (- KILL) (+ reg-set)))\n",
      "((- reg-in) = (or (+ KILL) (- reg-set)))\n",
      "((+ reg-set) = (+ is-susp))\n",
      "((- reg-set) = false)\n",
      "((+ is-susp) = false)\n",
      "((- is-susp) = true)\n",
      "((+ K1) = (and (+ left1) (and (+ both1) (+ right1))))\n",
      "((- K1) = (or (- left1) (or (- both1) (- right1))))\n",
      "((+ K0) = (and (+ left0) (and (+ both0) (+ right0))))\n",
      "((- K0) = (or (- left0) (or (- both0) (- right0))))\n",
      "((+ left1) = (+ left0))\n",
      "((- left1) = false)\n",
      "((+ right1) = (or (+ right0) (+ r1)))\n",
      "((- right1) = (and (- right0) (- r1)))\n",
      "((+ both1) = (or false (+ r1)))\n",
      "((- both1) = (and false (- r1)))\n",
      "((+ left0) = (or false (+ lem)))\n",
      "((- left0) = (and true (- lem)))\n",
      "((+ right0) = (or false (+ rem)))\n",
      "((- right0) = (and false (- rem)))\n",
      "((+ both0) = false)\n",
      "((- both0) = false)\n",
      "((+ rem) = (and (or (+ rsel) (+ lsel)) (and (+ RES) (- rsel))))\n",
      "((- rem) = (or (and (- rsel) (- lsel)) (or (- RES) (+ rsel))))\n",
      "((+ lem) = (and (or (+ rsel) (+ lsel)) (and (+ RES) (- lsel))))\n",
      "((- lem) = (or (and (- rsel) (- lsel)) (or (- RES) (+ lsel))))\n"
     ]
    }
   ],
   "source": [
    "(define/ppl step3 \n",
    "  replace* step2\n",
    "  [(and (+ RES) false) false]\n",
    "  [(or (- RES) true) true]\n",
    "  [(or (+ is-susp) false) (+ is-susp)]\n",
    "  [(and (- is-susp) false) false]\n",
    "  [(and (+ SUSP) false) false]\n",
    "  [(or (- SUSP) true) true]\n",
    "  [(or (+ left0) false) (+ left0)]\n",
    "  [(and (- left0) false) false]\n",
    "  [(or (+ right0) false) (+ right0)]\n",
    "  [(and (- right0) true) (- right0)]\n",
    "  [(or false false) false]\n",
    "  [(and false true) false]\n",
    "  [(and false false) false]\n",
    "  [(or (+ l0) false) (+ l0)]\n",
    "  [(and (- l0) false) false]\n",
    "  [(and true false) false])"
   ]
  },
  {
   "cell_type": "code",
   "execution_count": 9,
   "metadata": {},
   "outputs": [
    {
     "name": "stdout",
     "output_type": "stream",
     "text": [
      "((+ r1) = false)\n",
      "((- r1) = true)\n",
      "((+ rsel) = false)\n",
      "((- rsel) = true)\n",
      "((+ lsel) = false)\n",
      "((- lsel) = true)\n",
      "((+ reg-in) = (and (- KILL) false))\n",
      "((- reg-in) = (or (+ KILL) false))\n",
      "((+ K1)\n",
      " =\n",
      " (and (+ left1) (and (or false (+ r1)) (or (or false (+ rem)) (+ r1)))))\n",
      "((- K1)\n",
      " =\n",
      " (or (- left1) (or (and false (- r1)) (and (and false (- rem)) (- r1)))))\n",
      "((+ K0)\n",
      " =\n",
      " (and (or false (and (or (+ rsel) (+ lsel)) (and (+ RES) (- lsel))))\n",
      "      (and false (or false (+ rem)))))\n",
      "((- K0)\n",
      " =\n",
      " (or (and true (or (and (- rsel) (- lsel)) (or (- RES) (+ lsel))))\n",
      "     (or false (and false (- rem)))))\n",
      "((+ left1) = (or false (and (or (+ rsel) (+ lsel)) (and (+ RES) (- lsel)))))\n",
      "((- left1) = false)\n",
      "((+ rem) = (and (or (+ rsel) (+ lsel)) (and (+ RES) (- rsel))))\n",
      "((- rem) = (or (and (- rsel) (- lsel)) (or (- RES) (+ rsel))))\n"
     ]
    }
   ],
   "source": [
    "(define/ppl step4\n",
    "  propigate/remove* step3\n",
    "  (+ reg-set) (- reg-set)\n",
    "  (+ is-susp) (- is-susp) (+ right1) (- right1) (+ both1) (- both1) (+ left0) (- left0)\n",
    "  (+ right0) (- right0) (+ both0) (- both0) (+ lem) (- lem))"
   ]
  },
  {
   "cell_type": "code",
   "execution_count": 10,
   "metadata": {},
   "outputs": [
    {
     "name": "stdout",
     "output_type": "stream",
     "text": [
      "((+ r1) = false)\n",
      "((- r1) = true)\n",
      "((+ rsel) = false)\n",
      "((- rsel) = true)\n",
      "((+ lsel) = false)\n",
      "((- lsel) = true)\n",
      "((+ reg-in) = false)\n",
      "((- reg-in) = (+ KILL))\n",
      "((+ K1)\n",
      " =\n",
      " (and (+ left1) (and (or false (+ r1)) (or (or false (+ rem)) (+ r1)))))\n",
      "((- K1)\n",
      " =\n",
      " (or (- left1) (or (and false (- r1)) (and (and false (- rem)) (- r1)))))\n",
      "((+ K0)\n",
      " =\n",
      " (and (or false (and (or (+ rsel) (+ lsel)) (and (+ RES) (- lsel))))\n",
      "      (and false (or false (+ rem)))))\n",
      "((- K0)\n",
      " =\n",
      " (or (and true (or (and (- rsel) (- lsel)) (or (- RES) (+ lsel))))\n",
      "     (or false (and false (- rem)))))\n",
      "((+ left1) = (or false (and (or (+ rsel) (+ lsel)) (and (+ RES) (- lsel)))))\n",
      "((- left1) = false)\n",
      "((+ rem) = (and (or (+ rsel) (+ lsel)) (and (+ RES) (- rsel))))\n",
      "((- rem) = (or (and (- rsel) (- lsel)) (or (- RES) (+ rsel))))\n"
     ]
    }
   ],
   "source": [
    "(define/ppl step5\n",
    "  replace* step4\n",
    "  [(and (- KILL) false) false]\n",
    "  [(or (+ KILL) false) (+ KILL)]\n",
    "  [(and (+ left1) (and false false)) false]\n",
    "  [(or (- left1) (or false false)) (- left1)]\n",
    "  [(and (or false false) (and false false)) false]\n",
    "  [(or (and true false) (or false false)) false]\n",
    "  [(or false false) false])"
   ]
  },
  {
   "cell_type": "code",
   "execution_count": 11,
   "metadata": {},
   "outputs": [
    {
     "name": "stdout",
     "output_type": "stream",
     "text": [
      "((+ r1) = false)\n",
      "((- r1) = true)\n",
      "((+ rsel) = false)\n",
      "((- rsel) = true)\n",
      "((+ lsel) = false)\n",
      "((- lsel) = true)\n",
      "((+ K1)\n",
      " =\n",
      " (and (or false (and (or (+ rsel) (+ lsel)) (and (+ RES) (- lsel))))\n",
      "      (and (or false (+ r1)) (or (or false (+ rem)) (+ r1)))))\n",
      "((- K1) = (or false (or (and false (- r1)) (and (and false (- rem)) (- r1)))))\n",
      "((+ K0)\n",
      " =\n",
      " (and (or false (and (or (+ rsel) (+ lsel)) (and (+ RES) (- lsel))))\n",
      "      (and false (or false (+ rem)))))\n",
      "((- K0)\n",
      " =\n",
      " (or (and true (or (and (- rsel) (- lsel)) (or (- RES) (+ lsel))))\n",
      "     (or false (and false (- rem)))))\n",
      "((+ rem) = (and (or (+ rsel) (+ lsel)) (and (+ RES) (- rsel))))\n",
      "((- rem) = (or (and (- rsel) (- lsel)) (or (- RES) (+ rsel))))\n"
     ]
    }
   ],
   "source": [
    "(define/ppl step6\n",
    "  propigate/remove* step5\n",
    "  (+ reg-in) (- reg-in) (+ left1) (- left1))"
   ]
  },
  {
   "cell_type": "code",
   "execution_count": 12,
   "metadata": {},
   "outputs": [
    {
     "name": "stdout",
     "output_type": "stream",
     "text": [
      "(K1 = ⊥)\n",
      "(K0 = (and RES false))\n",
      "(SEL = false)\n",
      "(reg-in = (and (not KILL) reg-set))\n",
      "(reg-set = (or is-susp ⊥))\n",
      "(is-susp = (and SUSP false))\n"
     ]
    }
   ],
   "source": [
    "(define/ppl step-a #:no-check\n",
    "  (replace* end [GO ⊥] [reg-out false]))"
   ]
  },
  {
   "cell_type": "code",
   "execution_count": 13,
   "metadata": {},
   "outputs": [
    {
     "name": "stdout",
     "output_type": "stream",
     "text": [
      "(K1 = ⊥)\n",
      "(K0 = false)\n",
      "(SEL = false)\n",
      "(reg-in = (and (not KILL) reg-set))\n",
      "(reg-set = (or is-susp ⊥))\n",
      "(is-susp = false)\n"
     ]
    }
   ],
   "source": [
    "(define/ppl step-b\n",
    "  replace* step-a\n",
    "  [(and RES false) false]\n",
    "  [(and SUSP false) false])"
   ]
  },
  {
   "cell_type": "code",
   "execution_count": null,
   "metadata": {
    "collapsed": true
   },
   "outputs": [],
   "source": []
  }
 ],
 "metadata": {
  "kernelspec": {
   "display_name": "Racket",
   "language": "racket",
   "name": "racket"
  },
  "language_info": {
   "codemirror_mode": "scheme",
   "file_extension": ".rkt",
   "mimetype": "text/x-racket",
   "name": "Racket",
   "pygments_lexer": "racket",
   "version": "7.3.0.3"
  }
 },
 "nbformat": 4,
 "nbformat_minor": 2
}
