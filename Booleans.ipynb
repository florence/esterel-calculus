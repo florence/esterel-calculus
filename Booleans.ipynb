{
 "cells": [
  {
   "cell_type": "code",
   "execution_count": 1,
   "metadata": {},
   "outputs": [],
   "source": [
    "(require booleans redex/reduction-semantics racket/pretty \n",
    "        (for-syntax syntax/parse racket/base))\n",
    "(define-syntax define/ppl \n",
    " (syntax-parser \n",
    "   [(_ name body) \n",
    "    #'(begin (define-term name body)\n",
    "             (for-each pretty-write (term name)))]))"
   ]
  },
  {
   "cell_type": "markdown",
   "metadata": {},
   "source": [
    "\n",
    "The COS circuit for:\n",
    "```\n",
    "(signal S1\n",
    "    (present S1\n",
    "     (seq (emit S2)\n",
    "          (present S2\n",
    "             nothing\n",
    "             (emit S1)))\n",
    "     nothing))\n",
    "```"
   ]
  },
  {
   "cell_type": "code",
   "execution_count": 2,
   "metadata": {},
   "outputs": [
    {
     "name": "stdout",
     "output_type": "stream",
     "text": [
      "(START = true)\n",
      "(present-S1-else = (and (not S1) START))\n",
      "(present-S1-then = (and S1 START))\n",
      "(S2 = present-S1-then)\n",
      "(present-S2-then = (and S2 present-S1-then))\n",
      "(present-S2-else = (and (not S2) present-S1-then))\n",
      "(S1 = present-S2-else)\n",
      "(present-S2-term = (or present-S2-else present-S2-else))\n",
      "(term = (or present-S1-else present-S2-term))\n"
     ]
    }
   ],
   "source": [
    "(define/ppl a-circuit\n",
    "   ([START = true]\n",
    "    [present-S1-else = (and (not S1) START)]\n",
    "    [present-S1-then = (and S1 START)]\n",
    "    [S2 = present-S1-then]\n",
    "    [present-S2-then = (and S2 present-S1-then)]\n",
    "    [present-S2-else = (and (not S2) present-S1-then)]\n",
    "    [S1 = present-S2-else]\n",
    "    [present-S2-term = (or present-S2-else present-S2-else)]\n",
    "    [term = (or present-S1-else\n",
    "                present-S2-term)]))"
   ]
  },
  {
   "cell_type": "code",
   "execution_count": 3,
   "metadata": {},
   "outputs": [
    {
     "name": "stdout",
     "output_type": "stream",
     "text": [
      "((+ START) = true)\n",
      "((- START) = false)\n",
      "((+ present-S1-else) = (and (- S1) (+ START)))\n",
      "((- present-S1-else) = (or (+ S1) (- START)))\n",
      "((+ present-S1-then) = (and (+ S1) (+ START)))\n",
      "((- present-S1-then) = (or (- S1) (- START)))\n",
      "((+ S2) = (+ present-S1-then))\n",
      "((- S2) = (- present-S1-then))\n",
      "((+ present-S2-then) = (and (+ S2) (+ present-S1-then)))\n",
      "((- present-S2-then) = (or (- S2) (- present-S1-then)))\n",
      "((+ present-S2-else) = (and (- S2) (+ present-S1-then)))\n",
      "((- present-S2-else) = (or (+ S2) (- present-S1-then)))\n",
      "((+ S1) = (+ present-S2-else))\n",
      "((- S1) = (- present-S2-else))\n",
      "((+ present-S2-term) = (or (+ present-S2-else) (+ present-S2-else)))\n",
      "((- present-S2-term) = (and (- present-S2-else) (- present-S2-else)))\n",
      "((+ term) = (or (+ present-S1-else) (+ present-S2-term)))\n",
      "((- term) = (and (- present-S1-else) (- present-S2-term)))\n"
     ]
    }
   ],
   "source": [
    "(define/ppl b-circuit (convert-P a-circuit))"
   ]
  },
  {
   "cell_type": "markdown",
   "metadata": {},
   "source": [
    "Classical logic on b-circuit"
   ]
  },
  {
   "cell_type": "code",
   "execution_count": 4,
   "metadata": {},
   "outputs": [
    {
     "name": "stdout",
     "output_type": "stream",
     "text": [
      "((+ present-S1-else) = (and (- S1) true))\n",
      "((- present-S1-else) = (or (+ S1) false))\n",
      "((+ present-S1-then) = (and (+ S1) true))\n",
      "((- present-S1-then) = (or (- S1) false))\n",
      "((+ S2) = (+ present-S1-then))\n",
      "((- S2) = (- present-S1-then))\n",
      "((+ present-S2-then) = (and (+ S2) (+ present-S1-then)))\n",
      "((- present-S2-then) = (or (- S2) (- present-S1-then)))\n",
      "((+ present-S2-else) = (and (- S2) (+ present-S1-then)))\n",
      "((- present-S2-else) = (or (+ S2) (- present-S1-then)))\n",
      "((+ S1) = (+ present-S2-else))\n",
      "((- S1) = (- present-S2-else))\n",
      "((+ present-S2-term) = (or (+ present-S2-else) (+ present-S2-else)))\n",
      "((- present-S2-term) = (and (- present-S2-else) (- present-S2-else)))\n",
      "((+ term) = (or (+ present-S1-else) (+ present-S2-term)))\n",
      "((- term) = (and (- present-S1-else) (- present-S2-term)))\n"
     ]
    }
   ],
   "source": [
    "(define/ppl step2-classic\n",
    "  (propigate/remove* b-circuit (+ START) (- START)))"
   ]
  },
  {
   "cell_type": "code",
   "execution_count": 5,
   "metadata": {},
   "outputs": [
    {
     "name": "stdout",
     "output_type": "stream",
     "text": [
      "((+ S2) = (and (+ S1) true))\n",
      "((- S2) = (or (- S1) false))\n",
      "((+ present-S2-then) = (and (+ S2) (and (+ S1) true)))\n",
      "((- present-S2-then) = (or (- S2) (or (- S1) false)))\n",
      "((+ present-S2-else) = (and (- S2) (and (+ S1) true)))\n",
      "((- present-S2-else) = (or (+ S2) (or (- S1) false)))\n",
      "((+ S1) = (+ present-S2-else))\n",
      "((- S1) = (- present-S2-else))\n",
      "((+ present-S2-term) = (or (+ present-S2-else) (+ present-S2-else)))\n",
      "((- present-S2-term) = (and (- present-S2-else) (- present-S2-else)))\n",
      "((+ term) = (or (and (- S1) true) (+ present-S2-term)))\n",
      "((- term) = (and (or (+ S1) false) (- present-S2-term)))\n"
     ]
    }
   ],
   "source": [
    "(define/ppl step3-classic\n",
    "  (propigate/remove* step2-classic\n",
    "                     (- present-S1-then) (+ present-S1-then)\n",
    "                     (- present-S1-else) (+ present-S1-else)))"
   ]
  },
  {
   "cell_type": "code",
   "execution_count": 6,
   "metadata": {},
   "outputs": [
    {
     "name": "stdout",
     "output_type": "stream",
     "text": [
      "((+ S2) = (and (+ S1) true))\n",
      "((- S2) = (or (- S1) false))\n",
      "((+ S1) = (and (- S2) (and (+ S1) true)))\n",
      "((- S1) = (or (+ S2) (or (- S1) false)))\n",
      "((+ present-S2-term)\n",
      " =\n",
      " (or (and (- S2) (and (+ S1) true)) (and (- S2) (and (+ S1) true))))\n",
      "((- present-S2-term)\n",
      " =\n",
      " (and (or (+ S2) (or (- S1) false)) (or (+ S2) (or (- S1) false))))\n",
      "((+ term) = (or (and (- S1) true) (+ present-S2-term)))\n",
      "((- term) = (and (or (+ S1) false) (- present-S2-term)))\n"
     ]
    }
   ],
   "source": [
    "(define/ppl step4-classic\n",
    "  (propigate/remove* step3-classic\n",
    "                     (- present-S2-then) (+ present-S2-then)\n",
    "                     (- present-S2-else) (+ present-S2-else)))"
   ]
  },
  {
   "cell_type": "code",
   "execution_count": 7,
   "metadata": {},
   "outputs": [
    {
     "name": "stdout",
     "output_type": "stream",
     "text": [
      "((+ S2) = (+ S1))\n",
      "((- S2) = (- S1))\n",
      "((+ S1) = (and (- S2) (+ S1)))\n",
      "((- S1) = (or (+ S2) (- S1)))\n",
      "((+ present-S2-term) = (or (and (- S2) (+ S1)) (and (- S2) (+ S1))))\n",
      "((- present-S2-term) = (and (or (+ S2) (- S1)) (or (+ S2) (- S1))))\n",
      "((+ term) = (or (and (- S1) true) (+ present-S2-term)))\n",
      "((- term) = (and (or (+ S1) false) (- present-S2-term)))\n"
     ]
    }
   ],
   "source": [
    "(define/ppl step5-classic\n",
    "  (replace* step4-classic\n",
    "            [(and (+ S1) true) (+ S1)]\n",
    "            [(or (- S1) false) (- S1)]))"
   ]
  },
  {
   "cell_type": "code",
   "execution_count": 8,
   "metadata": {},
   "outputs": [
    {
     "name": "stdout",
     "output_type": "stream",
     "text": [
      "((+ S1) = (and (- S1) (+ S1)))\n",
      "((- S1) = (or (+ S1) (- S1)))\n",
      "((+ present-S2-term) = (or (and (- S1) (+ S1)) (and (- S1) (+ S1))))\n",
      "((- present-S2-term) = (and (or (+ S1) (- S1)) (or (+ S1) (- S1))))\n",
      "((+ term) = (or (and (- S1) true) (+ present-S2-term)))\n",
      "((- term) = (and (or (+ S1) false) (- present-S2-term)))\n"
     ]
    }
   ],
   "source": [
    "(define/ppl step6-classic\n",
    " (propigate/remove* step5-classic \n",
    "                    (- S2) \n",
    "                    (+ S2)))"
   ]
  },
  {
   "cell_type": "code",
   "execution_count": 9,
   "metadata": {},
   "outputs": [
    {
     "name": "stdout",
     "output_type": "stream",
     "text": [
      "((+ S1) = false)\n",
      "((- S1) = (or (+ S1) (- S1)))\n",
      "((+ present-S2-term) = (or false false))\n",
      "((- present-S2-term) = (and (or (+ S1) (- S1)) (or (+ S1) (- S1))))\n",
      "((+ term) = (or (and (- S1) true) (+ present-S2-term)))\n",
      "((- term) = (and (or (+ S1) false) (- present-S2-term)))\n"
     ]
    }
   ],
   "source": [
    "(define/ppl step7-classic \n",
    " (replace* step6-classic\n",
    "           [(and (- S1) (+ S1)) false]))"
   ]
  },
  {
   "cell_type": "code",
   "execution_count": 10,
   "metadata": {},
   "outputs": [
    {
     "name": "stdout",
     "output_type": "stream",
     "text": [
      "((+ S1) = false)\n",
      "((- S1) = (or false (- S1)))\n",
      "((+ present-S2-term) = (or false false))\n",
      "((- present-S2-term) = (and (or false (- S1)) (or false (- S1))))\n",
      "((+ term) = (or (and (- S1) true) (+ present-S2-term)))\n",
      "((- term) = (and (or false false) (- present-S2-term)))\n"
     ]
    }
   ],
   "source": [
    "(define/ppl step8-classic (propigate* step7-classic (+ S1)))"
   ]
  },
  {
   "cell_type": "code",
   "execution_count": 11,
   "metadata": {},
   "outputs": [
    {
     "name": "stdout",
     "output_type": "stream",
     "text": [
      "((+ S1) = false)\n",
      "((- S1) = (- S1))\n",
      "((+ present-S2-term) = false)\n",
      "((- present-S2-term) = (and (- S1) (- S1)))\n",
      "((+ term) = (or (- S1) (+ present-S2-term)))\n",
      "((- term) = (and false (- present-S2-term)))\n"
     ]
    }
   ],
   "source": [
    "(define/ppl step9-classic \n",
    " (replace* step8-classic\n",
    "           [(or false (- S1)) (- S1)]\n",
    "           [(and (- S1) true) (- S1)]\n",
    "           [(or false false) false]))"
   ]
  },
  {
   "cell_type": "code",
   "execution_count": 12,
   "metadata": {},
   "outputs": [
    {
     "name": "stdout",
     "output_type": "stream",
     "text": [
      "((+ S1) = false)\n",
      "((- S1) = (- S1))\n",
      "((- present-S2-term) = (and (- S1) (- S1)))\n",
      "((+ term) = (or (- S1) false))\n",
      "((- term) = (and false (- present-S2-term)))\n"
     ]
    }
   ],
   "source": [
    "(define/ppl step10-classic\n",
    "  (propigate/remove* step9-classic (+ present-S2-term)))"
   ]
  },
  {
   "cell_type": "code",
   "execution_count": 13,
   "metadata": {},
   "outputs": [
    {
     "name": "stdout",
     "output_type": "stream",
     "text": [
      "((+ S1) = false)\n",
      "((- S1) = (- S1))\n",
      "((- present-S2-term) = (- S1))\n",
      "((+ term) = (- S1))\n",
      "((- term) = (- present-S2-term))\n"
     ]
    }
   ],
   "source": [
    "(define/ppl step11-classic\n",
    "  (replace* step10-classic\n",
    "            [(or (- S1) false) (- S1)]\n",
    "            [(and false (- present-S2-term)) (- present-S2-term)]\n",
    "            [(and (- S1) (- S1)) (- S1)]))"
   ]
  },
  {
   "cell_type": "code",
   "execution_count": 14,
   "metadata": {},
   "outputs": [
    {
     "name": "stdout",
     "output_type": "stream",
     "text": [
      "((+ S1) = false)\n",
      "((- S1) = (- S1))\n",
      "((+ term) = (- S1))\n",
      "((- term) = (- S1))\n"
     ]
    }
   ],
   "source": [
    "(define/ppl step12-classic\n",
    "  (propigate/remove* step11-classic\n",
    "                     (- present-S2-term)))"
   ]
  },
  {
   "cell_type": "markdown",
   "metadata": {},
   "source": [
    "This last step is purely classical: we guess that `(- S1)` could be false. (It can't be true, because that would make `+term` and `-term` true)"
   ]
  },
  {
   "cell_type": "code",
   "execution_count": 15,
   "metadata": {},
   "outputs": [
    {
     "name": "stdout",
     "output_type": "stream",
     "text": [
      "((+ S1) = false)\n",
      "((- S1) = false)\n",
      "((+ term) = false)\n",
      "((- term) = false)\n"
     ]
    }
   ],
   "source": [
    "(define/ppl step13-classic\n",
    "  (replace* step12-classic\n",
    "            [(- S1) false]))"
   ]
  },
  {
   "cell_type": "markdown",
   "metadata": {},
   "source": [
    "Now we start constructive logic solving on `a-circuit`"
   ]
  },
  {
   "cell_type": "code",
   "execution_count": 16,
   "metadata": {},
   "outputs": [
    {
     "name": "stdout",
     "output_type": "stream",
     "text": [
      "(present-S1-else = (and (not S1) true))\n",
      "(present-S1-then = (and S1 true))\n",
      "(S2 = present-S1-then)\n",
      "(present-S2-then = (and S2 present-S1-then))\n",
      "(present-S2-else = (and (not S2) present-S1-then))\n",
      "(S1 = present-S2-else)\n",
      "(present-S2-term = (or present-S2-else present-S2-else))\n",
      "(term = (or present-S1-else present-S2-term))\n"
     ]
    }
   ],
   "source": [
    "(define/ppl step2 (propigate/remove* a-circuit START))"
   ]
  },
  {
   "cell_type": "code",
   "execution_count": 17,
   "metadata": {},
   "outputs": [
    {
     "name": "stdout",
     "output_type": "stream",
     "text": [
      "(S2 = (and S1 true))\n",
      "(present-S2-then = (and S2 (and S1 true)))\n",
      "(present-S2-else = (and (not S2) (and S1 true)))\n",
      "(S1 = present-S2-else)\n",
      "(present-S2-term = (or present-S2-else present-S2-else))\n",
      "(term = (or (and (not S1) true) present-S2-term))\n"
     ]
    }
   ],
   "source": [
    "(define/ppl step3 \n",
    " (propigate/remove* step2 \n",
    "                    present-S1-then\n",
    "                    present-S1-else))"
   ]
  },
  {
   "cell_type": "code",
   "execution_count": 18,
   "metadata": {},
   "outputs": [
    {
     "name": "stdout",
     "output_type": "stream",
     "text": [
      "(S2 = (and S1 true))\n",
      "(S1 = (and (not S2) (and S1 true)))\n",
      "(present-S2-term\n",
      " =\n",
      " (or (and (not S2) (and S1 true)) (and (not S2) (and S1 true))))\n",
      "(term = (or (and (not S1) true) present-S2-term))\n"
     ]
    }
   ],
   "source": [
    "(define/ppl step4 \n",
    "  (propigate/remove* step3 \n",
    "                     present-S2-then\n",
    "                     present-S2-else))"
   ]
  },
  {
   "cell_type": "code",
   "execution_count": 19,
   "metadata": {},
   "outputs": [
    {
     "name": "stdout",
     "output_type": "stream",
     "text": [
      "(S2 = S1)\n",
      "(S1 = (and (not S2) S1))\n",
      "(present-S2-term = (or (and (not S2) S1) (and (not S2) S1)))\n",
      "(term = (or (and (not S1) true) present-S2-term))\n"
     ]
    }
   ],
   "source": [
    "(define/ppl step5 \n",
    " (replace* step4 \n",
    "           [(and S1 true) S1]))"
   ]
  },
  {
   "cell_type": "code",
   "execution_count": 20,
   "metadata": {},
   "outputs": [
    {
     "name": "stdout",
     "output_type": "stream",
     "text": [
      "(S1 = (and (not S1) S1))\n",
      "(present-S2-term = (or (and (not S1) S1) (and (not S1) S1)))\n",
      "(term = (or (and (not S1) true) present-S2-term))\n"
     ]
    }
   ],
   "source": [
    "(define/ppl step6 \n",
    " (propigate/remove* step5 S2))"
   ]
  },
  {
   "cell_type": "code",
   "execution_count": 23,
   "metadata": {},
   "outputs": [
    {
     "name": "stdout",
     "output_type": "stream",
     "text": [
      "(S1 = S1)\n",
      "(present-S2-term = (or S1 S1))\n",
      "(term = (or (not S1) present-S2-term))\n"
     ]
    }
   ],
   "source": [
    "(define/ppl step7\n",
    " (replace* step6 \n",
    "           [(and (not S1) S1) S1];; this could also be false, but that breaks?\n",
    "           [(and (not S1) true) (not S1)]))"
   ]
  },
  {
   "cell_type": "code",
   "execution_count": 24,
   "metadata": {},
   "outputs": [
    {
     "name": "stdout",
     "output_type": "stream",
     "text": [
      "(S1 = S1)\n",
      "(term = (or (not S1) (or S1 S1)))\n"
     ]
    }
   ],
   "source": [
    "(define/ppl step8\n",
    "  (propigate/remove* step7 present-S2-term))"
   ]
  },
  {
   "cell_type": "code",
   "execution_count": 25,
   "metadata": {},
   "outputs": [
    {
     "name": "stdout",
     "output_type": "stream",
     "text": [
      "(S1 = S1)\n",
      "(term = (or (not S1) S1))\n"
     ]
    }
   ],
   "source": [
    "(define/ppl step9\n",
    "  (replace* step8 \n",
    "            [(or S1 S1) S1]))"
   ]
  },
  {
   "cell_type": "code",
   "execution_count": 26,
   "metadata": {},
   "outputs": [
    {
     "name": "stdout",
     "output_type": "stream",
     "text": [
      "((+ S1) = (+ S1))\n",
      "((- S1) = (- S1))\n",
      "((+ term) = (or (- S1) (+ S1)))\n",
      "((- term) = (and (+ S1) (- S1)))\n"
     ]
    }
   ],
   "source": [
    "(define/ppl step9-classic (convert-P step9))"
   ]
  },
  {
   "cell_type": "code",
   "execution_count": null,
   "metadata": {
    "collapsed": true
   },
   "outputs": [],
   "source": []
  }
 ],
 "metadata": {
  "kernelspec": {
   "display_name": "Racket",
   "language": "racket",
   "name": "racket"
  },
  "language_info": {
   "codemirror_mode": "scheme",
   "file_extension": ".rkt",
   "mimetype": "text/x-racket",
   "name": "Racket",
   "pygments_lexer": "racket",
   "version": "7.3.0.3"
  }
 },
 "nbformat": 4,
 "nbformat_minor": 2
}
