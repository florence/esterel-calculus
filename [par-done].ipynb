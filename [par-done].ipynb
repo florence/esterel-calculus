{
 "cells": [
  {
   "cell_type": "code",
   "execution_count": 1,
   "metadata": {
    "collapsed": true
   },
   "outputs": [],
   "source": [
    "(require booleans)"
   ]
  },
  {
   "cell_type": "markdown",
   "metadata": {},
   "source": [
    "Some possibly helpful laws:\n",
    "\n",
    "Posulate 1: `¬( GO ∨ (RES ∧ SEL))` implies all `E'` is `0` and all `kn` are `0`.\n",
    "  Correlary 1: This holds for `¬(GO ∨ SEL)`\n",
    "  Correlary 2: This holds for `¬(GO ∨ RES)`\n",
    "\n",
    "Postulate 2: forall `n` `m`, `m != n`, `¬ (kn ^ km)`, that is at most one `k` wire is selected.\n"
   ]
  },
  {
   "cell_type": "code",
   "execution_count": 2,
   "metadata": {},
   "outputs": [
    {
     "name": "stdout",
     "output_type": "stream",
     "text": [
      "(K0 = (and left (and right both)))\n",
      "(left = (or l0 lem))\n",
      "(right = (or r0 rem))\n",
      "(l0 = GO)\n",
      "(lem = (not (or GO false)))\n",
      "(rem = (not (or GO sel)))\n",
      "(both = (or l0 r0))\n"
     ]
    }
   ],
   "source": [
    "(define/ppl start #:no-check\n",
    "  ((K0 = (and left (and right both)))\n",
    "   (left = (or l0 lem))\n",
    "   (right = (or r0 rem))\n",
    "   (l0 = GO)\n",
    "   (lem = (not (or GO false)))\n",
    "   (rem = (not (or GO sel)))\n",
    "   (both = (or l0 r0))))"
   ]
  },
  {
   "cell_type": "code",
   "execution_count": 3,
   "metadata": {},
   "outputs": [
    {
     "name": "stdout",
     "output_type": "stream",
     "text": [
      "((+ K0) = (and (+ left) (and (+ right) (+ both))))\n",
      "((- K0) = (or (- left) (or (- right) (- both))))\n",
      "((+ left) = (or (+ l0) (+ lem)))\n",
      "((- left) = (and (- l0) (- lem)))\n",
      "((+ right) = (or (+ r0) (+ rem)))\n",
      "((- right) = (and (- r0) (- rem)))\n",
      "((+ l0) = (+ GO))\n",
      "((- l0) = (- GO))\n",
      "((+ lem) = (and (- GO) true))\n",
      "((- lem) = (or (+ GO) false))\n",
      "((+ rem) = (and (- GO) (- sel)))\n",
      "((- rem) = (or (+ GO) (+ sel)))\n",
      "((+ both) = (or (+ l0) (+ r0)))\n",
      "((- both) = (and (- l0) (- r0)))\n"
     ]
    }
   ],
   "source": [
    "(define/ppl translated #:no-check\n",
    "  (convert-P start))"
   ]
  },
  {
   "cell_type": "markdown",
   "metadata": {},
   "source": [
    "Step 1: By rules of `and` and `or`"
   ]
  },
  {
   "cell_type": "code",
   "execution_count": 4,
   "metadata": {},
   "outputs": [
    {
     "name": "stdout",
     "output_type": "stream",
     "text": [
      "((+ K0) = (and (+ left) (and (+ right) (+ both))))\n",
      "((- K0) = (or (- left) (or (- right) (- both))))\n",
      "((+ left) = (or (+ l0) (+ lem)))\n",
      "((- left) = (and (- l0) (- lem)))\n",
      "((+ right) = (or (+ r0) (+ rem)))\n",
      "((- right) = (and (- r0) (- rem)))\n",
      "((+ l0) = (+ GO))\n",
      "((- l0) = (- GO))\n",
      "((+ lem) = (- GO))\n",
      "((- lem) = (+ GO))\n",
      "((+ rem) = (and (- GO) (- sel)))\n",
      "((- rem) = (or (+ GO) (+ sel)))\n",
      "((+ both) = (or (+ l0) (+ r0)))\n",
      "((- both) = (and (- l0) (- r0)))\n"
     ]
    }
   ],
   "source": [
    "(define/ppl step1\n",
    "  replace* translated\n",
    "           [(or (+ GO) false) (+ GO)]\n",
    "           [(and (- GO) true) (- GO)])"
   ]
  },
  {
   "cell_type": "code",
   "execution_count": 5,
   "metadata": {},
   "outputs": [
    {
     "name": "stdout",
     "output_type": "stream",
     "text": [
      "((+ K0) = (and (+ left) (and (+ right) (+ both))))\n",
      "((- K0) = (or (- left) (or (- right) (- both))))\n",
      "((+ left) = (or (+ GO) (- GO)))\n",
      "((- left) = (and (- GO) (+ GO)))\n",
      "((+ right) = (or (+ r0) (+ rem)))\n",
      "((- right) = (and (- r0) (- rem)))\n",
      "((+ rem) = (and (- GO) (- sel)))\n",
      "((- rem) = (or (+ GO) (+ sel)))\n",
      "((+ both) = (or (+ GO) (+ r0)))\n",
      "((- both) = (and (- GO) (- r0)))\n"
     ]
    }
   ],
   "source": [
    "(define/ppl step2\n",
    "  propigate/remove* step1 (+ l0) (- l0) (+ lem) (- lem))"
   ]
  },
  {
   "cell_type": "markdown",
   "metadata": {},
   "source": [
    "By +x and -x = 0 and law of the excluded middle we can have\n",
    "three cases:\n",
    "\n",
    "1. `+GO` = `-GO` = 0\n",
    "2. `+GO` = 1, `-GO` = 0\n",
    "3. `+GO` = 0, `-GO` = 1"
   ]
  },
  {
   "cell_type": "markdown",
   "metadata": {},
   "source": [
    "# CASE 1 `+GO` = `-GO` = 0 (`GO` is unknown)"
   ]
  },
  {
   "cell_type": "code",
   "execution_count": 6,
   "metadata": {},
   "outputs": [
    {
     "name": "stdout",
     "output_type": "stream",
     "text": [
      "((+ K0) = (and (+ left) (and (+ right) (+ both))))\n",
      "((- K0) = (or (- left) (or (- right) (- both))))\n",
      "((+ left) = (or false false))\n",
      "((- left) = (and false false))\n",
      "((+ right) = (or (+ r0) (+ rem)))\n",
      "((- right) = (and (- r0) (- rem)))\n",
      "((+ rem) = (and false (- sel)))\n",
      "((- rem) = (or false (+ sel)))\n",
      "((+ both) = (or false (+ r0)))\n",
      "((- both) = (and false (- r0)))\n"
     ]
    }
   ],
   "source": [
    "(define/ppl case1-step1 #:no-check\n",
    "  (replace* \n",
    "   step2\n",
    "   [(+ GO) false]\n",
    "   [(- GO) false]))"
   ]
  },
  {
   "cell_type": "markdown",
   "metadata": {},
   "source": [
    "by the laws of and/or on false"
   ]
  },
  {
   "cell_type": "code",
   "execution_count": 7,
   "metadata": {},
   "outputs": [
    {
     "name": "stdout",
     "output_type": "stream",
     "text": [
      "((+ K0) = (and (+ left) (and (+ right) (+ both))))\n",
      "((- K0) = (or (- left) (or (- right) (- both))))\n",
      "((+ left) = false)\n",
      "((- left) = false)\n",
      "((+ right) = (or (+ r0) (+ rem)))\n",
      "((- right) = (and (- r0) (- rem)))\n",
      "((+ rem) = false)\n",
      "((- rem) = (+ sel))\n",
      "((+ both) = (+ r0))\n",
      "((- both) = false)\n"
     ]
    }
   ],
   "source": [
    "(define/ppl case1-step2\n",
    "  replace* case1-step1\n",
    "           [(and false (- sel)) false]\n",
    "           [(or false (+ sel))  (+ sel)]\n",
    "           [(or false (+ r0)) (+ r0)]\n",
    "           [(and false (- r0)) false]\n",
    "           [(or false false) false]\n",
    "           [(and false false) false])"
   ]
  },
  {
   "cell_type": "code",
   "execution_count": 8,
   "metadata": {},
   "outputs": [
    {
     "name": "stdout",
     "output_type": "stream",
     "text": [
      "((+ K0) = (and false (and (+ right) (+ r0))))\n",
      "((- K0) = (or false (or (- right) false)))\n",
      "((+ right) = (or (+ r0) false))\n",
      "((- right) = (and (- r0) (+ sel)))\n"
     ]
    }
   ],
   "source": [
    "(define/ppl case1-step3\n",
    "   propigate/remove* case1-step2\n",
    "                     (+ rem) (- rem)\n",
    "                     (+ both) (- both)\n",
    "                     (+ left) (- left))"
   ]
  },
  {
   "cell_type": "code",
   "execution_count": 9,
   "metadata": {},
   "outputs": [
    {
     "name": "stdout",
     "output_type": "stream",
     "text": [
      "((+ K0) = false)\n",
      "((- K0) = (- right))\n",
      "((+ right) = (+ r0))\n",
      "((- right) = (and (- r0) (+ sel)))\n"
     ]
    }
   ],
   "source": [
    "(define/ppl case1-step4\n",
    "   replace* case1-step3\n",
    "            [(or (+ r0) false) (+ r0)]\n",
    "            [(and false (and (+ right) (+ r0))) false]\n",
    "            [(or false (or (- right) false)) (- right)])"
   ]
  },
  {
   "cell_type": "code",
   "execution_count": 10,
   "metadata": {},
   "outputs": [
    {
     "name": "stdout",
     "output_type": "stream",
     "text": [
      "((+ K0) = false)\n",
      "((- K0) = (and (- r0) (+ sel)))\n"
     ]
    }
   ],
   "source": [
    "(define/ppl case1-step5\n",
    "            propigate/remove* case1-step4\n",
    "                              (+ right)\n",
    "                              (- right))"
   ]
  },
  {
   "cell_type": "markdown",
   "metadata": {},
   "source": [
    "By Postulate 1 Correlay 1, `r0` is only set if we have either `GO` or `SEL`, Since we don't have `GO` here, we can only have `R0` if `+sel` is `1`.  Thus this reads: if `SEL` is undefined or not set, then `k0` is undefined. If `sel` is defined and `1` then `k0` is `0` if `r0` is `0`, and undefined otherwise. This last part seems wrong..."
   ]
  },
  {
   "cell_type": "markdown",
   "metadata": {},
   "source": [
    "# CASE 2 `+GO` = 1 and `-GO` = 0 (`GO` is 1)"
   ]
  },
  {
   "cell_type": "code",
   "execution_count": 11,
   "metadata": {},
   "outputs": [
    {
     "name": "stdout",
     "output_type": "stream",
     "text": [
      "((+ K0) = (and (+ left) (and (+ right) (+ both))))\n",
      "((- K0) = (or (- left) (or (- right) (- both))))\n",
      "((+ left) = (or true false))\n",
      "((- left) = (and false true))\n",
      "((+ right) = (or (+ r0) (+ rem)))\n",
      "((- right) = (and (- r0) (- rem)))\n",
      "((+ rem) = (and false (- sel)))\n",
      "((- rem) = (or true (+ sel)))\n",
      "((+ both) = (or true (+ r0)))\n",
      "((- both) = (and false (- r0)))\n"
     ]
    }
   ],
   "source": [
    "(define/ppl case2-step1 #:no-check\n",
    "  (replace* step2\n",
    "            [(+ GO) true]\n",
    "            [(- GO) false]))"
   ]
  },
  {
   "cell_type": "code",
   "execution_count": 12,
   "metadata": {},
   "outputs": [
    {
     "name": "stdout",
     "output_type": "stream",
     "text": [
      "((+ K0) = (and (+ left) (and (+ right) (+ both))))\n",
      "((- K0) = (or (- left) (or (- right) (- both))))\n",
      "((+ left) = true)\n",
      "((- left) = false)\n",
      "((+ right) = (or (+ r0) (+ rem)))\n",
      "((- right) = (and (- r0) (- rem)))\n",
      "((+ rem) = false)\n",
      "((- rem) = true)\n",
      "((+ both) = true)\n",
      "((- both) = false)\n"
     ]
    }
   ],
   "source": [
    "(define/ppl case2-step2\n",
    "             replace* case2-step1\n",
    "                      [(or true false) true]\n",
    "                      [(and false true) false]\n",
    "                      [(and false (- sel)) false]\n",
    "                      [(or true (+ sel)) true]\n",
    "                      [(or true (+ r0)) true]\n",
    "                      [(and false (- r0)) false])"
   ]
  },
  {
   "cell_type": "code",
   "execution_count": 13,
   "metadata": {},
   "outputs": [
    {
     "name": "stdout",
     "output_type": "stream",
     "text": [
      "((+ K0) = (and true (and (+ right) true)))\n",
      "((- K0) = (or false (or (- right) false)))\n",
      "((+ right) = (or (+ r0) false))\n",
      "((- right) = (and (- r0) true))\n"
     ]
    }
   ],
   "source": [
    "(define/ppl case2-step3\n",
    "             propigate/remove* case2-step2\n",
    "                               (+ left) (- left)\n",
    "                               (+ rem) (- rem)\n",
    "                               (+ both) (- both))"
   ]
  },
  {
   "cell_type": "code",
   "execution_count": 14,
   "metadata": {},
   "outputs": [
    {
     "name": "stdout",
     "output_type": "stream",
     "text": [
      "((+ K0) = (+ right))\n",
      "((- K0) = (- right))\n",
      "((+ right) = (+ r0))\n",
      "((- right) = (and (- r0) true))\n"
     ]
    }
   ],
   "source": [
    "(define/ppl case2-step4\n",
    "             replace* case2-step3\n",
    "                      [(and true (and (+ right) true))\n",
    "                       (+ right)]\n",
    "                      [(or false (or (- right) false))\n",
    "                       (- right)]\n",
    "                      [(or (+ r0) false) (+ r0)])"
   ]
  },
  {
   "cell_type": "code",
   "execution_count": 15,
   "metadata": {},
   "outputs": [
    {
     "name": "stdout",
     "output_type": "stream",
     "text": [
      "((+ K0) = (+ r0))\n",
      "((- K0) = (and (- r0) true))\n"
     ]
    }
   ],
   "source": [
    "(define/ppl case2-step5 \n",
    "             propigate/remove* case2-step4\n",
    "                               (+ right)\n",
    "                               (- right))"
   ]
  },
  {
   "cell_type": "code",
   "execution_count": 16,
   "metadata": {},
   "outputs": [
    {
     "name": "stdout",
     "output_type": "stream",
     "text": [
      "((+ K0) = (+ r0))\n",
      "((- K0) = (- r0))\n"
     ]
    }
   ],
   "source": [
    "(define/ppl case2-step6\n",
    "             replace* case2-step5\n",
    "                      [(and (+ r0) (+ r0)) (+ r0)]\n",
    "                      [(and (- r0) true) (- r0)])"
   ]
  },
  {
   "cell_type": "markdown",
   "metadata": {},
   "source": [
    "# CASE 3 `+GO` = 0 and `-GO` = 1 (`GO` is 0)"
   ]
  },
  {
   "cell_type": "code",
   "execution_count": 17,
   "metadata": {},
   "outputs": [
    {
     "name": "stdout",
     "output_type": "stream",
     "text": [
      "((+ K0) = (and (+ left) (and (+ right) (+ both))))\n",
      "((- K0) = (or (- left) (or (- right) (- both))))\n",
      "((+ left) = (or false true))\n",
      "((- left) = (and true false))\n",
      "((+ right) = (or (+ r0) (+ rem)))\n",
      "((- right) = (and (- r0) (- rem)))\n",
      "((+ rem) = (and true (- sel)))\n",
      "((- rem) = (or false (+ sel)))\n",
      "((+ both) = (or false (+ r0)))\n",
      "((- both) = (and true (- r0)))\n"
     ]
    }
   ],
   "source": [
    "(define/ppl case3-step1 #:no-check\n",
    "   (replace* step2\n",
    "            [(+ GO) false]\n",
    "            [(- GO) true]))"
   ]
  },
  {
   "cell_type": "code",
   "execution_count": 18,
   "metadata": {},
   "outputs": [
    {
     "name": "stdout",
     "output_type": "stream",
     "text": [
      "((+ K0) = (and (+ left) (and (+ right) (+ both))))\n",
      "((- K0) = (or (- left) (or (- right) (- both))))\n",
      "((+ left) = true)\n",
      "((- left) = false)\n",
      "((+ right) = (or (+ r0) (+ rem)))\n",
      "((- right) = (and (- r0) (- rem)))\n",
      "((+ rem) = (- sel))\n",
      "((- rem) = (+ sel))\n",
      "((+ both) = (+ r0))\n",
      "((- both) = (- r0))\n"
     ]
    }
   ],
   "source": [
    "(define/ppl case3-step2\n",
    "             replace* case3-step1\n",
    "                      [(or false true) true]\n",
    "                      [(and true false) false]\n",
    "                      [(and true (- sel)) (- sel)]\n",
    "                      [(or false (+ sel)) (+ sel)]\n",
    "                      [(or false (+ r0)) (+ r0)]\n",
    "                      [(and true (- r0)) (- r0)])"
   ]
  },
  {
   "cell_type": "code",
   "execution_count": 19,
   "metadata": {},
   "outputs": [
    {
     "name": "stdout",
     "output_type": "stream",
     "text": [
      "((+ K0) = (and true (and (+ right) (+ r0))))\n",
      "((- K0) = (or false (or (- right) (- r0))))\n",
      "((+ right) = (or (+ r0) (- sel)))\n",
      "((- right) = (and (- r0) (+ sel)))\n"
     ]
    }
   ],
   "source": [
    "(define/ppl case3-step3\n",
    "             propigate/remove* case3-step2\n",
    "                               (+ left) (- left)\n",
    "                               (+ rem) (- rem)\n",
    "                               (+ both) (- both))"
   ]
  },
  {
   "cell_type": "code",
   "execution_count": 20,
   "metadata": {},
   "outputs": [
    {
     "name": "stdout",
     "output_type": "stream",
     "text": [
      "((+ K0) = (and (+ right) (+ r0)))\n",
      "((- K0) = (or (- right) (- r0)))\n",
      "((+ right) = (or (+ r0) (- sel)))\n",
      "((- right) = (and (- r0) (+ sel)))\n"
     ]
    }
   ],
   "source": [
    "(define/ppl case3-step4\n",
    "             replace* case3-step3\n",
    "             [(and true (and (+ right) (+ r0)))\n",
    "              (and (+ right) (+ r0))]\n",
    "             [(or false (or (- right) (- r0)))\n",
    "                  (or (- right) (- r0))])"
   ]
  },
  {
   "cell_type": "code",
   "execution_count": 21,
   "metadata": {},
   "outputs": [
    {
     "name": "stdout",
     "output_type": "stream",
     "text": [
      "((+ K0) = (and (or (+ r0) (- sel)) (+ r0)))\n",
      "((- K0) = (or (and (- r0) (+ sel)) (- r0)))\n"
     ]
    }
   ],
   "source": [
    "(define/ppl case3-step5\n",
    "             propigate/remove*\n",
    "             case3-step4\n",
    "             (+ right) (- right))"
   ]
  },
  {
   "cell_type": "markdown",
   "metadata": {},
   "source": [
    "Again, we use the law of excluded middle on `+r0` to check against 0 and 1. If we do this we can see that `(and (or (+ r0) (- sel)) (+ r0))` is the same as `(+ r0)`."
   ]
  },
  {
   "cell_type": "code",
   "execution_count": 22,
   "metadata": {},
   "outputs": [
    {
     "name": "stdout",
     "output_type": "stream",
     "text": [
      "((+ K0) = (+ r0))\n",
      "((- K0) = (or (and (- r0) (+ sel)) (- r0)))\n"
     ]
    }
   ],
   "source": [
    "(define/ppl case3-step6\n",
    "             replace*\n",
    "             case3-step5\n",
    "             [(and (or (+ r0) (- sel)) (+ r0))\n",
    "              (+ r0)])"
   ]
  },
  {
   "cell_type": "markdown",
   "metadata": {},
   "source": [
    "We can also do the same with `-r0`, and see that we get a result equal to `-r0` in `-K0` for either value."
   ]
  },
  {
   "cell_type": "code",
   "execution_count": 23,
   "metadata": {},
   "outputs": [
    {
     "name": "stdout",
     "output_type": "stream",
     "text": [
      "((+ K0) = (+ r0))\n",
      "((- K0) = (- r0))\n"
     ]
    }
   ],
   "source": [
    "(define/ppl case3-step7\n",
    "             replace*\n",
    "             case3-step6\n",
    "             [(or (and (- r0) (+ sel)) (- r0))\n",
    "              (- r0)])"
   ]
  },
  {
   "cell_type": "markdown",
   "metadata": {},
   "source": [
    "## QED"
   ]
  },
  {
   "cell_type": "code",
   "execution_count": null,
   "metadata": {
    "collapsed": true
   },
   "outputs": [],
   "source": []
  }
 ],
 "metadata": {
  "kernelspec": {
   "display_name": "Racket",
   "language": "racket",
   "name": "racket"
  },
  "language_info": {
   "codemirror_mode": "scheme",
   "file_extension": ".rkt",
   "mimetype": "text/x-racket",
   "name": "Racket",
   "pygments_lexer": "racket",
   "version": "7.3.0.3"
  }
 },
 "nbformat": 4,
 "nbformat_minor": 2
}
