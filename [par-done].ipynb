{
 "cells": [
  {
   "cell_type": "code",
   "execution_count": 1,
   "metadata": {
    "collapsed": true
   },
   "outputs": [],
   "source": [
    "(require booleans redex/reduction-semantics)\n",
    ";; seems to speed things up a little\n",
    "(set-cache-size! 200)"
   ]
  },
  {
   "cell_type": "markdown",
   "metadata": {},
   "source": [
    "Some possibly helpful laws:\n",
    "\n",
    "- Posulate 1: `¬( GO ∨ (RES ∧ SEL))` implies all `E'` is `0` and all `kn` are `0`.\n",
    "- - Correlary 1: This holds for `¬(GO ∨ SEL)`\n",
    "- - Correlary 2: This holds for `¬(GO ∨ RES)`\n",
    "- Postulate 2: forall `n` `m`, `m != n`, `¬ (kn ^ km)`, that is at most one `k` wire is selected.\n"
   ]
  },
  {
   "cell_type": "code",
   "execution_count": 2,
   "metadata": {},
   "outputs": [
    {
     "name": "stdout",
     "output_type": "stream",
     "text": [
      "(l0 = GO)\n",
      "(lsel = false)\n",
      "(SEL = (or lsel rsel))\n",
      "(K0 = (and left (and right both)))\n",
      "(left = (or l0 lem))\n",
      "(right = (or r0 rem))\n",
      "(lem = (and SEL (and RES (not lsel))))\n",
      "(rem = (and SEL (and RES (not rsel))))\n",
      "(both = (or l0 r0))\n"
     ]
    }
   ],
   "source": [
    "(define/ppl start #:no-check\n",
    "  (\n",
    "   ;; these come from then othing\n",
    "   (l0 = GO)\n",
    "   (lsel = false)\n",
    "   ;; SEL\n",
    "   (SEL = (or lsel rsel))\n",
    "   ;; the synchonizer\n",
    "   (K0 = (and left (and right both)))\n",
    "   (left = (or l0 lem))\n",
    "   (right = (or r0 rem))\n",
    "   (lem = (and SEL (and RES (not lsel))))\n",
    "   (rem = (and SEL (and RES (not rsel))))\n",
    "   (both = (or l0 r0))))"
   ]
  },
  {
   "cell_type": "code",
   "execution_count": 3,
   "metadata": {},
   "outputs": [
    {
     "name": "stderr",
     "output_type": "stream",
     "text": [
      "equal-class: the diff:\n",
      " '(((\"a broken clause:\" (K1 = r1))\n",
      "   ((GO = true) (rsel = true) (r0 = true) (RES = true))\n",
      "   ((l0 = true)\n",
      "    (lsel = false)\n",
      "    (SEL = true)\n",
      "    (K0 = true)\n",
      "    (left = true)\n",
      "    (right = true)\n",
      "    (lem = true)\n",
      "    (rem = false)\n",
      "    (both = true))\n",
      "   ((K0 = true) (SEL = true) (K1 = r1)))\n",
      "  ((\"a broken clause:\" (K1 = r1))\n",
      "   ((GO = true) (rsel = true) (r0 = true) (RES = false))\n",
      "   ((l0 = true)\n",
      "    (lsel = false)\n",
      "    (SEL = true)\n",
      "    (K0 = true)\n",
      "    (left = true)\n",
      "    (right = true)\n",
      "    (lem = false)\n",
      "    (rem = false)\n",
      "    (both = true))\n",
      "   ((K0 = true) (SEL = true) (K1 = r1)))\n",
      "  ((\"a broken clause:\" (K1 = r1))\n",
      "   ((GO = true) (rsel = true) (r0 = true) (RES = ⊥))\n",
      "   ((l0 = true)\n",
      "    (lsel = false)\n",
      "    (SEL = true)\n",
      "    (K0 = true)\n",
      "    (left = true)\n",
      "    (right = true)\n",
      "    (lem = ⊥)\n",
      "    (rem = false)\n",
      "    (both = true))\n",
      "   ((K0 = true) (SEL = true) (K1 = r1)))\n",
      "  ((\"a broken clause:\" (K1 = r1))\n",
      "   ((GO = true) (rsel = true) (r0 = false) (RES = true))\n",
      "   ((l0 = true)\n",
      "    (lsel = false)\n",
      "    (SEL = true)\n",
      "    (K0 = false)\n",
      "    (left = true)\n",
      "    (right = false)\n",
      "    (lem = true)\n",
      "    (rem = false)\n",
      "    (both = true))\n",
      "   ((K0 = false) (SEL = true) (K1 = r1)))\n",
      "  ((\"a broken clause:\" (K1 = r1))\n",
      "   ((GO = true) (rsel = true) (r0 = false) (RES = false))\n",
      "   ((l0 = true)\n",
      "    (lsel = false)\n",
      "    (SEL = true)\n",
      "    (K0 = false)\n",
      "    (left = true)\n",
      "    (right = false)\n",
      "    (lem = false)\n",
      "    (rem = false)\n",
      "    (both = true))\n",
      "   ((K0 = false) (SEL = true) (K1 = r1)))\n",
      "  ((\"a broken clause:\" (K1 = r1))\n",
      "   ((GO = true) (rsel = true) (r0 = false) (RES = ⊥))\n",
      "   ((l0 = true)\n",
      "    (lsel = false)\n",
      "    (SEL = true)\n",
      "    (K0 = false)\n",
      "    (left = true)\n",
      "    (right = false)\n",
      "    (lem = ⊥)\n",
      "    (rem = false)\n",
      "    (both = true))\n",
      "   ((K0 = false) (SEL = true) (K1 = r1)))\n",
      "  ((\"a broken clause:\" (K1 = r1))\n",
      "   ((GO = true) (rsel = true) (r0 = ⊥) (RES = true))\n",
      "   ((l0 = true)\n",
      "    (lsel = false)\n",
      "    (SEL = true)\n",
      "    (K0 = ⊥)\n",
      "    (left = true)\n",
      "    (right = ⊥)\n",
      "    (lem = true)\n",
      "    (rem = false)\n",
      "    (both = true))\n",
      "   ((K0 = ⊥) (SEL = true) (K1 = r1)))\n",
      "  ((\"a broken clause:\" (K1 = r1))\n",
      "   ((GO = true) (rsel = true) (r0 = ⊥) (RES = false))\n",
      "   ((l0 = true)\n",
      "    (lsel = false)\n",
      "    (SEL = true)\n",
      "    (K0 = ⊥)\n",
      "    (left = true)\n",
      "    (right = ⊥)\n",
      "    (lem = false)\n",
      "    (rem = false)\n",
      "    (both = true))\n",
      "   ((K0 = ⊥) (SEL = true) (K1 = r1)))\n",
      "  ((\"a broken clause:\" (K1 = r1))\n",
      "   ((GO = true) (rsel = true) (r0 = ⊥) (RES = ⊥))\n",
      "   ((l0 = true)\n",
      "    (lsel = false)\n",
      "    (SEL = true)\n",
      "    (K0 = ⊥)\n",
      "    (left = true)\n",
      "    (right = ⊥)\n",
      "    (lem = ⊥)\n",
      "    (rem = false)\n",
      "    (both = true))\n",
      "   ((K0 = ⊥) (SEL = true) (K1 = r1)))\n",
      "  ((\"a broken clause:\" (K1 = r1))\n",
      "   ((GO = true) (rsel = false) (r0 = true) (RES = true))\n",
      "   ((l0 = true)\n",
      "    (lsel = false)\n",
      "    (SEL = false)\n",
      "    (K0 = true)\n",
      "    (left = true)\n",
      "    (right = true)\n",
      "    (lem = false)\n",
      "    (rem = false)\n",
      "    (both = true))\n",
      "   ((K0 = true) (SEL = false) (K1 = r1)))\n",
      "  ((\"a broken clause:\" (K1 = r1))\n",
      "   ((GO = true) (rsel = false) (r0 = true) (RES = false))\n",
      "   ((l0 = true)\n",
      "    (lsel = false)\n",
      "    (SEL = false)\n",
      "    (K0 = true)\n",
      "    (left = true)\n",
      "    (right = true)\n",
      "    (lem = false)\n",
      "    (rem = false)\n",
      "    (both = true))\n",
      "   ((K0 = true) (SEL = false) (K1 = r1)))\n",
      "  ((\"a broken clause:\" (K1 = r1))\n",
      "   ((GO = true) (rsel = false) (r0 = true) (RES = ⊥))\n",
      "   ((l0 = true)\n",
      "    (lsel = false)\n",
      "    (SEL = false)\n",
      "    (K0 = true)\n",
      "    (left = true)\n",
      "    (right = true)\n",
      "    (lem = false)\n",
      "    (rem = false)\n",
      "    (both = true))\n",
      "   ((K0 = true) (SEL = false) (K1 = r1)))\n",
      "  ((\"a broken clause:\" (K1 = r1))\n",
      "   ((GO = true) (rsel = false) (r0 = false) (RES = true))\n",
      "   ((l0 = true)\n",
      "    (lsel = false)\n",
      "    (SEL = false)\n",
      "    (K0 = false)\n",
      "    (left = true)\n",
      "    (right = false)\n",
      "    (lem = false)\n",
      "    (rem = false)\n",
      "    (both = true))\n",
      "   ((K0 = false) (SEL = false) (K1 = r1)))\n",
      "  ((\"a broken clause:\" (K1 = r1))\n",
      "   ((GO = true) (rsel = false) (r0 = false) (RES = false))\n",
      "   ((l0 = true)\n",
      "    (lsel = false)\n",
      "    (SEL = false)\n",
      "    (K0 = false)\n",
      "    (left = true)\n",
      "    (right = false)\n",
      "    (lem = false)\n",
      "    (rem = false)\n",
      "    (both = true))\n",
      "   ((K0 = false) (SEL = false) (K1 = r1)))\n",
      "  ((\"a broken clause:\" (K1 = r1))\n",
      "   ((GO = true) (rsel = false) (r0 = false) (RES = ⊥))\n",
      "   ((l0 = true)\n",
      "    (lsel = false)\n",
      "    (SEL = false)\n",
      "    (K0 = false)\n",
      "    (left = true)\n",
      "    (right = false)\n",
      "    (lem = false)\n",
      "    (rem = false)\n",
      "    (both = true))\n",
      "   ((K0 = false) (SEL = false) (K1 = r1)))\n",
      "  ((\"a broken clause:\" (K1 = r1))\n",
      "   ((GO = true) (rsel = false) (r0 = ⊥) (RES = true))\n",
      "   ((l0 = true)\n",
      "    (lsel = false)\n",
      "    (SEL = false)\n",
      "    (K0 = ⊥)\n",
      "    (left = true)\n",
      "    (right = ⊥)\n",
      "    (lem = false)\n",
      "    (rem = false)\n",
      "    (both = true))\n",
      "   ((K0 = ⊥) (SEL = false) (K1 = r1)))\n",
      "  ((\"a broken clause:\" (K1 = r1))\n",
      "   ((GO = true) (rsel = false) (r0 = ⊥) (RES = false))\n",
      "   ((l0 = true)\n",
      "    (lsel = false)\n",
      "    (SEL = false)\n",
      "    (K0 = ⊥)\n",
      "    (left = true)\n",
      "    (right = ⊥)\n",
      "    (lem = false)\n",
      "    (rem = false)\n",
      "    (both = true))\n",
      "   ((K0 = ⊥) (SEL = false) (K1 = r1)))\n",
      "  ((\"a broken clause:\" (K1 = r1))\n",
      "   ((GO = true) (rsel = false) (r0 = ⊥) (RES = ⊥))\n",
      "   ((l0 = true)\n",
      "    (lsel = false)\n",
      "    (SEL = false)\n",
      "    (K0 = ⊥)\n",
      "    (left = true)\n",
      "    (right = ⊥)\n",
      "    (lem = false)\n",
      "    (rem = false)\n",
      "    (both = true))\n",
      "   ((K0 = ⊥) (SEL = false) (K1 = r1)))\n",
      "  ((\"a broken clause:\" (K1 = r1))\n",
      "   ((GO = true) (rsel = ⊥) (r0 = true) (RES = true))\n",
      "   ((l0 = true)\n",
      "    (lsel = false)\n",
      "    (SEL = ⊥)\n",
      "    (K0 = true)\n",
      "    (left = true)\n",
      "    (right = true)\n",
      "    (lem = ⊥)\n",
      "    (rem = ⊥)\n",
      "    (both = true))\n",
      "   ((K0 = true) (SEL = ⊥) (K1 = r1)))\n",
      "  ((\"a broken clause:\" (K1 = r1))\n",
      "   ((GO = true) (rsel = ⊥) (r0 = true) (RES = false))\n",
      "   ((l0 = true)\n",
      "    (lsel = false)\n",
      "    (SEL = ⊥)\n",
      "    (K0 = true)\n",
      "    (left = true)\n",
      "    (right = true)\n",
      "    (lem = false)\n",
      "    (rem = false)\n",
      "    (both = true))\n",
      "   ((K0 = true) (SEL = ⊥) (K1 = r1)))\n",
      "  ((\"a broken clause:\" (K1 = r1))\n",
      "   ((GO = true) (rsel = ⊥) (r0 = true) (RES = ⊥))\n",
      "   ((l0 = true)\n",
      "    (lsel = false)\n",
      "    (SEL = ⊥)\n",
      "    (K0 = true)\n",
      "    (left = true)\n",
      "    (right = true)\n",
      "    (lem = ⊥)\n",
      "    (rem = ⊥)\n",
      "    (both = true))\n",
      "   ((K0 = true) (SEL = ⊥) (K1 = r1)))\n",
      "  ((\"a broken clause:\" (K0 = false))\n",
      "   ((GO = true) (rsel = ⊥) (r0 = false) (RES = true))\n",
      "   ((l0 = true)\n",
      "    (lsel = false)\n",
      "    (SEL = ⊥)\n",
      "    (K0 = ⊥)\n",
      "    (left = true)\n",
      "    (right = ⊥)\n",
      "    (lem = ⊥)\n",
      "    (rem = ⊥)\n",
      "    (both = true))\n",
      "   ((K0 = false) (SEL = ⊥) (K1 = r1)))\n",
      "  ((\"a broken clause:\" (K1 = r1))\n",
      "   ((GO = true) (rsel = ⊥) (r0 = false) (RES = false))\n",
      "   ((l0 = true)\n",
      "    (lsel = false)\n",
      "    (SEL = ⊥)\n",
      "    (K0 = false)\n",
      "    (left = true)\n",
      "    (right = false)\n",
      "    (lem = false)\n",
      "    (rem = false)\n",
      "    (both = true))\n",
      "   ((K0 = false) (SEL = ⊥) (K1 = r1)))\n",
      "  ((\"a broken clause:\" (K0 = false))\n",
      "   ((GO = true) (rsel = ⊥) (r0 = false) (RES = ⊥))\n",
      "   ((l0 = true)\n",
      "    (lsel = false)\n",
      "    (SEL = ⊥)\n",
      "    (K0 = ⊥)\n",
      "    (left = true)\n",
      "    (right = ⊥)\n",
      "    (lem = ⊥)\n",
      "    (rem = ⊥)\n",
      "    (both = true))\n",
      "   ((K0 = false) (SEL = ⊥) (K1 = r1)))\n",
      "  ((\"a broken clause:\" (K1 = r1))\n",
      "   ((GO = true) (rsel = ⊥) (r0 = ⊥) (RES = true))\n",
      "   ((l0 = true)\n",
      "    (lsel = false)\n",
      "    (SEL = ⊥)\n",
      "    (K0 = ⊥)\n",
      "    (left = true)\n",
      "    (right = ⊥)\n",
      "    (lem = ⊥)\n",
      "    (rem = ⊥)\n",
      "    (both = true))\n",
      "   ((K0 = ⊥) (SEL = ⊥) (K1 = r1)))\n",
      "  ((\"a broken clause:\" (K1 = r1))\n",
      "   ((GO = true) (rsel = ⊥) (r0 = ⊥) (RES = false))\n",
      "   ((l0 = true)\n",
      "    (lsel = false)\n",
      "    (SEL = ⊥)\n",
      "    (K0 = ⊥)\n",
      "    (left = true)\n",
      "    (right = ⊥)\n",
      "    (lem = false)\n",
      "    (rem = false)\n",
      "    (both = true))\n",
      "   ((K0 = ⊥) (SEL = ⊥) (K1 = r1)))\n",
      "  ((\"a broken clause:\" (K1 = r1))\n",
      "   ((GO = true) (rsel = ⊥) (r0 = ⊥) (RES = ⊥))\n",
      "   ((l0 = true)\n",
      "    (lsel = false)\n",
      "    (SEL = ⊥)\n",
      "    (K0 = ⊥)\n",
      "    (left = true)\n",
      "    (right = ⊥)\n",
      "    (lem = ⊥)\n",
      "    (rem = ⊥)\n",
      "    (both = true))\n",
      "   ((K0 = ⊥) (SEL = ⊥) (K1 = r1)))\n",
      "  ((\"a broken clause:\" (K1 = r1))\n",
      "   ((GO = false) (rsel = true) (r0 = true) (RES = true))\n",
      "   ((l0 = false)\n",
      "    (lsel = false)\n",
      "    (SEL = true)\n",
      "    (K0 = true)\n",
      "    (left = true)\n",
      "    (right = true)\n",
      "    (lem = true)\n",
      "    (rem = false)\n",
      "    (both = true))\n",
      "   ((K0 = true) (SEL = true) (K1 = r1)))\n",
      "  ((\"a broken clause:\" (K0 = true))\n",
      "   ((GO = false) (rsel = true) (r0 = true) (RES = false))\n",
      "   ((l0 = false)\n",
      "    (lsel = false)\n",
      "    (SEL = true)\n",
      "    (K0 = false)\n",
      "    (left = false)\n",
      "    (right = true)\n",
      "    (lem = false)\n",
      "    (rem = false)\n",
      "    (both = true))\n",
      "   ((K0 = true) (SEL = true) (K1 = r1)))\n",
      "  ((\"a broken clause:\" (K0 = true))\n",
      "   ((GO = false) (rsel = true) (r0 = true) (RES = ⊥))\n",
      "   ((l0 = false)\n",
      "    (lsel = false)\n",
      "    (SEL = true)\n",
      "    (K0 = ⊥)\n",
      "    (left = ⊥)\n",
      "    (right = true)\n",
      "    (lem = ⊥)\n",
      "    (rem = false)\n",
      "    (both = true))\n",
      "   ((K0 = true) (SEL = true) (K1 = r1)))\n",
      "  ((\"a broken clause:\" (K1 = r1))\n",
      "   ((GO = false) (rsel = true) (r0 = false) (RES = true))\n",
      "   ((l0 = false)\n",
      "    (lsel = false)\n",
      "    (SEL = true)\n",
      "    (K0 = false)\n",
      "    (left = true)\n",
      "    (right = false)\n",
      "    (lem = true)\n",
      "    (rem = false)\n",
      "    (both = false))\n",
      "   ((K0 = false) (SEL = true) (K1 = r1)))\n",
      "  ((\"a broken clause:\" (K1 = r1))\n",
      "   ((GO = false) (rsel = true) (r0 = false) (RES = false))\n",
      "   ((l0 = false)\n",
      "    (lsel = false)\n",
      "    (SEL = true)\n",
      "    (K0 = false)\n",
      "    (left = false)\n",
      "    (right = false)\n",
      "    (lem = false)\n",
      "    (rem = false)\n",
      "    (both = false))\n",
      "   ((K0 = false) (SEL = true) (K1 = r1)))\n",
      "  ((\"a broken clause:\" (K1 = r1))\n",
      "   ((GO = false) (rsel = true) (r0 = false) (RES = ⊥))\n",
      "   ((l0 = false)\n",
      "    (lsel = false)\n",
      "    (SEL = true)\n",
      "    (K0 = false)\n",
      "    (left = ⊥)\n",
      "    (right = false)\n",
      "    (lem = ⊥)\n",
      "    (rem = false)\n",
      "    (both = false))\n",
      "   ((K0 = false) (SEL = true) (K1 = r1)))\n",
      "  ((\"a broken clause:\" (K1 = r1))\n",
      "   ((GO = false) (rsel = true) (r0 = ⊥) (RES = true))\n",
      "   ((l0 = false)\n",
      "    (lsel = false)\n",
      "    (SEL = true)\n",
      "    (K0 = ⊥)\n",
      "    (left = true)\n",
      "    (right = ⊥)\n",
      "    (lem = true)\n",
      "    (rem = false)\n",
      "    (both = ⊥))\n",
      "   ((K0 = ⊥) (SEL = true) (K1 = r1)))\n",
      "  ((\"a broken clause:\" (K0 = ⊥))\n",
      "   ((GO = false) (rsel = true) (r0 = ⊥) (RES = false))\n",
      "   ((l0 = false)\n",
      "    (lsel = false)\n",
      "    (SEL = true)\n",
      "    (K0 = false)\n",
      "    (left = false)\n",
      "    (right = ⊥)\n",
      "    (lem = false)\n",
      "    (rem = false)\n",
      "    (both = ⊥))\n",
      "   ((K0 = ⊥) (SEL = true) (K1 = r1)))\n",
      "  ((\"a broken clause:\" (K1 = r1))\n",
      "   ((GO = false) (rsel = true) (r0 = ⊥) (RES = ⊥))\n",
      "   ((l0 = false)\n",
      "    (lsel = false)\n",
      "    (SEL = true)\n",
      "    (K0 = ⊥)\n",
      "    (left = ⊥)\n",
      "    (right = ⊥)\n",
      "    (lem = ⊥)\n",
      "    (rem = false)\n",
      "    (both = ⊥))\n",
      "   ((K0 = ⊥) (SEL = true) (K1 = r1)))\n",
      "  ((\"a broken clause:\" (K0 = true))\n",
      "   ((GO = false) (rsel = false) (r0 = true) (RES = true))\n",
      "   ((l0 = false)\n",
      "    (lsel = false)\n",
      "    (SEL = false)\n",
      "    (K0 = false)\n",
      "    (left = false)\n",
      "    (right = true)\n",
      "    (lem = false)\n",
      "    (rem = false)\n",
      "    (both = true))\n",
      "   ((K0 = true) (SEL = false) (K1 = r1)))\n",
      "  ((\"a broken clause:\" (K0 = true))\n",
      "   ((GO = false) (rsel = false) (r0 = true) (RES = false))\n",
      "   ((l0 = false)\n",
      "    (lsel = false)\n",
      "    (SEL = false)\n",
      "    (K0 = false)\n",
      "    (left = false)\n",
      "    (right = true)\n",
      "    (lem = false)\n",
      "    (rem = false)\n",
      "    (both = true))\n",
      "   ((K0 = true) (SEL = false) (K1 = r1)))\n",
      "  ((\"a broken clause:\" (K0 = true))\n",
      "   ((GO = false) (rsel = false) (r0 = true) (RES = ⊥))\n",
      "   ((l0 = false)\n",
      "    (lsel = false)\n",
      "    (SEL = false)\n",
      "    (K0 = false)\n",
      "    (left = false)\n",
      "    (right = true)\n",
      "    (lem = false)\n",
      "    (rem = false)\n",
      "    (both = true))\n",
      "   ((K0 = true) (SEL = false) (K1 = r1)))\n",
      "  ((\"a broken clause:\" (K1 = r1))\n",
      "   ((GO = false) (rsel = false) (r0 = false) (RES = true))\n",
      "   ((l0 = false)\n",
      "    (lsel = false)\n",
      "    (SEL = false)\n",
      "    (K0 = false)\n",
      "    (left = false)\n",
      "    (right = false)\n",
      "    (lem = false)\n",
      "    (rem = false)\n",
      "    (both = false))\n",
      "   ((K0 = false) (SEL = false) (K1 = r1)))\n",
      "  ((\"a broken clause:\" (K1 = r1))\n",
      "   ((GO = false) (rsel = false) (r0 = false) (RES = false))\n",
      "   ((l0 = false)\n",
      "    (lsel = false)\n",
      "    (SEL = false)\n",
      "    (K0 = false)\n",
      "    (left = false)\n",
      "    (right = false)\n",
      "    (lem = false)\n",
      "    (rem = false)\n",
      "    (both = false))\n",
      "   ((K0 = false) (SEL = false) (K1 = r1)))\n",
      "  ((\"a broken clause:\" (K1 = r1))\n",
      "   ((GO = false) (rsel = false) (r0 = false) (RES = ⊥))\n",
      "   ((l0 = false)\n",
      "    (lsel = false)\n",
      "    (SEL = false)\n",
      "    (K0 = false)\n",
      "    (left = false)\n",
      "    (right = false)\n",
      "    (lem = false)\n",
      "    (rem = false)\n",
      "    (both = false))\n",
      "   ((K0 = false) (SEL = false) (K1 = r1)))\n",
      "  ((\"a broken clause:\" (K0 = ⊥))\n",
      "   ((GO = false) (rsel = false) (r0 = ⊥) (RES = true))\n",
      "   ((l0 = false)\n",
      "    (lsel = false)\n",
      "    (SEL = false)\n",
      "    (K0 = false)\n",
      "    (left = false)\n",
      "    (right = ⊥)\n",
      "    (lem = false)\n",
      "    (rem = false)\n",
      "    (both = ⊥))\n",
      "   ((K0 = ⊥) (SEL = false) (K1 = r1)))\n",
      "  ((\"a broken clause:\" (K0 = ⊥))\n",
      "   ((GO = false) (rsel = false) (r0 = ⊥) (RES = false))\n",
      "   ((l0 = false)\n",
      "    (lsel = false)\n",
      "    (SEL = false)\n",
      "    (K0 = false)\n",
      "    (left = false)\n",
      "    (right = ⊥)\n",
      "    (lem = false)\n",
      "    (rem = false)\n",
      "    (both = ⊥))\n",
      "   ((K0 = ⊥) (SEL = false) (K1 = r1)))\n",
      "  ((\"a broken clause:\" (K0 = ⊥))\n",
      "   ((GO = false) (rsel = false) (r0 = ⊥) (RES = ⊥))\n",
      "   ((l0 = false)\n",
      "    (lsel = false)\n",
      "    (SEL = false)\n",
      "    (K0 = false)\n",
      "    (left = false)\n",
      "    (right = ⊥)\n",
      "    (lem = false)\n",
      "    (rem = false)\n",
      "    (both = ⊥))\n",
      "   ((K0 = ⊥) (SEL = false) (K1 = r1)))\n",
      "  ((\"a broken clause:\" (K0 = true))\n",
      "   ((GO = false) (rsel = ⊥) (r0 = true) (RES = true))\n",
      "   ((l0 = false)\n",
      "    (lsel = false)\n",
      "    (SEL = ⊥)\n",
      "    (K0 = ⊥)\n",
      "    (left = ⊥)\n",
      "    (right = true)\n",
      "    (lem = ⊥)\n",
      "    (rem = ⊥)\n",
      "    (both = true))\n",
      "   ((K0 = true) (SEL = ⊥) (K1 = r1)))\n",
      "  ((\"a broken clause:\" (K0 = true))\n",
      "   ((GO = false) (rsel = ⊥) (r0 = true) (RES = false))\n",
      "   ((l0 = false)\n",
      "    (lsel = false)\n",
      "    (SEL = ⊥)\n",
      "    (K0 = false)\n",
      "    (left = false)\n",
      "    (right = true)\n",
      "    (lem = false)\n",
      "    (rem = false)\n",
      "    (both = true))\n",
      "   ((K0 = true) (SEL = ⊥) (K1 = r1)))\n",
      "  ((\"a broken clause:\" (K0 = true))\n",
      "   ((GO = false) (rsel = ⊥) (r0 = true) (RES = ⊥))\n",
      "   ((l0 = false)\n",
      "    (lsel = false)\n",
      "    (SEL = ⊥)\n",
      "    (K0 = ⊥)\n",
      "    (left = ⊥)\n",
      "    (right = true)\n",
      "    (lem = ⊥)\n",
      "    (rem = ⊥)\n",
      "    (both = true))\n",
      "   ((K0 = true) (SEL = ⊥) (K1 = r1)))\n",
      "  ((\"a broken clause:\" (K1 = r1))\n",
      "   ((GO = false) (rsel = ⊥) (r0 = false) (RES = true))\n",
      "   ((l0 = false)\n",
      "    (lsel = false)\n",
      "    (SEL = ⊥)\n",
      "    (K0 = false)\n",
      "    (left = ⊥)\n",
      "    (right = ⊥)\n",
      "    (lem = ⊥)\n",
      "    (rem = ⊥)\n",
      "    (both = false))\n",
      "   ((K0 = false) (SEL = ⊥) (K1 = r1)))\n",
      "  ((\"a broken clause:\" (K1 = r1))\n",
      "   ((GO = false) (rsel = ⊥) (r0 = false) (RES = false))\n",
      "   ((l0 = false)\n",
      "    (lsel = false)\n",
      "    (SEL = ⊥)\n",
      "    (K0 = false)\n",
      "    (left = false)\n",
      "    (right = false)\n",
      "    (lem = false)\n",
      "    (rem = false)\n",
      "    (both = false))\n",
      "   ((K0 = false) (SEL = ⊥) (K1 = r1)))\n",
      "  ((\"a broken clause:\" (K1 = r1))\n",
      "   ((GO = false) (rsel = ⊥) (r0 = false) (RES = ⊥))\n",
      "   ((l0 = false)\n",
      "    (lsel = false)\n",
      "    (SEL = ⊥)\n",
      "    (K0 = false)\n",
      "    (left = ⊥)\n",
      "    (right = ⊥)\n",
      "    (lem = ⊥)\n",
      "    (rem = ⊥)\n",
      "    (both = false))\n",
      "   ((K0 = false) (SEL = ⊥) (K1 = r1)))\n",
      "  ((\"a broken clause:\" (K1 = r1))\n",
      "   ((GO = false) (rsel = ⊥) (r0 = ⊥) (RES = true))\n",
      "   ((l0 = false)\n",
      "    (lsel = false)\n",
      "    (SEL = ⊥)\n",
      "    (K0 = ⊥)\n",
      "    (left = ⊥)\n",
      "    (right = ⊥)\n",
      "    (lem = ⊥)\n",
      "    (rem = ⊥)\n",
      "    (both = ⊥))\n",
      "   ((K0 = ⊥) (SEL = ⊥) (K1 = r1)))\n",
      "  ((\"a broken clause:\" (K0 = ⊥))\n",
      "   ((GO = false) (rsel = ⊥) (r0 = ⊥) (RES = false))\n",
      "   ((l0 = false)\n",
      "    (lsel = false)\n",
      "    (SEL = ⊥)\n",
      "    (K0 = false)\n",
      "    (left = false)\n",
      "    (right = ⊥)\n",
      "    (lem = false)\n",
      "    (rem = false)\n",
      "    (both = ⊥))\n",
      "   ((K0 = ⊥) (SEL = ⊥) (K1 = r1)))\n",
      "  ((\"a broken clause:\" (K1 = r1))\n",
      "   ((GO = false) (rsel = ⊥) (r0 = ⊥) (RES = ⊥))\n",
      "   ((l0 = false)\n",
      "    (lsel = false)\n",
      "    (SEL = ⊥)\n",
      "    (K0 = ⊥)\n",
      "    (left = ⊥)\n",
      "    (right = ⊥)\n",
      "    (lem = ⊥)\n",
      "    (rem = ⊥)\n",
      "    (both = ⊥))\n",
      "   ((K0 = ⊥) (SEL = ⊥) (K1 = r1)))\n",
      "  ((\"a broken clause:\" (K1 = r1))\n",
      "   ((GO = ⊥) (rsel = true) (r0 = true) (RES = true))\n",
      "   ((l0 = ⊥)\n",
      "    (lsel = false)\n",
      "    (SEL = true)\n",
      "    (K0 = true)\n",
      "    (left = true)\n",
      "    (right = true)\n",
      "    (lem = true)\n",
      "    (rem = false)\n",
      "    (both = true))\n",
      "   ((K0 = true) (SEL = true) (K1 = r1)))\n",
      "  ((\"a broken clause:\" (K0 = true))\n",
      "   ((GO = ⊥) (rsel = true) (r0 = true) (RES = false))\n",
      "   ((l0 = ⊥)\n",
      "    (lsel = false)\n",
      "    (SEL = true)\n",
      "    (K0 = ⊥)\n",
      "    (left = ⊥)\n",
      "    (right = true)\n",
      "    (lem = false)\n",
      "    (rem = false)\n",
      "    (both = true))\n",
      "   ((K0 = true) (SEL = true) (K1 = r1)))\n",
      "  ((\"a broken clause:\" (K0 = true))\n",
      "   ((GO = ⊥) (rsel = true) (r0 = true) (RES = ⊥))\n",
      "   ((l0 = ⊥)\n",
      "    (lsel = false)\n",
      "    (SEL = true)\n",
      "    (K0 = ⊥)\n",
      "    (left = ⊥)\n",
      "    (right = true)\n",
      "    (lem = ⊥)\n",
      "    (rem = false)\n",
      "    (both = true))\n",
      "   ((K0 = true) (SEL = true) (K1 = r1)))\n",
      "  ((\"a broken clause:\" (K1 = r1))\n",
      "   ((GO = ⊥) (rsel = true) (r0 = false) (RES = true))\n",
      "   ((l0 = ⊥)\n",
      "    (lsel = false)\n",
      "    (SEL = true)\n",
      "    (K0 = false)\n",
      "    (left = true)\n",
      "    (right = false)\n",
      "    (lem = true)\n",
      "    (rem = false)\n",
      "    (both = ⊥))\n",
      "   ((K0 = false) (SEL = true) (K1 = r1)))\n",
      "  ((\"a broken clause:\" (K1 = r1))\n",
      "   ((GO = ⊥) (rsel = true) (r0 = false) (RES = false))\n",
      "   ((l0 = ⊥)\n",
      "    (lsel = false)\n",
      "    (SEL = true)\n",
      "    (K0 = false)\n",
      "    (left = ⊥)\n",
      "    (right = false)\n",
      "    (lem = false)\n",
      "    (rem = false)\n",
      "    (both = ⊥))\n",
      "   ((K0 = false) (SEL = true) (K1 = r1)))\n",
      "  ((\"a broken clause:\" (K1 = r1))\n",
      "   ((GO = ⊥) (rsel = true) (r0 = false) (RES = ⊥))\n",
      "   ((l0 = ⊥)\n",
      "    (lsel = false)\n",
      "    (SEL = true)\n",
      "    (K0 = false)\n",
      "    (left = ⊥)\n",
      "    (right = false)\n",
      "    (lem = ⊥)\n",
      "    (rem = false)\n",
      "    (both = ⊥))\n",
      "   ((K0 = false) (SEL = true) (K1 = r1)))\n",
      "  ((\"a broken clause:\" (K1 = r1))\n",
      "   ((GO = ⊥) (rsel = true) (r0 = ⊥) (RES = true))\n",
      "   ((l0 = ⊥)\n",
      "    (lsel = false)\n",
      "    (SEL = true)\n",
      "    (K0 = ⊥)\n",
      "    (left = true)\n",
      "    (right = ⊥)\n",
      "    (lem = true)\n",
      "    (rem = false)\n",
      "    (both = ⊥))\n",
      "   ((K0 = ⊥) (SEL = true) (K1 = r1)))\n",
      "  ((\"a broken clause:\" (K1 = r1))\n",
      "   ((GO = ⊥) (rsel = true) (r0 = ⊥) (RES = false))\n",
      "   ((l0 = ⊥)\n",
      "    (lsel = false)\n",
      "    (SEL = true)\n",
      "    (K0 = ⊥)\n",
      "    (left = ⊥)\n",
      "    (right = ⊥)\n",
      "    (lem = false)\n",
      "    (rem = false)\n",
      "    (both = ⊥))\n",
      "   ((K0 = ⊥) (SEL = true) (K1 = r1)))\n",
      "  ((\"a broken clause:\" (K1 = r1))\n",
      "   ((GO = ⊥) (rsel = true) (r0 = ⊥) (RES = ⊥))\n",
      "   ((l0 = ⊥)\n",
      "    (lsel = false)\n",
      "    (SEL = true)\n",
      "    (K0 = ⊥)\n",
      "    (left = ⊥)\n",
      "    (right = ⊥)\n",
      "    (lem = ⊥)\n",
      "    (rem = false)\n",
      "    (both = ⊥))\n",
      "   ((K0 = ⊥) (SEL = true) (K1 = r1)))\n",
      "  ((\"a broken clause:\" (K0 = true))\n",
      "   ((GO = ⊥) (rsel = false) (r0 = true) (RES = true))\n",
      "   ((l0 = ⊥)\n",
      "    (lsel = false)\n",
      "    (SEL = false)\n",
      "    (K0 = ⊥)\n",
      "    (left = ⊥)\n",
      "    (right = true)\n",
      "    (lem = false)\n",
      "    (rem = false)\n",
      "    (both = true))\n",
      "   ((K0 = true) (SEL = false) (K1 = r1)))\n",
      "  ((\"a broken clause:\" (K0 = true))\n",
      "   ((GO = ⊥) (rsel = false) (r0 = true) (RES = false))\n",
      "   ((l0 = ⊥)\n",
      "    (lsel = false)\n",
      "    (SEL = false)\n",
      "    (K0 = ⊥)\n",
      "    (left = ⊥)\n",
      "    (right = true)\n",
      "    (lem = false)\n",
      "    (rem = false)\n",
      "    (both = true))\n",
      "   ((K0 = true) (SEL = false) (K1 = r1)))\n",
      "  ((\"a broken clause:\" (K0 = true))\n",
      "   ((GO = ⊥) (rsel = false) (r0 = true) (RES = ⊥))\n",
      "   ((l0 = ⊥)\n",
      "    (lsel = false)\n",
      "    (SEL = false)\n",
      "    (K0 = ⊥)\n",
      "    (left = ⊥)\n",
      "    (right = true)\n",
      "    (lem = false)\n",
      "    (rem = false)\n",
      "    (both = true))\n",
      "   ((K0 = true) (SEL = false) (K1 = r1)))\n",
      "  ((\"a broken clause:\" (K1 = r1))\n",
      "   ((GO = ⊥) (rsel = false) (r0 = false) (RES = true))\n",
      "   ((l0 = ⊥)\n",
      "    (lsel = false)\n",
      "    (SEL = false)\n",
      "    (K0 = false)\n",
      "    (left = ⊥)\n",
      "    (right = false)\n",
      "    (lem = false)\n",
      "    (rem = false)\n",
      "    (both = ⊥))\n",
      "   ((K0 = false) (SEL = false) (K1 = r1)))\n",
      "  ((\"a broken clause:\" (K1 = r1))\n",
      "   ((GO = ⊥) (rsel = false) (r0 = false) (RES = false))\n",
      "   ((l0 = ⊥)\n",
      "    (lsel = false)\n",
      "    (SEL = false)\n",
      "    (K0 = false)\n",
      "    (left = ⊥)\n",
      "    (right = false)\n",
      "    (lem = false)\n",
      "    (rem = false)\n",
      "    (both = ⊥))\n",
      "   ((K0 = false) (SEL = false) (K1 = r1)))\n",
      "  ((\"a broken clause:\" (K1 = r1))\n",
      "   ((GO = ⊥) (rsel = false) (r0 = false) (RES = ⊥))\n",
      "   ((l0 = ⊥)\n",
      "    (lsel = false)\n",
      "    (SEL = false)\n",
      "    (K0 = false)\n",
      "    (left = ⊥)\n",
      "    (right = false)\n",
      "    (lem = false)\n",
      "    (rem = false)\n",
      "    (both = ⊥))\n",
      "   ((K0 = false) (SEL = false) (K1 = r1)))\n",
      "  ((\"a broken clause:\" (K1 = r1))\n",
      "   ((GO = ⊥) (rsel = false) (r0 = ⊥) (RES = true))\n",
      "   ((l0 = ⊥)\n",
      "    (lsel = false)\n",
      "    (SEL = false)\n",
      "    (K0 = ⊥)\n",
      "    (left = ⊥)\n",
      "    (right = ⊥)\n",
      "    (lem = false)\n",
      "    (rem = false)\n",
      "    (both = ⊥))\n",
      "   ((K0 = ⊥) (SEL = false) (K1 = r1)))\n",
      "  ((\"a broken clause:\" (K1 = r1))\n",
      "   ((GO = ⊥) (rsel = false) (r0 = ⊥) (RES = false))\n",
      "   ((l0 = ⊥)\n",
      "    (lsel = false)\n",
      "    (SEL = false)\n",
      "    (K0 = ⊥)\n",
      "    (left = ⊥)\n",
      "    (right = ⊥)\n",
      "    (lem = false)\n",
      "    (rem = false)\n",
      "    (both = ⊥))\n",
      "   ((K0 = ⊥) (SEL = false) (K1 = r1)))\n",
      "  ((\"a broken clause:\" (K1 = r1))\n",
      "   ((GO = ⊥) (rsel = false) (r0 = ⊥) (RES = ⊥))\n",
      "   ((l0 = ⊥)\n",
      "    (lsel = false)\n",
      "    (SEL = false)\n",
      "    (K0 = ⊥)\n",
      "    (left = ⊥)\n",
      "    (right = ⊥)\n",
      "    (lem = false)\n",
      "    (rem = false)\n",
      "    (both = ⊥))\n",
      "   ((K0 = ⊥) (SEL = false) (K1 = r1)))\n",
      "  ((\"a broken clause:\" (K0 = true))\n",
      "   ((GO = ⊥) (rsel = ⊥) (r0 = true) (RES = true))\n",
      "   ((l0 = ⊥)\n",
      "    (lsel = false)\n",
      "    (SEL = ⊥)\n",
      "    (K0 = ⊥)\n",
      "    (left = ⊥)\n",
      "    (right = true)\n",
      "    (lem = ⊥)\n",
      "    (rem = ⊥)\n",
      "    (both = true))\n",
      "   ((K0 = true) (SEL = ⊥) (K1 = r1)))\n",
      "  ((\"a broken clause:\" (K0 = true))\n",
      "   ((GO = ⊥) (rsel = ⊥) (r0 = true) (RES = false))\n",
      "   ((l0 = ⊥)\n",
      "    (lsel = false)\n",
      "    (SEL = ⊥)\n",
      "    (K0 = ⊥)\n",
      "    (left = ⊥)\n",
      "    (right = true)\n",
      "    (lem = false)\n",
      "    (rem = false)\n",
      "    (both = true))\n",
      "   ((K0 = true) (SEL = ⊥) (K1 = r1)))\n",
      "  ((\"a broken clause:\" (K0 = true))\n",
      "   ((GO = ⊥) (rsel = ⊥) (r0 = true) (RES = ⊥))\n",
      "   ((l0 = ⊥)\n",
      "    (lsel = false)\n",
      "    (SEL = ⊥)\n",
      "    (K0 = ⊥)\n",
      "    (left = ⊥)\n",
      "    (right = true)\n",
      "    (lem = ⊥)\n",
      "    (rem = ⊥)\n",
      "    (both = true))\n",
      "   ((K0 = true) (SEL = ⊥) (K1 = r1)))\n",
      "  ((\"a broken clause:\" (K0 = false))\n",
      "   ((GO = ⊥) (rsel = ⊥) (r0 = false) (RES = true))\n",
      "   ((l0 = ⊥)\n",
      "    (lsel = false)\n",
      "    (SEL = ⊥)\n",
      "    (K0 = ⊥)\n",
      "    (left = ⊥)\n",
      "    (right = ⊥)\n",
      "    (lem = ⊥)\n",
      "    (rem = ⊥)\n",
      "    (both = ⊥))\n",
      "   ((K0 = false) (SEL = ⊥) (K1 = r1)))\n",
      "  ((\"a broken clause:\" (K1 = r1))\n",
      "   ((GO = ⊥) (rsel = ⊥) (r0 = false) (RES = false))\n",
      "   ((l0 = ⊥)\n",
      "    (lsel = false)\n",
      "    (SEL = ⊥)\n",
      "    (K0 = false)\n",
      "    (left = ⊥)\n",
      "    (right = false)\n",
      "    (lem = false)\n",
      "    (rem = false)\n",
      "    (both = ⊥))\n",
      "   ((K0 = false) (SEL = ⊥) (K1 = r1)))\n",
      "  ((\"a broken clause:\" (K0 = false))\n",
      "   ((GO = ⊥) (rsel = ⊥) (r0 = false) (RES = ⊥))\n",
      "   ((l0 = ⊥)\n",
      "    (lsel = false)\n",
      "    (SEL = ⊥)\n",
      "    (K0 = ⊥)\n",
      "    (left = ⊥)\n",
      "    (right = ⊥)\n",
      "    (lem = ⊥)\n",
      "    (rem = ⊥)\n",
      "    (both = ⊥))\n",
      "   ((K0 = false) (SEL = ⊥) (K1 = r1)))\n",
      "  ((\"a broken clause:\" (K1 = r1))\n",
      "   ((GO = ⊥) (rsel = ⊥) (r0 = ⊥) (RES = true))\n",
      "   ((l0 = ⊥)\n",
      "    (lsel = false)\n",
      "    (SEL = ⊥)\n",
      "    (K0 = ⊥)\n",
      "    (left = ⊥)\n",
      "    (right = ⊥)\n",
      "    (lem = ⊥)\n",
      "    (rem = ⊥)\n",
      "    (both = ⊥))\n",
      "   ((K0 = ⊥) (SEL = ⊥) (K1 = r1)))\n",
      "  ((\"a broken clause:\" (K1 = r1))\n",
      "   ((GO = ⊥) (rsel = ⊥) (r0 = ⊥) (RES = false))\n",
      "   ((l0 = ⊥)\n",
      "    (lsel = false)\n",
      "    (SEL = ⊥)\n",
      "    (K0 = ⊥)\n",
      "    (left = ⊥)\n",
      "    (right = ⊥)\n",
      "    (lem = false)\n",
      "    (rem = false)\n",
      "    (both = ⊥))\n",
      "   ((K0 = ⊥) (SEL = ⊥) (K1 = r1)))\n",
      "  ((\"a broken clause:\" (K1 = r1))\n",
      "   ((GO = ⊥) (rsel = ⊥) (r0 = ⊥) (RES = ⊥))\n",
      "   ((l0 = ⊥)\n",
      "    (lsel = false)\n",
      "    (SEL = ⊥)\n",
      "    (K0 = ⊥)\n",
      "    (left = ⊥)\n",
      "    (right = ⊥)\n",
      "    (lem = ⊥)\n",
      "    (rem = ⊥)\n",
      "    (both = ⊥))\n"
     ]
    },
    {
     "name": "stderr",
     "output_type": "stream",
     "text": [
      "   ((K0 = ⊥) (SEL = ⊥) (K1 = r1))))\n",
      "  context...:\n",
      "   eval-one-top12\n",
      "   /Applications/Racket/racket/share/pkgs/sandbox-lib/racket/sandbox.rkt:510:0: call-with-custodian-shutdown\n",
      "   /Applications/Racket/racket/collects/racket/private/more-scheme.rkt:148:2: call-with-break-parameterization\n",
      "   .../more-scheme.rkt:261:28\n",
      "   /Applications/Racket/racket/share/pkgs/sandbox-lib/racket/sandbox.rkt:878:5: loop\n"
     ]
    }
   ],
   "source": [
    "(assert-same (term start) (term ((K0 = r0) (SEL = rsel) (K1 = r1))))"
   ]
  },
  {
   "cell_type": "code",
   "execution_count": 4,
   "metadata": {},
   "outputs": [
    {
     "name": "stdout",
     "output_type": "stream",
     "text": [
      "((+ l0) = (+ GO))\n",
      "((- l0) = (- GO))\n",
      "((+ lsel) = false)\n",
      "((- lsel) = true)\n",
      "((+ SEL) = (or (+ lsel) (+ rsel)))\n",
      "((- SEL) = (and (- lsel) (- rsel)))\n",
      "((+ K0) = (and (+ left) (and (+ right) (+ both))))\n",
      "((- K0) = (or (- left) (or (- right) (- both))))\n",
      "((+ left) = (or (+ l0) (+ lem)))\n",
      "((- left) = (and (- l0) (- lem)))\n",
      "((+ right) = (or (+ r0) (+ rem)))\n",
      "((- right) = (and (- r0) (- rem)))\n",
      "((+ lem) = (and (+ SEL) (and (+ RES) (- lsel))))\n",
      "((- lem) = (or (- SEL) (or (- RES) (+ lsel))))\n",
      "((+ rem) = (and (+ SEL) (and (+ RES) (- rsel))))\n",
      "((- rem) = (or (- SEL) (or (- RES) (+ rsel))))\n",
      "((+ both) = (or (+ l0) (+ r0)))\n",
      "((- both) = (and (- l0) (- r0)))\n"
     ]
    }
   ],
   "source": [
    "(define/ppl translated #:no-check\n",
    "  (convert-P start))"
   ]
  },
  {
   "cell_type": "markdown",
   "metadata": {},
   "source": [
    "Step 1: By rules of `and` and `or`"
   ]
  },
  {
   "cell_type": "code",
   "execution_count": 5,
   "metadata": {},
   "outputs": [
    {
     "name": "stdout",
     "output_type": "stream",
     "text": [
      "((+ SEL) = (or false (+ rsel)))\n",
      "((- SEL) = (and true (- rsel)))\n",
      "((+ K0) = (and (+ left) (and (+ right) (+ both))))\n",
      "((- K0) = (or (- left) (or (- right) (- both))))\n",
      "((+ left) = (or (+ GO) (+ lem)))\n",
      "((- left) = (and (- GO) (- lem)))\n",
      "((+ right) = (or (+ r0) (+ rem)))\n",
      "((- right) = (and (- r0) (- rem)))\n",
      "((+ lem) = (and (+ SEL) (and (+ RES) true)))\n",
      "((- lem) = (or (- SEL) (or (- RES) false)))\n",
      "((+ rem) = (and (+ SEL) (and (+ RES) (- rsel))))\n",
      "((- rem) = (or (- SEL) (or (- RES) (+ rsel))))\n",
      "((+ both) = (or (+ GO) (+ r0)))\n",
      "((- both) = (and (- GO) (- r0)))\n"
     ]
    }
   ],
   "source": [
    "(define/ppl step0 #:no-check\n",
    " (propigate/remove* translated\n",
    "    (+ l0) (- l0) (+ lsel) (- lsel)))"
   ]
  },
  {
   "cell_type": "code",
   "execution_count": 6,
   "metadata": {},
   "outputs": [
    {
     "name": "stdout",
     "output_type": "stream",
     "text": [
      "((+ SEL) = (+ rsel))\n",
      "((- SEL) = (- rsel))\n",
      "((+ K0) = (and (+ left) (and (+ right) (+ both))))\n",
      "((- K0) = (or (- left) (or (- right) (- both))))\n",
      "((+ left) = (or (+ GO) (+ lem)))\n",
      "((- left) = (and (- GO) (- lem)))\n",
      "((+ right) = (or (+ r0) (+ rem)))\n",
      "((- right) = (and (- r0) (- rem)))\n",
      "((+ lem) = (and (+ SEL) (and (+ RES) true)))\n",
      "((- lem) = (or (- SEL) (or (- RES) false)))\n",
      "((+ rem) = (and (+ SEL) (and (+ RES) (- rsel))))\n",
      "((- rem) = (or (- SEL) (or (- RES) (+ rsel))))\n",
      "((+ both) = (or (+ GO) (+ r0)))\n",
      "((- both) = (and (- GO) (- r0)))\n"
     ]
    }
   ],
   "source": [
    "(define/ppl step1\n",
    "  replace* step0 \n",
    "  [(or false (+ rsel)) (+ rsel)]\n",
    "  [(and true (- rsel)) (- rsel)])"
   ]
  },
  {
   "cell_type": "code",
   "execution_count": 7,
   "metadata": {
    "scrolled": true
   },
   "outputs": [
    {
     "name": "stdout",
     "output_type": "stream",
     "text": [
      "((+ SEL) = (+ rsel))\n",
      "((- SEL) = (- rsel))\n",
      "((+ K0) = (and (+ left) (and (+ right) (+ both))))\n",
      "((- K0) = (or (- left) (or (- right) (- both))))\n",
      "((+ left) = (or (+ GO) (+ lem)))\n",
      "((- left) = (and (- GO) (- lem)))\n",
      "((+ right) = (or (+ r0) (+ rem)))\n",
      "((- right) = (and (- r0) (- rem)))\n",
      "((+ lem) = (and (+ SEL) (+ RES)))\n",
      "((- lem) = (or (- SEL) (- RES)))\n",
      "((+ rem) = (and (+ SEL) (and (+ RES) (- rsel))))\n",
      "((- rem) = (or (- SEL) (or (- RES) (+ rsel))))\n",
      "((+ both) = (or (+ GO) (+ r0)))\n",
      "((- both) = (and (- GO) (- r0)))\n"
     ]
    }
   ],
   "source": [
    "(define/ppl step-before-case\n",
    "  replace*\n",
    "  step1\n",
    "  [(and (+ RES) true) (+ RES)]\n",
    "  [(or (- RES) false) (- RES)])"
   ]
  },
  {
   "cell_type": "markdown",
   "metadata": {},
   "source": [
    "By +x and -x = 0 and law of the excluded middle we can have\n",
    "three cases:\n",
    "\n",
    "1. `+GO` = `-GO` = 0\n",
    "2. `+GO` = 1, `-GO` = 0\n",
    "3. `+GO` = 0, `-GO` = 1"
   ]
  },
  {
   "cell_type": "markdown",
   "metadata": {},
   "source": [
    "# CASE 1 `+GO` = `-GO` = 0 (`GO` is unknown)"
   ]
  },
  {
   "cell_type": "code",
   "execution_count": 8,
   "metadata": {},
   "outputs": [
    {
     "name": "stdout",
     "output_type": "stream",
     "text": [
      "((+ SEL) = (+ rsel))\n",
      "((- SEL) = (- rsel))\n",
      "((+ K0) = (and (+ left) (and (+ right) (+ both))))\n",
      "((- K0) = (or (- left) (or (- right) (- both))))\n",
      "((+ left) = (or false (+ lem)))\n",
      "((- left) = (and false (- lem)))\n",
      "((+ right) = (or (+ r0) (+ rem)))\n",
      "((- right) = (and (- r0) (- rem)))\n",
      "((+ lem) = (and (+ SEL) (+ RES)))\n",
      "((- lem) = (or (- SEL) (- RES)))\n",
      "((+ rem) = (and (+ SEL) (and (+ RES) (- rsel))))\n",
      "((- rem) = (or (- SEL) (or (- RES) (+ rsel))))\n",
      "((+ both) = (or false (+ r0)))\n",
      "((- both) = (and false (- r0)))\n"
     ]
    }
   ],
   "source": [
    "(define/ppl case1-step1 #:no-check\n",
    "  (replace* \n",
    "   step-before-case\n",
    "   [(+ GO) false]\n",
    "   [(- GO) false]))"
   ]
  },
  {
   "cell_type": "markdown",
   "metadata": {},
   "source": [
    "by the laws of and/or on false"
   ]
  },
  {
   "cell_type": "code",
   "execution_count": 9,
   "metadata": {},
   "outputs": [
    {
     "name": "stdout",
     "output_type": "stream",
     "text": [
      "((+ SEL) = (+ rsel))\n",
      "((- SEL) = (- rsel))\n",
      "((+ K0) = (and (+ left) (and (+ right) (+ both))))\n",
      "((- K0) = (or (- left) (or (- right) (- both))))\n",
      "((+ left) = (+ lem))\n",
      "((- left) = false)\n",
      "((+ right) = (or (+ r0) (+ rem)))\n",
      "((- right) = (and (- r0) (- rem)))\n",
      "((+ lem) = (and (+ SEL) (+ RES)))\n",
      "((- lem) = (or (- SEL) (- RES)))\n",
      "((+ rem) = (and (+ SEL) (and (+ RES) (- rsel))))\n",
      "((- rem) = (or (- SEL) (or (- RES) (+ rsel))))\n",
      "((+ both) = (+ r0))\n",
      "((- both) = false)\n"
     ]
    }
   ],
   "source": [
    "(define/ppl case1-step2\n",
    "  replace* case1-step1\n",
    "           [(or false (+ r0)) (+ r0)]\n",
    "           [(and false (- r0)) false]\n",
    "           [(or false (+ lem)) (+ lem)]\n",
    "           [(and false (- lem)) false]\n",
    "           [(or false (and (+ SEL) (and (+ RES) (- lsel))))\n",
    "            (and (+ SEL) (and (+ RES) (- lsel)))]\n",
    "           [(and false (or (- SEL) (or (- RES) (+ lsel))))\n",
    "            false])"
   ]
  },
  {
   "cell_type": "code",
   "execution_count": 10,
   "metadata": {},
   "outputs": [
    {
     "name": "stdout",
     "output_type": "stream",
     "text": [
      "((+ SEL) = (+ rsel))\n",
      "((- SEL) = (- rsel))\n",
      "((+ K0) = (and (+ lem) (and (+ right) (+ r0))))\n",
      "((- K0) = (or false (or (- right) false)))\n",
      "((+ right) = (or (+ r0) (+ rem)))\n",
      "((- right) = (and (- r0) (- rem)))\n",
      "((+ lem) = (and (+ SEL) (+ RES)))\n",
      "((- lem) = (or (- SEL) (- RES)))\n",
      "((+ rem) = (and (+ SEL) (and (+ RES) (- rsel))))\n",
      "((- rem) = (or (- SEL) (or (- RES) (+ rsel))))\n"
     ]
    }
   ],
   "source": [
    "(define/ppl case1-step3\n",
    "   propigate/remove* case1-step2\n",
    "                     (+ both) (- both)\n",
    "                     (+ left) (- left))"
   ]
  },
  {
   "cell_type": "code",
   "execution_count": 11,
   "metadata": {},
   "outputs": [
    {
     "name": "stdout",
     "output_type": "stream",
     "text": [
      "((+ SEL) = (+ rsel))\n",
      "((- SEL) = (- rsel))\n",
      "((+ K0) = (and (+ lem) (and (+ right) (+ r0))))\n",
      "((- K0) = (- right))\n",
      "((+ right) = (or (+ r0) (+ rem)))\n",
      "((- right) = (and (- r0) (- rem)))\n",
      "((+ lem) = (and (+ SEL) (+ RES)))\n",
      "((- lem) = (or (- SEL) (- RES)))\n",
      "((+ rem) = (and (+ SEL) (and (+ RES) (- rsel))))\n",
      "((- rem) = (or (- SEL) (or (- RES) (+ rsel))))\n"
     ]
    }
   ],
   "source": [
    "(define/ppl case1-step4\n",
    "   replace* case1-step3\n",
    "            [(or false (or (- right) false))\n",
    "             (- right)])"
   ]
  },
  {
   "cell_type": "code",
   "execution_count": 12,
   "metadata": {},
   "outputs": [
    {
     "name": "stdout",
     "output_type": "stream",
     "text": [
      "((+ SEL) = (+ rsel))\n",
      "((- SEL) = (- rsel))\n",
      "((+ K0) = (and (+ lem) (and (or (+ r0) (+ rem)) (+ r0))))\n",
      "((- K0) = (and (- r0) (- rem)))\n",
      "((+ lem) = (and (+ SEL) (+ RES)))\n",
      "((- lem) = (or (- SEL) (- RES)))\n",
      "((+ rem) = (and (+ SEL) (and (+ RES) (- rsel))))\n",
      "((- rem) = (or (- SEL) (or (- RES) (+ rsel))))\n"
     ]
    }
   ],
   "source": [
    "(define/ppl case1-step5\n",
    "  propigate/remove*\n",
    "  case1-step4\n",
    "  (+ right) (- right))"
   ]
  },
  {
   "cell_type": "code",
   "execution_count": 13,
   "metadata": {},
   "outputs": [
    {
     "name": "stdout",
     "output_type": "stream",
     "text": [
      "((+ SEL) = (+ rsel))\n",
      "((- SEL) = (- rsel))\n",
      "((+ K0) = (and (+ lem) (and (or (+ r0) (+ rem)) (+ r0))))\n",
      "((- K0) = (and (- r0) (- rem)))\n",
      "((+ lem) = (and (+ rsel) (+ RES)))\n",
      "((- lem) = (or (- rsel) (- RES)))\n",
      "((+ rem) = (and (+ rsel) (and (+ RES) (- rsel))))\n",
      "((- rem) = (or (- rsel) (or (- RES) (+ rsel))))\n"
     ]
    }
   ],
   "source": [
    "(define/ppl case1-step6\n",
    "  propigate*\n",
    "  case1-step5\n",
    "  (- SEL) (+ SEL))"
   ]
  },
  {
   "cell_type": "code",
   "execution_count": 14,
   "metadata": {},
   "outputs": [
    {
     "name": "stdout",
     "output_type": "stream",
     "text": [
      "((+ SEL) = (+ rsel))\n",
      "((- SEL) = (- rsel))\n",
      "((+ K0) = (and (+ lem) (+ r0)))\n",
      "((- K0) = (and (- r0) (- rem)))\n",
      "((+ lem) = (and (+ rsel) (+ RES)))\n",
      "((- lem) = (or (- rsel) (- RES)))\n",
      "((+ rem) = (and (+ rsel) (and (+ RES) (- rsel))))\n",
      "((- rem) = (or (- rsel) (or (- RES) (+ rsel))))\n"
     ]
    }
   ],
   "source": [
    "(define/ppl case1-step7\n",
    "  replace*\n",
    "  case1-step6\n",
    "  [(and (or (+ r0) (+ rem)) (+ r0)) (+ r0)])"
   ]
  },
  {
   "cell_type": "markdown",
   "metadata": {},
   "source": [
    "This next step can be taken because `(and (+ rsel) (- rsel)` must be false."
   ]
  },
  {
   "cell_type": "code",
   "execution_count": 15,
   "metadata": {},
   "outputs": [
    {
     "name": "stdout",
     "output_type": "stream",
     "text": [
      "((+ SEL) = (+ rsel))\n",
      "((- SEL) = (- rsel))\n",
      "((+ K0) = (and (+ lem) (+ r0)))\n",
      "((- K0) = (and (- r0) (- rem)))\n",
      "((+ lem) = (and (+ rsel) (+ RES)))\n",
      "((- lem) = (or (- rsel) (- RES)))\n",
      "((+ rem) = false)\n",
      "((- rem) = (or (- rsel) (or (- RES) (+ rsel))))\n"
     ]
    }
   ],
   "source": [
    "(define/ppl case1-step8\n",
    "  replace*\n",
    "  case1-step7\n",
    "  [(and (+ rsel) (and (+ RES) (- rsel))) false])"
   ]
  },
  {
   "cell_type": "code",
   "execution_count": 16,
   "metadata": {},
   "outputs": [
    {
     "name": "stdout",
     "output_type": "stream",
     "text": [
      "((+ SEL) = (+ rsel))\n",
      "((- SEL) = (- rsel))\n",
      "((+ K0) = (and (and (+ rsel) (+ RES)) (+ r0)))\n",
      "((- K0) = (and (- r0) (or (- rsel) (or (- RES) (+ rsel)))))\n"
     ]
    }
   ],
   "source": [
    "(define/ppl case1-step9\n",
    "  propigate/remove*\n",
    "  case1-step8\n",
    "  (+ rem) (- rem) (+ lem) (- lem))"
   ]
  },
  {
   "cell_type": "markdown",
   "metadata": {},
   "source": [
    "Just some rearangings"
   ]
  },
  {
   "cell_type": "code",
   "execution_count": 17,
   "metadata": {},
   "outputs": [
    {
     "name": "stdout",
     "output_type": "stream",
     "text": [
      "((+ SEL) = (+ rsel))\n",
      "((- SEL) = (- rsel))\n",
      "((+ K0) = (and (+ r0) (and (+ rsel) (+ RES))))\n",
      "((- K0) = (and (- r0) (or (- RES) (or (- rsel) (+ rsel)))))\n"
     ]
    }
   ],
   "source": [
    "(define/ppl case1-step10\n",
    "  replace* case1-step9\n",
    "  [(and (and (+ rsel) (+ RES)) (+ r0))\n",
    "   (and (+ r0) (and (+ rsel) (+ RES)))]\n",
    "  [(and (- r0) (or (- rsel) (or (- RES) (+ rsel))))\n",
    "   (and (- r0) (or (- RES) (or (- rsel) (+ rsel))))])"
   ]
  },
  {
   "cell_type": "markdown",
   "metadata": {},
   "source": [
    "# CASE 2 `+GO` = 1 and `-GO` = 0 (`GO` is 1)"
   ]
  },
  {
   "cell_type": "code",
   "execution_count": 18,
   "metadata": {},
   "outputs": [
    {
     "name": "stdout",
     "output_type": "stream",
     "text": [
      "((+ SEL) = (+ rsel))\n",
      "((- SEL) = (- rsel))\n",
      "((+ K0) = (and (+ left) (and (+ right) (+ both))))\n",
      "((- K0) = (or (- left) (or (- right) (- both))))\n",
      "((+ left) = (or true (+ lem)))\n",
      "((- left) = (and false (- lem)))\n",
      "((+ right) = (or (+ r0) (+ rem)))\n",
      "((- right) = (and (- r0) (- rem)))\n",
      "((+ lem) = (and (+ SEL) (+ RES)))\n",
      "((- lem) = (or (- SEL) (- RES)))\n",
      "((+ rem) = (and (+ SEL) (and (+ RES) (- rsel))))\n",
      "((- rem) = (or (- SEL) (or (- RES) (+ rsel))))\n",
      "((+ both) = (or true (+ r0)))\n",
      "((- both) = (and false (- r0)))\n"
     ]
    }
   ],
   "source": [
    "(define/ppl case2-step1 #:no-check\n",
    "  (replace* step-before-case\n",
    "            [(+ GO) true]\n",
    "            [(- GO) false]))"
   ]
  },
  {
   "cell_type": "code",
   "execution_count": 19,
   "metadata": {},
   "outputs": [
    {
     "name": "stdout",
     "output_type": "stream",
     "text": [
      "((+ SEL) = (+ rsel))\n",
      "((- SEL) = (- rsel))\n",
      "((+ K0) = (and (+ left) (and (+ right) (+ both))))\n",
      "((- K0) = (or (- left) (or (- right) (- both))))\n",
      "((+ left) = true)\n",
      "((- left) = false)\n",
      "((+ right) = (or (+ r0) (+ rem)))\n",
      "((- right) = (and (- r0) (- rem)))\n",
      "((+ lem) = (and (+ SEL) (+ RES)))\n",
      "((- lem) = (or (- SEL) (- RES)))\n",
      "((+ rem) = (and (+ SEL) (and (+ RES) (- rsel))))\n",
      "((- rem) = (or (- SEL) (or (- RES) (+ rsel))))\n",
      "((+ both) = true)\n",
      "((- both) = false)\n"
     ]
    }
   ],
   "source": [
    "(define/ppl case2-step2\n",
    "             replace* case2-step1\n",
    "             [(or true (+ lem)) true]\n",
    "             [(and false (- lem)) false]\n",
    "             [(or true (+ r0)) true]\n",
    "             [(and false (- r0)) false])"
   ]
  },
  {
   "cell_type": "code",
   "execution_count": 20,
   "metadata": {},
   "outputs": [
    {
     "name": "stdout",
     "output_type": "stream",
     "text": [
      "((+ SEL) = (+ rsel))\n",
      "((- SEL) = (- rsel))\n",
      "((+ K0) = (and true (and (+ right) true)))\n",
      "((- K0) = (or false (or (- right) false)))\n",
      "((+ right) = (or (+ r0) (+ rem)))\n",
      "((- right) = (and (- r0) (- rem)))\n",
      "((+ lem) = (and (+ SEL) (+ RES)))\n",
      "((- lem) = (or (- SEL) (- RES)))\n",
      "((+ rem) = (and (+ SEL) (and (+ RES) (- rsel))))\n",
      "((- rem) = (or (- SEL) (or (- RES) (+ rsel))))\n"
     ]
    }
   ],
   "source": [
    "(define/ppl case2-step3\n",
    "             propigate/remove* case2-step2\n",
    "                               (+ left) (- left)\n",
    "                               (+ both) (- both))"
   ]
  },
  {
   "cell_type": "code",
   "execution_count": 21,
   "metadata": {},
   "outputs": [
    {
     "name": "stdout",
     "output_type": "stream",
     "text": [
      "((+ SEL) = (+ rsel))\n",
      "((- SEL) = (- rsel))\n",
      "((+ K0) = (+ right))\n",
      "((- K0) = (- right))\n",
      "((+ right) = (or (+ r0) (+ rem)))\n",
      "((- right) = (and (- r0) (- rem)))\n",
      "((+ lem) = (and (+ SEL) (+ RES)))\n",
      "((- lem) = (or (- SEL) (- RES)))\n",
      "((+ rem) = (and (+ SEL) (and (+ RES) (- rsel))))\n",
      "((- rem) = (or (- SEL) (or (- RES) (+ rsel))))\n"
     ]
    }
   ],
   "source": [
    "(define/ppl case2-step4\n",
    "             replace* case2-step3\n",
    "             [(and true (and (+ right) true))\n",
    "              (+ right)]\n",
    "             [(or false (or (- right) false))\n",
    "              (- right)])"
   ]
  },
  {
   "cell_type": "code",
   "execution_count": 22,
   "metadata": {},
   "outputs": [
    {
     "name": "stdout",
     "output_type": "stream",
     "text": [
      "((+ SEL) = (+ rsel))\n",
      "((- SEL) = (- rsel))\n",
      "((+ K0) = (or (+ r0) (and (+ SEL) (and (+ RES) (- rsel)))))\n",
      "((- K0) = (and (- r0) (or (- SEL) (or (- RES) (+ rsel)))))\n"
     ]
    }
   ],
   "source": [
    "(define/ppl case2-step5 \n",
    "             propigate/remove* case2-step4\n",
    "             (+ right) (- right)\n",
    "             (+ rem) (- rem)\n",
    "             (+ lem) (- lem))"
   ]
  },
  {
   "cell_type": "code",
   "execution_count": 23,
   "metadata": {},
   "outputs": [
    {
     "name": "stdout",
     "output_type": "stream",
     "text": [
      "((+ SEL) = (+ rsel))\n",
      "((- SEL) = (- rsel))\n",
      "((+ K0) = (or (+ r0) (and (+ SEL) (and (+ RES) (- rsel)))))\n",
      "((- K0) = (and (- r0) (or (- SEL) (or (- RES) (+ rsel)))))\n"
     ]
    }
   ],
   "source": [
    "(define/ppl case2-step6\n",
    "             replace* case2-step5\n",
    "                      [(and (+ r0) (+ r0)) (+ r0)]\n",
    "                      [(and (- r0) true) (- r0)])"
   ]
  },
  {
   "cell_type": "code",
   "execution_count": 24,
   "metadata": {},
   "outputs": [
    {
     "name": "stdout",
     "output_type": "stream",
     "text": [
      "((+ SEL) = (+ rsel))\n",
      "((- SEL) = (- rsel))\n",
      "((+ K0) = (or (+ r0) (and (+ rsel) (and (+ RES) (- rsel)))))\n",
      "((- K0) = (and (- r0) (or (- rsel) (or (- RES) (+ rsel)))))\n"
     ]
    }
   ],
   "source": [
    "(define/ppl case2-step7\n",
    "            propigate*\n",
    "            case2-step6\n",
    "            (+ SEL) (- SEL))"
   ]
  },
  {
   "cell_type": "markdown",
   "metadata": {},
   "source": [
    "The next step can be taken because `(and (+ rsel) (- rsel))` muct be false."
   ]
  },
  {
   "cell_type": "code",
   "execution_count": 25,
   "metadata": {},
   "outputs": [
    {
     "name": "stdout",
     "output_type": "stream",
     "text": [
      "((+ SEL) = (+ rsel))\n",
      "((- SEL) = (- rsel))\n",
      "((+ K0) = (or (+ r0) false))\n",
      "((- K0) = (and (- r0) (or (- rsel) (or (- RES) (+ rsel)))))\n"
     ]
    }
   ],
   "source": [
    "(define/ppl case2-step8\n",
    "  replace*\n",
    "  case2-step7\n",
    "  [(and (+ rsel) (and (+ RES) (- rsel))) false])"
   ]
  },
  {
   "cell_type": "code",
   "execution_count": 26,
   "metadata": {},
   "outputs": [
    {
     "name": "stdout",
     "output_type": "stream",
     "text": [
      "((+ SEL) = (+ rsel))\n",
      "((- SEL) = (- rsel))\n",
      "((+ K0) = (+ r0))\n",
      "((- K0) = (and (- r0) (or (- rsel) (or (- RES) (+ rsel)))))\n"
     ]
    }
   ],
   "source": [
    "(define/ppl case2-step9\n",
    "  replace*\n",
    "  case2-step8\n",
    "  [(or (+ r0) false) (+ r0)])"
   ]
  },
  {
   "cell_type": "markdown",
   "metadata": {},
   "source": [
    "some re-aranging"
   ]
  },
  {
   "cell_type": "code",
   "execution_count": 27,
   "metadata": {},
   "outputs": [
    {
     "name": "stdout",
     "output_type": "stream",
     "text": [
      "((+ SEL) = (+ rsel))\n",
      "((- SEL) = (- rsel))\n",
      "((+ K0) = (+ r0))\n",
      "((- K0) = (and (- r0) (or (- RES) (or (- rsel) (+ rsel)))))\n"
     ]
    }
   ],
   "source": [
    "(define/ppl case2-step10\n",
    "  replace*\n",
    "  case2-step9\n",
    "  [(and (- r0) (or (- rsel) (or (- RES) (+ rsel))))\n",
    "   (and (- r0) (or (- RES) (or (- rsel) (+ rsel))))])"
   ]
  },
  {
   "cell_type": "markdown",
   "metadata": {},
   "source": [
    "# CASE 3 `+GO` = 0 and `-GO` = 1 (`GO` is 0)"
   ]
  },
  {
   "cell_type": "code",
   "execution_count": 28,
   "metadata": {},
   "outputs": [
    {
     "name": "stdout",
     "output_type": "stream",
     "text": [
      "((+ SEL) = (+ rsel))\n",
      "((- SEL) = (- rsel))\n",
      "((+ K0) = (and (+ left) (and (+ right) (+ both))))\n",
      "((- K0) = (or (- left) (or (- right) (- both))))\n",
      "((+ left) = (or false (+ lem)))\n",
      "((- left) = (and true (- lem)))\n",
      "((+ right) = (or (+ r0) (+ rem)))\n",
      "((- right) = (and (- r0) (- rem)))\n",
      "((+ lem) = (and (+ SEL) (+ RES)))\n",
      "((- lem) = (or (- SEL) (- RES)))\n",
      "((+ rem) = (and (+ SEL) (and (+ RES) (- rsel))))\n",
      "((- rem) = (or (- SEL) (or (- RES) (+ rsel))))\n",
      "((+ both) = (or false (+ r0)))\n",
      "((- both) = (and true (- r0)))\n"
     ]
    }
   ],
   "source": [
    "(define/ppl case3-step1 #:no-check\n",
    "   (replace* step-before-case\n",
    "            [(+ GO) false]\n",
    "            [(- GO) true]))"
   ]
  },
  {
   "cell_type": "code",
   "execution_count": 29,
   "metadata": {},
   "outputs": [
    {
     "name": "stdout",
     "output_type": "stream",
     "text": [
      "((+ SEL) = (+ rsel))\n",
      "((- SEL) = (- rsel))\n",
      "((+ K0) = (and (+ left) (and (+ right) (+ both))))\n",
      "((- K0) = (or (- left) (or (- right) (- both))))\n",
      "((+ left) = (+ lem))\n",
      "((- left) = (- lem))\n",
      "((+ right) = (or (+ r0) (+ rem)))\n",
      "((- right) = (and (- r0) (- rem)))\n",
      "((+ lem) = (and (+ SEL) (+ RES)))\n",
      "((- lem) = (or (- SEL) (- RES)))\n",
      "((+ rem) = (and (+ SEL) (and (+ RES) (- rsel))))\n",
      "((- rem) = (or (- SEL) (or (- RES) (+ rsel))))\n",
      "((+ both) = (+ r0))\n",
      "((- both) = (- r0))\n"
     ]
    }
   ],
   "source": [
    "(define/ppl case3-step2\n",
    "  replace* case3-step1\n",
    "  [(or false (+ lem)) (+ lem)]\n",
    "  [(and true (- lem)) (- lem)]\n",
    "  [(or false (+ r0)) (+ r0)]\n",
    "  [(and true (- r0)) (- r0)])"
   ]
  },
  {
   "cell_type": "code",
   "execution_count": 30,
   "metadata": {},
   "outputs": [
    {
     "name": "stdout",
     "output_type": "stream",
     "text": [
      "((+ SEL) = (+ rsel))\n",
      "((- SEL) = (- rsel))\n",
      "((+ K0) = (and (+ lem) (and (+ right) (+ r0))))\n",
      "((- K0) = (or (- lem) (or (- right) (- r0))))\n",
      "((+ right) = (or (+ r0) (+ rem)))\n",
      "((- right) = (and (- r0) (- rem)))\n",
      "((+ lem) = (and (+ SEL) (+ RES)))\n",
      "((- lem) = (or (- SEL) (- RES)))\n",
      "((+ rem) = (and (+ SEL) (and (+ RES) (- rsel))))\n",
      "((- rem) = (or (- SEL) (or (- RES) (+ rsel))))\n"
     ]
    }
   ],
   "source": [
    "(define/ppl case3-step3\n",
    "  propigate/remove* case3-step2\n",
    "  (+ left) (- left)\n",
    "  (+ both) (- both))"
   ]
  },
  {
   "cell_type": "code",
   "execution_count": 31,
   "metadata": {},
   "outputs": [
    {
     "name": "stdout",
     "output_type": "stream",
     "text": [
      "((+ SEL) = (+ rsel))\n",
      "((- SEL) = (- rsel))\n",
      "((+ K0) = (and (+ lem) (and (+ right) (+ r0))))\n",
      "((- K0) = (or (- lem) (or (- right) (- r0))))\n",
      "((+ right) = (or (+ r0) (+ rem)))\n",
      "((- right) = (and (- r0) (- rem)))\n",
      "((+ lem) = (and (+ rsel) (+ RES)))\n",
      "((- lem) = (or (- rsel) (- RES)))\n",
      "((+ rem) = (and (+ rsel) (and (+ RES) (- rsel))))\n",
      "((- rem) = (or (- rsel) (or (- RES) (+ rsel))))\n"
     ]
    }
   ],
   "source": [
    "(define/ppl case3-step4\n",
    "  propigate*\n",
    "  case3-step3\n",
    "  (+ SEL) (- SEL))"
   ]
  },
  {
   "cell_type": "markdown",
   "metadata": {},
   "source": [
    "again, because `(and (+ rsel) (- rsel))`"
   ]
  },
  {
   "cell_type": "code",
   "execution_count": 32,
   "metadata": {},
   "outputs": [
    {
     "name": "stdout",
     "output_type": "stream",
     "text": [
      "((+ SEL) = (+ rsel))\n",
      "((- SEL) = (- rsel))\n",
      "((+ K0) = (and (+ lem) (and (+ right) (+ r0))))\n",
      "((- K0) = (or (- lem) (or (- right) (- r0))))\n",
      "((+ right) = (or (+ r0) (+ rem)))\n",
      "((- right) = (and (- r0) (- rem)))\n",
      "((+ lem) = (and (+ rsel) (+ RES)))\n",
      "((- lem) = (or (- rsel) (- RES)))\n",
      "((+ rem) = false)\n",
      "((- rem) = (or (- rsel) (or (- RES) (+ rsel))))\n"
     ]
    }
   ],
   "source": [
    "(define/ppl case3-step5\n",
    "  replace* case3-step4\n",
    "  [(and (+ rsel) (and (+ RES) (- rsel))) \n",
    "   false])"
   ]
  },
  {
   "cell_type": "code",
   "execution_count": 33,
   "metadata": {},
   "outputs": [
    {
     "name": "stdout",
     "output_type": "stream",
     "text": [
      "((+ SEL) = (+ rsel))\n",
      "((- SEL) = (- rsel))\n",
      "((+ K0) = (and (and (+ rsel) (+ RES)) (and (or (+ r0) false) (+ r0))))\n",
      "((- K0)\n",
      " =\n",
      " (or (or (- rsel) (- RES))\n",
      "     (or (and (- r0) (or (- rsel) (or (- RES) (+ rsel)))) (- r0))))\n"
     ]
    }
   ],
   "source": [
    "(define/ppl case3-step6\n",
    " propigate/remove* case3-step5\n",
    " (+ rem) (- rem)\n",
    " (+ lem) (- lem)\n",
    " (+ right) (- right))"
   ]
  },
  {
   "cell_type": "code",
   "execution_count": 34,
   "metadata": {},
   "outputs": [
    {
     "name": "stdout",
     "output_type": "stream",
     "text": [
      "((+ SEL) = (+ rsel))\n",
      "((- SEL) = (- rsel))\n",
      "((+ K0) = (and (and (+ rsel) (+ RES)) (+ r0)))\n",
      "((- K0) = (or (or (- rsel) (- RES)) (- r0)))\n"
     ]
    }
   ],
   "source": [
    "(define/ppl case3-step7\n",
    " replace* case3-step6\n",
    " [(and (or (+ r0) false) (+ r0))\n",
    "  (+ r0)]\n",
    " [(or (and (- r0) (or (- rsel) (or (- RES) (+ rsel)))) (- r0))\n",
    "  (- r0)])\n",
    "  "
   ]
  },
  {
   "cell_type": "markdown",
   "metadata": {},
   "source": [
    "## QED"
   ]
  },
  {
   "cell_type": "code",
   "execution_count": 35,
   "metadata": {},
   "outputs": [
    {
     "name": "stdout",
     "output_type": "stream",
     "text": [
      "((+ SEL) = (+ rsel))\n",
      "((- SEL) = (- rsel))\n",
      "((+ K0)\n",
      " =\n",
      " (and (or (+ GO) (+ lem)) (and (or (+ r0) (+ rem)) (or (+ GO) (+ r0)))))\n",
      "((- K0)\n",
      " =\n",
      " (or (and (- GO) (- lem)) (or (and (- r0) (- rem)) (and (- GO) (- r0)))))\n",
      "((+ lem) = (and (+ SEL) (+ RES)))\n",
      "((- lem) = (or (- SEL) (- RES)))\n",
      "((+ rem) = (and (+ SEL) (and (+ RES) (- rsel))))\n",
      "((- rem) = (or (- SEL) (or (- RES) (+ rsel))))\n"
     ]
    }
   ],
   "source": [
    "(define/ppl simp1\n",
    "  propigate/remove*\n",
    "  step-before-case\n",
    "  (+ both) (- both) \n",
    "  (+ left) (- left)\n",
    "  (+ right) (- right))"
   ]
  },
  {
   "cell_type": "code",
   "execution_count": 36,
   "metadata": {},
   "outputs": [
    {
     "name": "stdout",
     "output_type": "stream",
     "text": [
      "((+ SEL) = (+ rsel))\n",
      "((- SEL) = (- rsel))\n",
      "((+ K0)\n",
      " =\n",
      " (and (or (+ GO) (+ lem)) (and (or (+ r0) (+ rem)) (or (+ GO) (+ r0)))))\n",
      "((- K0)\n",
      " =\n",
      " (or (and (- GO) (- lem)) (or (and (- r0) (- rem)) (and (- GO) (- r0)))))\n",
      "((+ lem) = (and (+ rsel) (+ RES)))\n",
      "((- lem) = (or (- rsel) (- RES)))\n",
      "((+ rem) = (and (+ rsel) (and (+ RES) (- rsel))))\n",
      "((- rem) = (or (- rsel) (or (- RES) (+ rsel))))\n"
     ]
    }
   ],
   "source": [
    "(define/ppl simp2\n",
    "  propigate*\n",
    "  simp1\n",
    "  (+ SEL) (- SEL))"
   ]
  },
  {
   "cell_type": "code",
   "execution_count": 37,
   "metadata": {},
   "outputs": [
    {
     "name": "stdout",
     "output_type": "stream",
     "text": [
      "((+ SEL) = (+ rsel))\n",
      "((- SEL) = (- rsel))\n",
      "((+ K0) = (and (or (+ GO) (+ lem)) (or (+ r0) (and (+ rem) (+ GO)))))\n",
      "((- K0) = (or (and (- GO) (- lem)) (and (- r0) (or (- rem) (- GO)))))\n",
      "((+ lem) = (and (+ rsel) (+ RES)))\n",
      "((- lem) = (or (- rsel) (- RES)))\n",
      "((+ rem) = false)\n",
      "((- rem) = (or (- rsel) (or (- RES) (+ rsel))))\n"
     ]
    }
   ],
   "source": [
    "(define/ppl simp3\n",
    "  replace*\n",
    "  simp2\n",
    "  [(and (or (+ r0) (+ rem)) (or (+ GO) (+ r0)))\n",
    "   (or (+ r0) (and (+ rem) (+ GO)))]\n",
    "  [(or (and (- r0) (- rem)) (and (- GO) (- r0)))\n",
    "   (and (- r0) (or (- rem) (- GO)))]\n",
    "  [(and (+ rsel) (and (+ RES) (- rsel)))\n",
    "   false])"
   ]
  },
  {
   "cell_type": "code",
   "execution_count": 38,
   "metadata": {},
   "outputs": [
    {
     "name": "stdout",
     "output_type": "stream",
     "text": [
      "((+ SEL) = (+ rsel))\n",
      "((- SEL) = (- rsel))\n",
      "((+ K0)\n",
      " =\n",
      " (and (or (+ GO) (and (+ rsel) (+ RES))) (or (+ r0) (and false (+ GO)))))\n",
      "((- K0)\n",
      " =\n",
      " (or (and (- GO) (or (- rsel) (- RES)))\n",
      "     (and (- r0) (or (or (- rsel) (or (- RES) (+ rsel))) (- GO)))))\n"
     ]
    }
   ],
   "source": [
    "(define/ppl simp4\n",
    "  propigate/remove*\n",
    "  simp3\n",
    "  (+ lem) (- lem)\n",
    "  (+ rem) (- rem))"
   ]
  },
  {
   "cell_type": "code",
   "execution_count": 39,
   "metadata": {},
   "outputs": [
    {
     "name": "stdout",
     "output_type": "stream",
     "text": [
      "((+ SEL) = (+ rsel))\n",
      "((- SEL) = (- rsel))\n",
      "((+ K0) = (and (or (+ GO) (and (+ rsel) (+ RES))) (+ r0)))\n",
      "((- K0)\n",
      " =\n",
      " (or (and (- GO) (or (- rsel) (- RES)))\n",
      "     (and (- r0) (or (or (- rsel) (- RES)) (or (+ rsel) (- GO))))))\n"
     ]
    }
   ],
   "source": [
    "(define/ppl simp5\n",
    "  replace* simp4\n",
    "  [(or (+ r0) (and false (+ GO))) (+ r0)]\n",
    "  [(or (or (- rsel) (or (- RES) (+ rsel))) (- GO))\n",
    "   (or (or (- rsel) (- RES)) (or (+ rsel) (- GO)))])"
   ]
  },
  {
   "cell_type": "code",
   "execution_count": 40,
   "metadata": {},
   "outputs": [
    {
     "name": "stdout",
     "output_type": "stream",
     "text": [
      "((+ SEL) = (+ rsel))\n",
      "((- SEL) = (- rsel))\n",
      "((+ K0) = (and (+ r0) (or (+ GO) (and (+ rsel) (+ RES)))))\n",
      "((- K0)\n",
      " =\n",
      " (or (and (- GO) (or (- rsel) (- RES)))\n",
      "     (and (- r0) (or (or (- rsel) (- RES)) (or (+ rsel) (- GO))))))\n"
     ]
    }
   ],
   "source": [
    "(define/ppl simp6\n",
    "  replace* simp5\n",
    "  [(and (or (+ GO) (and (+ rsel) (+ RES))) (+ r0))\n",
    "   (and (+ r0) (or (+ GO) (and (+ rsel) (+ RES))))])\n",
    "   "
   ]
  },
  {
   "cell_type": "code",
   "execution_count": 41,
   "metadata": {},
   "outputs": [
    {
     "name": "stdout",
     "output_type": "stream",
     "text": [
      "((+ SEL) = (+ rsel))\n",
      "((- SEL) = (- rsel))\n",
      "((+ K0) = (and (+ r0) (or (+ GO) (and (+ rsel) (+ RES)))))\n",
      "((- K0)\n",
      " =\n",
      " (and (or (- GO) (or (- RES) (or (- rsel) (+ rsel))))\n",
      "      (and (or (- GO) (- r0)) (or (- rsel) (or (- RES) (- r0))))))\n"
     ]
    }
   ],
   "source": [
    "(define/ppl simp7\n",
    "  replace* simp6\n",
    "  [(or (and (- GO) (or (- rsel) (- RES)))\n",
    "       (and (- r0) (or (or (- rsel) (- RES)) (or (+ rsel) (- GO)))))\n",
    "   ;; CNF\n",
    "   (and (or (- GO) (or (- RES) (or (- rsel) (+ rsel))))\n",
    "        (and (or (- GO) (- r0)) \n",
    "             (or (- rsel) (or (- RES) (- r0)))))])"
   ]
  },
  {
   "cell_type": "code",
   "execution_count": 42,
   "metadata": {},
   "outputs": [
    {
     "name": "stdout",
     "output_type": "stream",
     "text": [
      "((+ SEL) = (+ rsel))\n",
      "((- SEL) = (- rsel))\n",
      "((+ K0) = (and (+ r0) (or (+ GO) (and (+ rsel) (+ RES)))))\n",
      "((- K0)\n",
      " =\n",
      " (and (or (- GO) (or (- RES) (or (- rsel) (+ rsel))))\n",
      "      (or (- r0) (and (- GO) (or (- rsel) (- RES))))))\n"
     ]
    }
   ],
   "source": [
    "(define/ppl simp8\n",
    "  replace* simp7\n",
    "  [(and (or (- GO) (- r0)) \n",
    "        (or (- rsel) (or (- RES) (- r0))))\n",
    "   (or (- r0)\n",
    "       (and (- GO) (or (- rsel) (- RES))))])\n",
    "   "
   ]
  },
  {
   "cell_type": "code",
   "execution_count": 43,
   "metadata": {},
   "outputs": [
    {
     "name": "stdout",
     "output_type": "stream",
     "text": [
      "((+ SEL) = (+ rsel))\n",
      "((- SEL) = (- rsel))\n",
      "((+ is-res) = (and (+ rsel) (+ RES)))\n",
      "((- is-res) = (or (- rsel) (- RES)))\n",
      "((+ active) = (or (+ GO) (+ is-res)))\n",
      "((- active) = (and (- GO) (- is-res)))\n",
      "((+ K0) = (and (+ r0) (+ active)))\n",
      "((- K0)\n",
      " =\n",
      " (and (or (- GO) (or (- RES) (or (- rsel) (+ rsel)))) (or (- r0) (- active))))\n"
     ]
    }
   ],
   "source": [
    "(define/ppl expanded #:no-check\n",
    " (((+ SEL) = (+ rsel))\n",
    "  ((- SEL) = (- rsel))\n",
    "  ((+ is-res) = (and (+ rsel) (+ RES)))\n",
    "  ((- is-res) = (or (- rsel) (- RES)))\n",
    "  ((+ active) = (or (+ GO) (+ is-res)))\n",
    "  ((- active) = (and (- GO) (- is-res)))\n",
    "  ((+ K0) = (and (+ r0) (+ active)))\n",
    "  ((- K0)\n",
    "   =\n",
    "   (and (or (- GO) (or (- RES) (or (- rsel) (+ rsel))))\n",
    "        (or (- r0) (- active))))))"
   ]
  },
  {
   "cell_type": "markdown",
   "metadata": {},
   "source": [
    "Hypothesis: `(or (- SEL) (+ SEL))` is true for all circuits, (essientially, SEL is always defined). This gives us:\n",
    "\n",
    "```\n",
    "((+ K0) = (and (+ r0) (+ active)))\n",
    "((- K0) = (or (- r0) (- active))))\n",
    " ```\n",
    "\n",
    "or, in the construtive formulation\n",
    "\n",
    "```\n",
    "(K0 = (and r0 active))\n",
    "```.\n",
    "\n",
    "Theorem: `K0 => active` for all circuits: that is unless something is being resumed or initially activatd it cannot K0. This is follows from Posulate 1. \n",
    "\n",
    "Thus, if Hypothesis 1 holds, then K0 = R0, and we are done."
   ]
  },
  {
   "cell_type": "code",
   "execution_count": null,
   "metadata": {
    "collapsed": true
   },
   "outputs": [],
   "source": []
  },
  {
   "cell_type": "code",
   "execution_count": null,
   "metadata": {
    "collapsed": true
   },
   "outputs": [],
   "source": []
  }
 ],
 "metadata": {
  "kernelspec": {
   "display_name": "Racket",
   "language": "racket",
   "name": "racket"
  },
  "language_info": {
   "codemirror_mode": "scheme",
   "file_extension": ".rkt",
   "mimetype": "text/x-racket",
   "name": "Racket",
   "pygments_lexer": "racket",
   "version": "7.3.0.3"
  }
 },
 "nbformat": 4,
 "nbformat_minor": 2
}
