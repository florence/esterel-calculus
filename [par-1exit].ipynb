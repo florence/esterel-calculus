{
 "cells": [
  {
   "cell_type": "code",
   "execution_count": 1,
   "metadata": {
    "collapsed": true
   },
   "outputs": [],
   "source": [
    "(require booleans redex/reduction-semantics)"
   ]
  },
  {
   "cell_type": "markdown",
   "metadata": {},
   "source": [
    "Specialize to kn+2 = 2 for now"
   ]
  },
  {
   "cell_type": "code",
   "execution_count": 2,
   "metadata": {
    "scrolled": false
   },
   "outputs": [
    {
     "name": "stdout",
     "output_type": "stream",
     "text": [
      "(lem = (and SEL (and RES (not false))))\n",
      "(l0 = false)\n",
      "(l1 = false)\n",
      "(l2 = GO)\n",
      "(rem = (and SEL (and RES (not r-sel))))\n",
      "(r0 = (and reg-out RES))\n",
      "(r1 = GO)\n",
      "(r2 = false)\n",
      "(r-sel = reg-out)\n",
      "(reg-in = (and (not do-kill) reg-set))\n",
      "(reg-set = (or GO is-susp))\n",
      "(is-susp = (and SUSP r-sel))\n",
      "(do-kill = (or KILL I2))\n",
      "(K0 = (or I0 I2))\n",
      "(K1 = I1)\n",
      "(SEL = reg-out)\n",
      "(left0 = (or l0 lem))\n",
      "(both0 = (or l0 r0))\n",
      "(right0 = (or r0 rem))\n",
      "(I0 = (and left0 (and both0 right0)))\n",
      "(left1 = (or left0 l1))\n",
      "(both1 = (or l1 r1))\n",
      "(right1 = (or right0 r1))\n",
      "(I1 = (and left1 (and both1 right1)))\n",
      "(left2 = (or left1 l2))\n",
      "(both2 = (or l2 r2))\n",
      "(right2 = (or right1 r2))\n",
      "(I2 = (and left2 (and both2 right2)))\n"
     ]
    }
   ],
   "source": [
    "(define/ppl start #:no-check\n",
    " (;; exit 2\n",
    "  (lem = (and SEL (and RES (not false))))\n",
    "  (l0 = false)\n",
    "  (l1 = false)\n",
    "  (l2 = GO)\n",
    "  ;; pause\n",
    "  (rem = (and SEL (and RES (not r-sel))))\n",
    "  (r0 = (and reg-out RES))\n",
    "  (r1 = GO)\n",
    "  (r2 = false)\n",
    "  (r-sel = reg-out)\n",
    "  (reg-in = (and (not do-kill) reg-set))\n",
    "  (reg-set = (or GO is-susp))\n",
    "  (is-susp = (and SUSP r-sel))\n",
    "  (do-kill = (or KILL I2))\n",
    "  \n",
    "  ;; trap\n",
    "  (K0 = (or I0 I2))\n",
    "  (K1 = I1)\n",
    "  \n",
    "  (SEL = reg-out)\n",
    "  ;; synchronizer\n",
    "  (left0 = (or l0 lem))\n",
    "  (both0 = (or l0 r0))\n",
    "  (right0 = (or r0 rem))\n",
    "  (I0 = (and left0 (and both0 right0)))\n",
    "  (left1 = (or left0 l1))\n",
    "  (both1 = (or l1 r1))\n",
    "  (right1 = (or right0 r1))\n",
    "  (I1 = (and left1 (and both1 right1)))\n",
    "  (left2 = (or left1 l2))\n",
    "  (both2 = (or l2 r2))\n",
    "  (right2 = (or right1 r2))\n",
    "  (I2 = (and left2 (and both2 right2)))))\n",
    "  "
   ]
  },
  {
   "cell_type": "code",
   "execution_count": 3,
   "metadata": {
    "scrolled": true
   },
   "outputs": [
    {
     "name": "stdout",
     "output_type": "stream",
     "text": [
      "(K0 = GO)\n",
      "(K1 = false)\n",
      "(SEL = false)\n"
     ]
    }
   ],
   "source": [
    "(define/ppl end #:no-check\n",
    "  ((K0 = GO)\n",
    "   (K1 = false)\n",
    "   (SEL = false)))"
   ]
  },
  {
   "cell_type": "code",
   "execution_count": 4,
   "metadata": {},
   "outputs": [
    {
     "name": "stdout",
     "output_type": "stream",
     "text": [
      "(lem = (and SEL (and RES (not false))))\n",
      "(l0 = false)\n",
      "(l1 = false)\n",
      "(l2 = GO)\n",
      "(rem = (and SEL (and RES (not r-sel))))\n",
      "(r0 = (and false RES))\n",
      "(r1 = GO)\n",
      "(r2 = false)\n",
      "(r-sel = false)\n",
      "(reg-in = (and (not do-kill) reg-set))\n",
      "(reg-set = (or GO is-susp))\n",
      "(is-susp = (and SUSP r-sel))\n",
      "(do-kill = (or KILL I2))\n",
      "(K0 = (or I0 I2))\n",
      "(K1 = I1)\n",
      "(SEL = false)\n",
      "(left0 = (or l0 lem))\n",
      "(both0 = (or l0 r0))\n",
      "(right0 = (or r0 rem))\n",
      "(I0 = (and left0 (and both0 right0)))\n",
      "(left1 = (or left0 l1))\n",
      "(both1 = (or l1 r1))\n",
      "(right1 = (or right0 r1))\n",
      "(I1 = (and left1 (and both1 right1)))\n",
      "(left2 = (or left1 l2))\n",
      "(both2 = (or l2 r2))\n",
      "(right2 = (or right1 r2))\n",
      "(I2 = (and left2 (and both2 right2)))\n"
     ]
    }
   ],
   "source": [
    "(define/ppl start/instant1 #:no-check\n",
    "  (replace* start [reg-out false]))"
   ]
  },
  {
   "cell_type": "code",
   "execution_count": 5,
   "metadata": {
    "collapsed": true
   },
   "outputs": [],
   "source": [
    "(assert-same (term start/instant1) (term end))"
   ]
  },
  {
   "cell_type": "code",
   "execution_count": null,
   "metadata": {
    "collapsed": true
   },
   "outputs": [],
   "source": []
  }
 ],
 "metadata": {
  "kernelspec": {
   "display_name": "Racket",
   "language": "racket",
   "name": "racket"
  },
  "language_info": {
   "codemirror_mode": "scheme",
   "file_extension": ".rkt",
   "mimetype": "text/x-racket",
   "name": "Racket",
   "pygments_lexer": "racket",
   "version": "7.3.0.3"
  }
 },
 "nbformat": 4,
 "nbformat_minor": 2
}
