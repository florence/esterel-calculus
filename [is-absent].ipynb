{
 "cells": [
  {
   "cell_type": "code",
   "execution_count": 1,
   "metadata": {
    "collapsed": true
   },
   "outputs": [],
   "source": [
    "(require booleans redex/reduction-semantics)"
   ]
  },
  {
   "cell_type": "code",
   "execution_count": 16,
   "metadata": {},
   "outputs": [
    {
     "name": "stdout",
     "output_type": "stream",
     "text": [
      "(SEL = q_SEL)\n",
      "(K0 = q_K0)\n",
      "(Kn = q_Kn)\n"
     ]
    }
   ],
   "source": [
    "(define/ppl q #:no-check\n",
    "  ((SEL = q_SEL)\n",
    "   (K0 = q_K0)\n",
    "   (Kn = q_Kn)))"
   ]
  },
  {
   "cell_type": "code",
   "execution_count": 17,
   "metadata": {},
   "outputs": [
    {
     "name": "stdout",
     "output_type": "stream",
     "text": [
      "(p_GO = (and GO S))\n",
      "(p_RES = RES)\n",
      "(q_GO = (and GO (not S)))\n",
      "(q_RES = RES)\n",
      "(SEL = (or p_SEL q_SEL))\n",
      "(K0 = (or p_K0 q_K0))\n",
      "(Kn = (or p_Kn q_Kn))\n"
     ]
    }
   ],
   "source": [
    "(define/ppl start #:no-check\n",
    "  (;; p\n",
    "   (p_GO = (and GO S))\n",
    "   (p_RES = RES)\n",
    "   ;; these wires are not needed for the proof, and are never read so we can \n",
    "   ;; ignore them\n",
    "   ;(p_SUSP = SUSP)\n",
    "   ;(p_KILL = KILL)\n",
    "   ;; q\n",
    "   (q_GO = (and GO (not S)))\n",
    "   (q_RES = RES)\n",
    "   ;; these wires are not needed for the proof, and are never read so we can \n",
    "   ;; ignore them\n",
    "   ;(q_SUSP = SUSP)\n",
    "   ;(q_KILL = KILL)\n",
    "   ;; out\n",
    "   (SEL = (or p_SEL q_SEL))\n",
    "   (K0 = (or p_K0 q_K0))\n",
    "   (Kn = (or p_Kn q_Kn))))\n",
    "        "
   ]
  },
  {
   "cell_type": "markdown",
   "metadata": {},
   "source": [
    "By [S-consistent], we know S is false."
   ]
  },
  {
   "cell_type": "code",
   "execution_count": 18,
   "metadata": {},
   "outputs": [
    {
     "name": "stdout",
     "output_type": "stream",
     "text": [
      "(p_GO = (and GO false))\n",
      "(p_RES = RES)\n",
      "(q_GO = (and GO (not false)))\n",
      "(q_RES = RES)\n",
      "(SEL = (or p_SEL q_SEL))\n",
      "(K0 = (or p_K0 q_K0))\n",
      "(Kn = (or p_Kn q_Kn))\n"
     ]
    }
   ],
   "source": [
    "(define/ppl add-S #:no-check\n",
    "  (replace* start [S false]))"
   ]
  },
  {
   "cell_type": "markdown",
   "metadata": {},
   "source": [
    "Now we do induction over instants\n",
    "\n",
    "## Case 1: Instant 0"
   ]
  },
  {
   "cell_type": "code",
   "execution_count": 19,
   "metadata": {},
   "outputs": [
    {
     "name": "stdout",
     "output_type": "stream",
     "text": [
      "(p_GO = (and GO false))\n",
      "(p_RES = RES)\n",
      "(q_GO = (and GO (not false)))\n",
      "(q_RES = RES)\n",
      "(SEL = (or false q_SEL))\n",
      "(K0 = (or p_K0 q_K0))\n",
      "(Kn = (or p_Kn q_Kn))\n"
     ]
    }
   ],
   "source": [
    "(define/ppl first-instant #:no-check\n",
    "  (replace* add-S [p_SEL false]))"
   ]
  },
  {
   "cell_type": "markdown",
   "metadata": {},
   "source": [
    "Now convert to TVF"
   ]
  },
  {
   "cell_type": "code",
   "execution_count": 20,
   "metadata": {},
   "outputs": [
    {
     "name": "stdout",
     "output_type": "stream",
     "text": [
      "((+ p_GO) = (and (+ GO) false))\n",
      "((- p_GO) = (or (- GO) true))\n",
      "((+ p_RES) = (+ RES))\n",
      "((- p_RES) = (- RES))\n",
      "((+ q_GO) = (and (+ GO) true))\n",
      "((- q_GO) = (or (- GO) false))\n",
      "((+ q_RES) = (+ RES))\n",
      "((- q_RES) = (- RES))\n",
      "((+ SEL) = (or false (+ q_SEL)))\n",
      "((- SEL) = (and true (- q_SEL)))\n",
      "((+ K0) = (or (+ p_K0) (+ q_K0)))\n",
      "((- K0) = (and (- p_K0) (- q_K0)))\n",
      "((+ Kn) = (or (+ p_Kn) (+ q_Kn)))\n",
      "((- Kn) = (and (- p_Kn) (- q_Kn)))\n"
     ]
    }
   ],
   "source": [
    "(define/ppl converted #:no-check\n",
    "  (convert-P first-instant))"
   ]
  },
  {
   "cell_type": "code",
   "execution_count": 21,
   "metadata": {},
   "outputs": [
    {
     "name": "stdout",
     "output_type": "stream",
     "text": [
      "((+ p_GO) = false)\n",
      "((- p_GO) = true)\n",
      "((+ p_RES) = (+ RES))\n",
      "((- p_RES) = (- RES))\n",
      "((+ q_GO) = (+ GO))\n",
      "((- q_GO) = (- GO))\n",
      "((+ q_RES) = (+ RES))\n",
      "((- q_RES) = (- RES))\n",
      "((+ SEL) = (or false (+ q_SEL)))\n",
      "((- SEL) = (and true (- q_SEL)))\n",
      "((+ K0) = (or (+ p_K0) (+ q_K0)))\n",
      "((- K0) = (and (- p_K0) (- q_K0)))\n",
      "((+ Kn) = (or (+ p_Kn) (+ q_Kn)))\n",
      "((- Kn) = (and (- p_Kn) (- q_Kn)))\n"
     ]
    }
   ],
   "source": [
    "(define/ppl case1-simplify1\n",
    "  replace* converted\n",
    "  [(and (+ GO) true) (+ GO)]\n",
    "  [(or (- GO) false) (- GO)]\n",
    "  [(and (+ GO) false) false]\n",
    "  [(or (- GO) true) true]\n",
    "  [(or (+ p_SEL) false) (+ p_SEL)]\n",
    "  [(and (- p_SEL) true) (- p_SEL)])"
   ]
  },
  {
   "cell_type": "markdown",
   "metadata": {},
   "source": [
    "Note that ¬( GO ∨ (RES ∧ SEL)) is true for q (as GO and SEL are false). Therefore all outputs of p are false."
   ]
  },
  {
   "cell_type": "code",
   "execution_count": 22,
   "metadata": {},
   "outputs": [
    {
     "name": "stdout",
     "output_type": "stream",
     "text": [
      "((+ p_GO) = false)\n",
      "((- p_GO) = true)\n",
      "((+ p_RES) = (+ RES))\n",
      "((- p_RES) = (- RES))\n",
      "((+ q_GO) = (+ GO))\n",
      "((- q_GO) = (- GO))\n",
      "((+ q_RES) = (+ RES))\n",
      "((- q_RES) = (- RES))\n",
      "((+ SEL) = (or false (+ q_SEL)))\n",
      "((- SEL) = (and true (- q_SEL)))\n",
      "((+ K0) = (or false (+ q_K0)))\n",
      "((- K0) = (and true (- q_K0)))\n",
      "((+ Kn) = (or false (+ q_Kn)))\n",
      "((- Kn) = (and true (- q_Kn)))\n"
     ]
    }
   ],
   "source": [
    "(define/ppl all-false #:no-check\n",
    "  (replace* case1-simplify1\n",
    "   [(+ p_K0) false] [(- p_K0) true]\n",
    "   [(+ p_Kn) false] [(- p_Kn) true]))"
   ]
  },
  {
   "cell_type": "code",
   "execution_count": 23,
   "metadata": {},
   "outputs": [
    {
     "name": "stdout",
     "output_type": "stream",
     "text": [
      "((+ p_GO) = false)\n",
      "((- p_GO) = true)\n",
      "((+ p_RES) = (+ RES))\n",
      "((- p_RES) = (- RES))\n",
      "((+ q_GO) = (+ GO))\n",
      "((- q_GO) = (- GO))\n",
      "((+ q_RES) = (+ RES))\n",
      "((- q_RES) = (- RES))\n",
      "((+ SEL) = (or false (+ q_SEL)))\n",
      "((- SEL) = (and true (- q_SEL)))\n",
      "((+ K0) = (+ q_K0))\n",
      "((- K0) = (- q_K0))\n",
      "((+ Kn) = (+ q_Kn))\n",
      "((- Kn) = (- q_Kn))\n"
     ]
    }
   ],
   "source": [
    "(define/ppl case1-simplify2\n",
    "  replace* all-false\n",
    "  [(or false (+ q_K0)) (+ q_K0)]\n",
    "  [(and true (- q_K0)) (- q_K0)]\n",
    "  [(or false (+ q_Kn)) (+ q_Kn)]\n",
    "  [(and true (- q_Kn)) (- q_Kn)])"
   ]
  },
  {
   "cell_type": "code",
   "execution_count": 24,
   "metadata": {
    "collapsed": true
   },
   "outputs": [],
   "source": [
    "(assert-same (term case1-simplify2) (term (convert-P q)))"
   ]
  },
  {
   "cell_type": "markdown",
   "metadata": {},
   "source": [
    "## Case 2: Future instants\n",
    "\n",
    "By [sel-later] we know that in future instant's p_SEL is still false. In addition p_GO will also still be false because S is false. Thus the same reasoning applies to all instants."
   ]
  },
  {
   "cell_type": "code",
   "execution_count": null,
   "metadata": {
    "collapsed": true
   },
   "outputs": [],
   "source": []
  },
  {
   "cell_type": "code",
   "execution_count": null,
   "metadata": {
    "collapsed": true
   },
   "outputs": [],
   "source": []
  }
 ],
 "metadata": {
  "kernelspec": {
   "display_name": "Racket",
   "language": "racket",
   "name": "racket"
  },
  "language_info": {
   "codemirror_mode": "scheme",
   "file_extension": ".rkt",
   "mimetype": "text/x-racket",
   "name": "Racket",
   "pygments_lexer": "racket",
   "version": "7.3.0.3"
  }
 },
 "nbformat": 4,
 "nbformat_minor": 2
}
