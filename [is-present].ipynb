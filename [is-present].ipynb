{
 "cells": [
  {
   "cell_type": "code",
   "execution_count": 1,
   "metadata": {
    "collapsed": true
   },
   "outputs": [],
   "source": [
    "(require booleans redex/reduction-semantics)\n",
    "(set-cache-size! 200)"
   ]
  },
  {
   "cell_type": "markdown",
   "metadata": {},
   "source": [
    "Some possibly helpful laws:\n",
    "\n",
    "- Posulate 1: `¬( GO ∨ (RES ∧ SEL))` implies all `E'` is `0` and all `kn` are `0`.\n",
    "- - Correlary 1: This holds for `¬(GO ∨ SEL)`\n",
    "- - Correlary 2: This holds for `¬(GO ∨ RES)`\n",
    "- Postulate 2: forall `n` `m`, `m != n`, `¬ (kn ^ km)`, that is at most one `k` wire is selected. (Note: This might be wrong, if GO is given to a selected and resumed pause... this should not be allowed but im not sure...)\n"
   ]
  },
  {
   "cell_type": "code",
   "execution_count": 2,
   "metadata": {},
   "outputs": [
    {
     "name": "stdout",
     "output_type": "stream",
     "text": [
      "(SEL = p_SEL)\n",
      "(K0 = p_K0)\n",
      "(Kn = p_Kn)\n"
     ]
    }
   ],
   "source": [
    "(define/ppl p #:no-check\n",
    "  ((SEL = p_SEL)\n",
    "   (K0 = p_K0)\n",
    "   (Kn = p_Kn)))"
   ]
  },
  {
   "cell_type": "code",
   "execution_count": 3,
   "metadata": {},
   "outputs": [
    {
     "name": "stdout",
     "output_type": "stream",
     "text": [
      "(p_GO = (and GO S))\n",
      "(p_RES = RES)\n",
      "(q_GO = (and GO (not S)))\n",
      "(q_RES = RES)\n",
      "(SEL = (or p_SEL q_SEL))\n",
      "(K0 = (or p_K0 q_K0))\n",
      "(Kn = (or p_Kn q_Kn))\n"
     ]
    }
   ],
   "source": [
    "(define/ppl start #:no-check\n",
    "  (;; p\n",
    "   (p_GO = (and GO S))\n",
    "   (p_RES = RES)\n",
    "   ;; these wires are not needed for the proof, and are never read so we can \n",
    "   ;; ignore them\n",
    "   ;(p_SUSP = SUSP)\n",
    "   ;(p_KILL = KILL)\n",
    "   ;; q\n",
    "   (q_GO = (and GO (not S)))\n",
    "   (q_RES = RES)\n",
    "   ;; these wires are not needed for the proof, and are never read so we can \n",
    "   ;; ignore them\n",
    "   ;(q_SUSP = SUSP)\n",
    "   ;(q_KILL = KILL)\n",
    "   ;; out\n",
    "   (SEL = (or p_SEL q_SEL))\n",
    "   (K0 = (or p_K0 q_K0))\n",
    "   (Kn = (or p_Kn q_Kn))))\n",
    "        "
   ]
  },
  {
   "cell_type": "markdown",
   "metadata": {},
   "source": [
    "By [S-consistent] we know that S is true. "
   ]
  },
  {
   "cell_type": "code",
   "execution_count": 4,
   "metadata": {},
   "outputs": [
    {
     "name": "stdout",
     "output_type": "stream",
     "text": [
      "(p_GO = (and GO true))\n",
      "(p_RES = RES)\n",
      "(q_GO = (and GO (not true)))\n",
      "(q_RES = RES)\n",
      "(SEL = (or p_SEL q_SEL))\n",
      "(K0 = (or p_K0 q_K0))\n",
      "(Kn = (or p_Kn q_Kn))\n"
     ]
    }
   ],
   "source": [
    "(define/ppl add-S #:no-check\n",
    "  (replace* start [S true]))"
   ]
  },
  {
   "cell_type": "markdown",
   "metadata": {
    "collapsed": true
   },
   "source": [
    "Now, let us case dispatch on the first and future instants.\n",
    "\n",
    "# Case First Instant\n",
    "\n",
    "In the first instant, the SEL wires must be false, by [sel-start]. We only need to know about `q_SEL` though."
   ]
  },
  {
   "cell_type": "code",
   "execution_count": 5,
   "metadata": {},
   "outputs": [
    {
     "name": "stdout",
     "output_type": "stream",
     "text": [
      "(p_GO = (and GO true))\n",
      "(p_RES = RES)\n",
      "(q_GO = (and GO (not true)))\n",
      "(q_RES = RES)\n",
      "(SEL = (or p_SEL false))\n",
      "(K0 = (or p_K0 q_K0))\n",
      "(Kn = (or p_Kn q_Kn))\n"
     ]
    }
   ],
   "source": [
    "(define/ppl first-instant #:no-check\n",
    "  (replace* add-S [q_SEL false]))"
   ]
  },
  {
   "cell_type": "markdown",
   "metadata": {},
   "source": [
    "Now, to convert to TVF"
   ]
  },
  {
   "cell_type": "code",
   "execution_count": 6,
   "metadata": {
    "scrolled": true
   },
   "outputs": [
    {
     "name": "stdout",
     "output_type": "stream",
     "text": [
      "((+ p_GO) = (and (+ GO) true))\n",
      "((- p_GO) = (or (- GO) false))\n",
      "((+ p_RES) = (+ RES))\n",
      "((- p_RES) = (- RES))\n",
      "((+ q_GO) = (and (+ GO) false))\n",
      "((- q_GO) = (or (- GO) true))\n",
      "((+ q_RES) = (+ RES))\n",
      "((- q_RES) = (- RES))\n",
      "((+ SEL) = (or (+ p_SEL) false))\n",
      "((- SEL) = (and (- p_SEL) true))\n",
      "((+ K0) = (or (+ p_K0) (+ q_K0)))\n",
      "((- K0) = (and (- p_K0) (- q_K0)))\n",
      "((+ Kn) = (or (+ p_Kn) (+ q_Kn)))\n",
      "((- Kn) = (and (- p_Kn) (- q_Kn)))\n"
     ]
    }
   ],
   "source": [
    "(define/ppl converted #:no-check\n",
    "  (convert-P first-instant))"
   ]
  },
  {
   "cell_type": "code",
   "execution_count": 7,
   "metadata": {},
   "outputs": [
    {
     "name": "stdout",
     "output_type": "stream",
     "text": [
      "((+ p_GO) = (+ GO))\n",
      "((- p_GO) = (- GO))\n",
      "((+ p_RES) = (+ RES))\n",
      "((- p_RES) = (- RES))\n",
      "((+ q_GO) = false)\n",
      "((- q_GO) = true)\n",
      "((+ q_RES) = (+ RES))\n",
      "((- q_RES) = (- RES))\n",
      "((+ SEL) = (+ p_SEL))\n",
      "((- SEL) = (- p_SEL))\n",
      "((+ K0) = (or (+ p_K0) (+ q_K0)))\n",
      "((- K0) = (and (- p_K0) (- q_K0)))\n",
      "((+ Kn) = (or (+ p_Kn) (+ q_Kn)))\n",
      "((- Kn) = (and (- p_Kn) (- q_Kn)))\n"
     ]
    }
   ],
   "source": [
    "(define/ppl case1-simplify1\n",
    "  replace* converted\n",
    "  [(and (+ GO) true) (+ GO)]\n",
    "  [(or (- GO) false) (- GO)]\n",
    "  [(and (+ GO) false) false]\n",
    "  [(or (- GO) true) true]\n",
    "  [(or (+ p_SEL) false) (+ p_SEL)]\n",
    "  [(and (- p_SEL) true) (- p_SEL)])"
   ]
  },
  {
   "cell_type": "markdown",
   "metadata": {},
   "source": [
    "Note that `¬( GO ∨ (RES ∧ SEL))` is true for `q` (as `GO` and `SEL` are `false`). Therefore all outputs of `q` are false."
   ]
  },
  {
   "cell_type": "code",
   "execution_count": 8,
   "metadata": {},
   "outputs": [
    {
     "name": "stdout",
     "output_type": "stream",
     "text": [
      "((+ p_GO) = (+ GO))\n",
      "((- p_GO) = (- GO))\n",
      "((+ p_RES) = (+ RES))\n",
      "((- p_RES) = (- RES))\n",
      "((+ q_GO) = false)\n",
      "((- q_GO) = true)\n",
      "((+ q_RES) = (+ RES))\n",
      "((- q_RES) = (- RES))\n",
      "((+ SEL) = (+ p_SEL))\n",
      "((- SEL) = (- p_SEL))\n",
      "((+ K0) = (or (+ p_K0) false))\n",
      "((- K0) = (and (- p_K0) true))\n",
      "((+ Kn) = (or (+ p_Kn) false))\n",
      "((- Kn) = (and (- p_Kn) true))\n"
     ]
    }
   ],
   "source": [
    "(define/ppl all-false #:no-check\n",
    "  (replace* case1-simplify1\n",
    "   [(+ q_K0) false] [(- q_K0) true]\n",
    "   [(+ q_Kn) false] [(- q_Kn) true]))\n",
    "   "
   ]
  },
  {
   "cell_type": "code",
   "execution_count": 9,
   "metadata": {},
   "outputs": [
    {
     "name": "stdout",
     "output_type": "stream",
     "text": [
      "((+ p_GO) = (+ GO))\n",
      "((- p_GO) = (- GO))\n",
      "((+ p_RES) = (+ RES))\n",
      "((- p_RES) = (- RES))\n",
      "((+ q_GO) = false)\n",
      "((- q_GO) = true)\n",
      "((+ q_RES) = (+ RES))\n",
      "((- q_RES) = (- RES))\n",
      "((+ SEL) = (+ p_SEL))\n",
      "((- SEL) = (- p_SEL))\n",
      "((+ K0) = (+ p_K0))\n",
      "((- K0) = (- p_K0))\n",
      "((+ Kn) = (+ p_Kn))\n",
      "((- Kn) = (- p_Kn))\n"
     ]
    }
   ],
   "source": [
    "(define/ppl case1-simplify2\n",
    "  replace* all-false\n",
    "  [(or (+ p_K0) false) (+ p_K0)]\n",
    "  [(and (- p_K0) true) (- p_K0)]\n",
    "  [(or (+ p_Kn) false) (+ p_Kn)]\n",
    "  [(and (- p_Kn) true) (- p_Kn)])"
   ]
  },
  {
   "cell_type": "code",
   "execution_count": 10,
   "metadata": {
    "collapsed": true
   },
   "outputs": [],
   "source": [
    "(assert-same (term case1-simplify2) (term (convert-P p)))\n",
    "  "
   ]
  },
  {
   "cell_type": "markdown",
   "metadata": {},
   "source": [
    "# Case Later Instant\n",
    "\n",
    "By [sel-later] we know that in future instant's `q_SEL` is still false. In addition `q_GO` will also still be false because `S` is true. Thus the same reasoning applies to all instants.\n",
    "\n",
    "# QED"
   ]
  },
  {
   "cell_type": "code",
   "execution_count": null,
   "metadata": {
    "collapsed": true
   },
   "outputs": [],
   "source": []
  },
  {
   "cell_type": "code",
   "execution_count": null,
   "metadata": {
    "collapsed": true
   },
   "outputs": [],
   "source": []
  }
 ],
 "metadata": {
  "kernelspec": {
   "display_name": "Racket",
   "language": "racket",
   "name": "racket"
  },
  "language_info": {
   "codemirror_mode": "scheme",
   "file_extension": ".rkt",
   "mimetype": "text/x-racket",
   "name": "Racket",
   "pygments_lexer": "racket",
   "version": "7.3.0.3"
  }
 },
 "nbformat": 4,
 "nbformat_minor": 2
}
